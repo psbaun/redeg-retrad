{
 "cells": [
  {
   "cell_type": "code",
   "execution_count": 1,
   "id": "9c4cf78c",
   "metadata": {},
   "outputs": [],
   "source": [
    "import pandas as pd"
   ]
  },
  {
   "cell_type": "code",
   "execution_count": 11,
   "id": "dc969df6",
   "metadata": {},
   "outputs": [],
   "source": [
    "import spacy\n",
    "nlp = spacy.load('en_core_web_sm', disable=['parser', 'ner'])"
   ]
  },
  {
   "cell_type": "code",
   "execution_count": 3,
   "id": "35a5b3a3",
   "metadata": {},
   "outputs": [],
   "source": [
    "pd.set_option('display.max_colwidth', None)"
   ]
  },
  {
   "cell_type": "code",
   "execution_count": 4,
   "id": "d07648da",
   "metadata": {},
   "outputs": [],
   "source": [
    "com_1to50 = pd.read_csv('1to50.txt', sep=';', names = ['com'])"
   ]
  },
  {
   "cell_type": "code",
   "execution_count": 4,
   "id": "fb4e06e8",
   "metadata": {},
   "outputs": [],
   "source": [
    "com_51to100 = pd.read_csv('51to100.txt', sep=';', names = ['com'])"
   ]
  },
  {
   "cell_type": "code",
   "execution_count": 8,
   "id": "38ba3a90",
   "metadata": {},
   "outputs": [],
   "source": [
    "com_101to150 = pd.read_csv('101to150.txt', sep=';', names = ['com'])"
   ]
  },
  {
   "cell_type": "code",
   "execution_count": 7,
   "id": "285df288",
   "metadata": {},
   "outputs": [],
   "source": [
    "com_151to200 = pd.read_csv('151to200.txt', sep=';', names = ['com'])"
   ]
  },
  {
   "cell_type": "code",
   "execution_count": 8,
   "id": "d1e0fa74",
   "metadata": {},
   "outputs": [],
   "source": [
    "com_201to250 = pd.read_csv('201to250.txt', sep=';', names = ['com'])"
   ]
  },
  {
   "cell_type": "code",
   "execution_count": 9,
   "id": "85853698",
   "metadata": {},
   "outputs": [],
   "source": [
    "com_251to300 = pd.read_csv('251to300.txt', sep=';', names = ['com'])"
   ]
  },
  {
   "cell_type": "code",
   "execution_count": 10,
   "id": "ece0f65e",
   "metadata": {},
   "outputs": [],
   "source": [
    "com_301to350 = pd.read_csv('301to350.txt', sep=';', names = ['com'])"
   ]
  },
  {
   "cell_type": "code",
   "execution_count": 11,
   "id": "b626819c",
   "metadata": {},
   "outputs": [],
   "source": [
    "com_351to400 = pd.read_csv('351to400.txt', sep=';', names = ['com'])"
   ]
  },
  {
   "cell_type": "code",
   "execution_count": 12,
   "id": "fca6e436",
   "metadata": {},
   "outputs": [],
   "source": [
    "com_401to459 = pd.read_csv('401to459.txt', sep=';', names = ['com'])"
   ]
  },
  {
   "cell_type": "code",
   "execution_count": 13,
   "id": "7f396586",
   "metadata": {},
   "outputs": [],
   "source": [
    "com_460 = pd.read_csv('460.txt', sep=';', names = ['com'])"
   ]
  },
  {
   "cell_type": "code",
   "execution_count": 14,
   "id": "39346f2f",
   "metadata": {
    "scrolled": true
   },
   "outputs": [
    {
     "name": "stdout",
     "output_type": "stream",
     "text": [
      "7359402\n",
      "6495817\n",
      "7345526\n",
      "6673968\n",
      "10614056\n",
      "5984713\n",
      "6671185\n",
      "6142475\n",
      "7243614\n",
      "1187796\n"
     ]
    }
   ],
   "source": [
    "print(len(com_1to50))\n",
    "print(len(com_51to100))\n",
    "print(len(com_101to150))\n",
    "print(len(com_151to200))\n",
    "print(len(com_201to250))\n",
    "print(len(com_251to300))\n",
    "print(len(com_301to350))\n",
    "print(len(com_351to400))\n",
    "print(len(com_401to459))\n",
    "print(len(com_460))"
   ]
  },
  {
   "cell_type": "code",
   "execution_count": 15,
   "id": "4666bb6a",
   "metadata": {},
   "outputs": [
    {
     "data": {
      "text/plain": [
       "65718552"
      ]
     },
     "execution_count": 15,
     "metadata": {},
     "output_type": "execute_result"
    }
   ],
   "source": [
    "(len(com_1to50))+(len(com_51to100))+(len(com_101to150))+(len(com_151to200))+(len(com_201to250))+(len(com_251to300))+(len(com_301to350))+(len(com_351to400))+(len(com_401to459))+(len(com_460))"
   ]
  },
  {
   "cell_type": "code",
   "execution_count": 16,
   "id": "b78261e2",
   "metadata": {},
   "outputs": [
    {
     "name": "stdout",
     "output_type": "stream",
     "text": [
      "7359397\n",
      "6495817\n",
      "7345523\n",
      "6673963\n",
      "10614050\n",
      "5984708\n",
      "6671182\n",
      "6142473\n",
      "7243610\n",
      "1187795\n"
     ]
    }
   ],
   "source": [
    "com_1to50 = com_1to50.dropna()\n",
    "print(len(com_1to50['com']))\n",
    "\n",
    "com_51to100 = com_51to100.dropna()\n",
    "print(len(com_51to100['com']))\n",
    "\n",
    "com_101to150 = com_101to150.dropna()\n",
    "print(len(com_101to150['com']))\n",
    "\n",
    "com_151to200 = com_151to200.dropna()\n",
    "print(len(com_151to200['com']))\n",
    "\n",
    "com_201to250 = com_201to250.dropna()\n",
    "print(len(com_201to250['com']))\n",
    "\n",
    "com_251to300 = com_251to300.dropna()\n",
    "print(len(com_251to300['com']))\n",
    "\n",
    "com_301to350 = com_301to350.dropna()\n",
    "print(len(com_301to350['com']))\n",
    "\n",
    "com_351to400 = com_351to400.dropna()\n",
    "print(len(com_351to400['com']))\n",
    "\n",
    "com_401to459 = com_401to459.dropna()\n",
    "print(len(com_401to459['com']))\n",
    "\n",
    "com_460 = com_460.dropna()\n",
    "print(len(com_460['com']))"
   ]
  },
  {
   "cell_type": "code",
   "execution_count": 9,
   "id": "5316641f",
   "metadata": {},
   "outputs": [
    {
     "name": "stdout",
     "output_type": "stream",
     "text": [
      "7345523\n"
     ]
    }
   ],
   "source": [
    "com_101to150 = com_101to150.dropna()\n",
    "print(len(com_101to150['com']))"
   ]
  },
  {
   "cell_type": "code",
   "execution_count": 17,
   "id": "19499888",
   "metadata": {},
   "outputs": [
    {
     "data": {
      "text/plain": [
       "65718518"
      ]
     },
     "execution_count": 17,
     "metadata": {},
     "output_type": "execute_result"
    }
   ],
   "source": [
    "(len(com_1to50))+(len(com_51to100))+(len(com_101to150))+(len(com_151to200))+(len(com_201to250))+(len(com_251to300))+(len(com_301to350))+(len(com_351to400))+(len(com_401to459))+(len(com_460))"
   ]
  },
  {
   "cell_type": "code",
   "execution_count": 18,
   "id": "28da8528",
   "metadata": {},
   "outputs": [
    {
     "data": {
      "text/plain": [
       "34"
      ]
     },
     "execution_count": 18,
     "metadata": {},
     "output_type": "execute_result"
    }
   ],
   "source": [
    "65718552-65718518"
   ]
  },
  {
   "cell_type": "code",
   "execution_count": 20,
   "id": "330b318c",
   "metadata": {},
   "outputs": [],
   "source": [
    "com_1to50['com'] = com_1to50['com'].apply(lambda x: \" \".join([words.lemma_ for words in nlp(x)]))"
   ]
  },
  {
   "cell_type": "code",
   "execution_count": 6,
   "id": "2dd65ec5",
   "metadata": {},
   "outputs": [],
   "source": [
    "com_51to100['com'] = com_51to100['com'].apply(lambda x: \" \".join([words.lemma_ for words in nlp(x)]))"
   ]
  },
  {
   "cell_type": "code",
   "execution_count": null,
   "id": "0df64565",
   "metadata": {},
   "outputs": [],
   "source": [
    "com_101to150['com'] = com_101to150['com'].apply(lambda x: \" \".join([words.lemma_ for words in nlp(x)]))"
   ]
  },
  {
   "cell_type": "code",
   "execution_count": null,
   "id": "286e098d",
   "metadata": {},
   "outputs": [],
   "source": [
    "com_151to200['com'] = com_151to200['com'].apply(lambda x: \" \".join([words.lemma_ for words in nlp(x)]))"
   ]
  },
  {
   "cell_type": "code",
   "execution_count": null,
   "id": "8cc2219e",
   "metadata": {},
   "outputs": [],
   "source": [
    "com_201to250['com'] = com_201to250['com'].apply(lambda x: \" \".join([words.lemma_ for words in nlp(x)]))"
   ]
  },
  {
   "cell_type": "code",
   "execution_count": null,
   "id": "0040a89b",
   "metadata": {},
   "outputs": [],
   "source": [
    "com_251to300['com'] = com_251to300['com'].apply(lambda x: \" \".join([words.lemma_ for words in nlp(x)]))"
   ]
  },
  {
   "cell_type": "code",
   "execution_count": null,
   "id": "0eb6e1df",
   "metadata": {},
   "outputs": [],
   "source": [
    "com_301to350['com'] = com_301to350['com'].apply(lambda x: \" \".join([words.lemma_ for words in nlp(x)]))"
   ]
  },
  {
   "cell_type": "code",
   "execution_count": null,
   "id": "d497ef37",
   "metadata": {},
   "outputs": [],
   "source": [
    "com_351to400['com'] = com_351to400['com'].apply(lambda x: \" \".join([words.lemma_ for words in nlp(x)]))"
   ]
  },
  {
   "cell_type": "code",
   "execution_count": null,
   "id": "25b6dfa9",
   "metadata": {},
   "outputs": [],
   "source": [
    "com_401to459['com'] = com_401to459['com'].apply(lambda x: \" \".join([words.lemma_ for words in nlp(x)]))"
   ]
  },
  {
   "cell_type": "code",
   "execution_count": 26,
   "id": "5b74d7f7",
   "metadata": {},
   "outputs": [
    {
     "ename": "TypeError",
     "evalue": "object of type 'float' has no len()",
     "output_type": "error",
     "traceback": [
      "\u001b[1;31m---------------------------------------------------------------------------\u001b[0m",
      "\u001b[1;31mTypeError\u001b[0m                                 Traceback (most recent call last)",
      "\u001b[1;32m<ipython-input-26-d9d7c05d0c86>\u001b[0m in \u001b[0;36m<module>\u001b[1;34m\u001b[0m\n\u001b[1;32m----> 1\u001b[1;33m \u001b[0mcom_460\u001b[0m\u001b[1;33m[\u001b[0m\u001b[1;34m'com_lem'\u001b[0m\u001b[1;33m]\u001b[0m \u001b[1;33m=\u001b[0m \u001b[0mcom_460\u001b[0m\u001b[1;33m[\u001b[0m\u001b[1;34m'com'\u001b[0m\u001b[1;33m]\u001b[0m\u001b[1;33m.\u001b[0m\u001b[0mapply\u001b[0m\u001b[1;33m(\u001b[0m\u001b[1;32mlambda\u001b[0m \u001b[0mx\u001b[0m\u001b[1;33m:\u001b[0m \u001b[1;34m\" \"\u001b[0m\u001b[1;33m.\u001b[0m\u001b[0mjoin\u001b[0m\u001b[1;33m(\u001b[0m\u001b[1;33m[\u001b[0m\u001b[0mwords\u001b[0m\u001b[1;33m.\u001b[0m\u001b[0mlemma_\u001b[0m \u001b[1;32mfor\u001b[0m \u001b[0mwords\u001b[0m \u001b[1;32min\u001b[0m \u001b[0mnlp\u001b[0m\u001b[1;33m(\u001b[0m\u001b[0mx\u001b[0m\u001b[1;33m)\u001b[0m\u001b[1;33m]\u001b[0m\u001b[1;33m)\u001b[0m\u001b[1;33m)\u001b[0m\u001b[1;33m\u001b[0m\u001b[1;33m\u001b[0m\u001b[0m\n\u001b[0m",
      "\u001b[1;32m~\\anaconda3\\lib\\site-packages\\pandas\\core\\series.py\u001b[0m in \u001b[0;36mapply\u001b[1;34m(self, func, convert_dtype, args, **kwds)\u001b[0m\n\u001b[0;32m   4136\u001b[0m             \u001b[1;32melse\u001b[0m\u001b[1;33m:\u001b[0m\u001b[1;33m\u001b[0m\u001b[1;33m\u001b[0m\u001b[0m\n\u001b[0;32m   4137\u001b[0m                 \u001b[0mvalues\u001b[0m \u001b[1;33m=\u001b[0m \u001b[0mself\u001b[0m\u001b[1;33m.\u001b[0m\u001b[0mastype\u001b[0m\u001b[1;33m(\u001b[0m\u001b[0mobject\u001b[0m\u001b[1;33m)\u001b[0m\u001b[1;33m.\u001b[0m\u001b[0m_values\u001b[0m\u001b[1;33m\u001b[0m\u001b[1;33m\u001b[0m\u001b[0m\n\u001b[1;32m-> 4138\u001b[1;33m                 \u001b[0mmapped\u001b[0m \u001b[1;33m=\u001b[0m \u001b[0mlib\u001b[0m\u001b[1;33m.\u001b[0m\u001b[0mmap_infer\u001b[0m\u001b[1;33m(\u001b[0m\u001b[0mvalues\u001b[0m\u001b[1;33m,\u001b[0m \u001b[0mf\u001b[0m\u001b[1;33m,\u001b[0m \u001b[0mconvert\u001b[0m\u001b[1;33m=\u001b[0m\u001b[0mconvert_dtype\u001b[0m\u001b[1;33m)\u001b[0m\u001b[1;33m\u001b[0m\u001b[1;33m\u001b[0m\u001b[0m\n\u001b[0m\u001b[0;32m   4139\u001b[0m \u001b[1;33m\u001b[0m\u001b[0m\n\u001b[0;32m   4140\u001b[0m         \u001b[1;32mif\u001b[0m \u001b[0mlen\u001b[0m\u001b[1;33m(\u001b[0m\u001b[0mmapped\u001b[0m\u001b[1;33m)\u001b[0m \u001b[1;32mand\u001b[0m \u001b[0misinstance\u001b[0m\u001b[1;33m(\u001b[0m\u001b[0mmapped\u001b[0m\u001b[1;33m[\u001b[0m\u001b[1;36m0\u001b[0m\u001b[1;33m]\u001b[0m\u001b[1;33m,\u001b[0m \u001b[0mSeries\u001b[0m\u001b[1;33m)\u001b[0m\u001b[1;33m:\u001b[0m\u001b[1;33m\u001b[0m\u001b[1;33m\u001b[0m\u001b[0m\n",
      "\u001b[1;32mpandas\\_libs\\lib.pyx\u001b[0m in \u001b[0;36mpandas._libs.lib.map_infer\u001b[1;34m()\u001b[0m\n",
      "\u001b[1;32m<ipython-input-26-d9d7c05d0c86>\u001b[0m in \u001b[0;36m<lambda>\u001b[1;34m(x)\u001b[0m\n\u001b[1;32m----> 1\u001b[1;33m \u001b[0mcom_460\u001b[0m\u001b[1;33m[\u001b[0m\u001b[1;34m'com_lem'\u001b[0m\u001b[1;33m]\u001b[0m \u001b[1;33m=\u001b[0m \u001b[0mcom_460\u001b[0m\u001b[1;33m[\u001b[0m\u001b[1;34m'com'\u001b[0m\u001b[1;33m]\u001b[0m\u001b[1;33m.\u001b[0m\u001b[0mapply\u001b[0m\u001b[1;33m(\u001b[0m\u001b[1;32mlambda\u001b[0m \u001b[0mx\u001b[0m\u001b[1;33m:\u001b[0m \u001b[1;34m\" \"\u001b[0m\u001b[1;33m.\u001b[0m\u001b[0mjoin\u001b[0m\u001b[1;33m(\u001b[0m\u001b[1;33m[\u001b[0m\u001b[0mwords\u001b[0m\u001b[1;33m.\u001b[0m\u001b[0mlemma_\u001b[0m \u001b[1;32mfor\u001b[0m \u001b[0mwords\u001b[0m \u001b[1;32min\u001b[0m \u001b[0mnlp\u001b[0m\u001b[1;33m(\u001b[0m\u001b[0mx\u001b[0m\u001b[1;33m)\u001b[0m\u001b[1;33m]\u001b[0m\u001b[1;33m)\u001b[0m\u001b[1;33m)\u001b[0m\u001b[1;33m\u001b[0m\u001b[1;33m\u001b[0m\u001b[0m\n\u001b[0m",
      "\u001b[1;32m~\\anaconda3\\lib\\site-packages\\spacy\\language.py\u001b[0m in \u001b[0;36m__call__\u001b[1;34m(self, text, disable, component_cfg)\u001b[0m\n\u001b[0;32m    986\u001b[0m         \u001b[0mDOCS\u001b[0m\u001b[1;33m:\u001b[0m \u001b[0mhttps\u001b[0m\u001b[1;33m:\u001b[0m\u001b[1;33m//\u001b[0m\u001b[0mspacy\u001b[0m\u001b[1;33m.\u001b[0m\u001b[0mio\u001b[0m\u001b[1;33m/\u001b[0m\u001b[0mapi\u001b[0m\u001b[1;33m/\u001b[0m\u001b[0mlanguage\u001b[0m\u001b[1;31m#call\u001b[0m\u001b[1;33m\u001b[0m\u001b[1;33m\u001b[0m\u001b[0m\n\u001b[0;32m    987\u001b[0m         \"\"\"\n\u001b[1;32m--> 988\u001b[1;33m         \u001b[0mdoc\u001b[0m \u001b[1;33m=\u001b[0m \u001b[0mself\u001b[0m\u001b[1;33m.\u001b[0m\u001b[0mmake_doc\u001b[0m\u001b[1;33m(\u001b[0m\u001b[0mtext\u001b[0m\u001b[1;33m)\u001b[0m\u001b[1;33m\u001b[0m\u001b[1;33m\u001b[0m\u001b[0m\n\u001b[0m\u001b[0;32m    989\u001b[0m         \u001b[1;32mif\u001b[0m \u001b[0mcomponent_cfg\u001b[0m \u001b[1;32mis\u001b[0m \u001b[1;32mNone\u001b[0m\u001b[1;33m:\u001b[0m\u001b[1;33m\u001b[0m\u001b[1;33m\u001b[0m\u001b[0m\n\u001b[0;32m    990\u001b[0m             \u001b[0mcomponent_cfg\u001b[0m \u001b[1;33m=\u001b[0m \u001b[1;33m{\u001b[0m\u001b[1;33m}\u001b[0m\u001b[1;33m\u001b[0m\u001b[1;33m\u001b[0m\u001b[0m\n",
      "\u001b[1;32m~\\anaconda3\\lib\\site-packages\\spacy\\language.py\u001b[0m in \u001b[0;36mmake_doc\u001b[1;34m(self, text)\u001b[0m\n\u001b[0;32m   1064\u001b[0m         \u001b[0mRETURNS\u001b[0m \u001b[1;33m(\u001b[0m\u001b[0mDoc\u001b[0m\u001b[1;33m)\u001b[0m\u001b[1;33m:\u001b[0m \u001b[0mThe\u001b[0m \u001b[0mprocessed\u001b[0m \u001b[0mdoc\u001b[0m\u001b[1;33m.\u001b[0m\u001b[1;33m\u001b[0m\u001b[1;33m\u001b[0m\u001b[0m\n\u001b[0;32m   1065\u001b[0m         \"\"\"\n\u001b[1;32m-> 1066\u001b[1;33m         \u001b[1;32mif\u001b[0m \u001b[0mlen\u001b[0m\u001b[1;33m(\u001b[0m\u001b[0mtext\u001b[0m\u001b[1;33m)\u001b[0m \u001b[1;33m>\u001b[0m \u001b[0mself\u001b[0m\u001b[1;33m.\u001b[0m\u001b[0mmax_length\u001b[0m\u001b[1;33m:\u001b[0m\u001b[1;33m\u001b[0m\u001b[1;33m\u001b[0m\u001b[0m\n\u001b[0m\u001b[0;32m   1067\u001b[0m             raise ValueError(\n\u001b[0;32m   1068\u001b[0m                 \u001b[0mErrors\u001b[0m\u001b[1;33m.\u001b[0m\u001b[0mE088\u001b[0m\u001b[1;33m.\u001b[0m\u001b[0mformat\u001b[0m\u001b[1;33m(\u001b[0m\u001b[0mlength\u001b[0m\u001b[1;33m=\u001b[0m\u001b[0mlen\u001b[0m\u001b[1;33m(\u001b[0m\u001b[0mtext\u001b[0m\u001b[1;33m)\u001b[0m\u001b[1;33m,\u001b[0m \u001b[0mmax_length\u001b[0m\u001b[1;33m=\u001b[0m\u001b[0mself\u001b[0m\u001b[1;33m.\u001b[0m\u001b[0mmax_length\u001b[0m\u001b[1;33m)\u001b[0m\u001b[1;33m\u001b[0m\u001b[1;33m\u001b[0m\u001b[0m\n",
      "\u001b[1;31mTypeError\u001b[0m: object of type 'float' has no len()"
     ]
    }
   ],
   "source": [
    "com_460['com'] = com_460['com'].apply(lambda x: \" \".join([words.lemma_ for words in nlp(x)]))"
   ]
  },
  {
   "cell_type": "code",
   "execution_count": null,
   "id": "69fc8a25",
   "metadata": {},
   "outputs": [],
   "source": []
  },
  {
   "cell_type": "code",
   "execution_count": 3,
   "id": "6990bd53",
   "metadata": {},
   "outputs": [],
   "source": [
    "test = pd.read_csv('460.txt', sep=';', names = ['com'], dtype='str')"
   ]
  },
  {
   "cell_type": "code",
   "execution_count": 16,
   "id": "ac9e7b55",
   "metadata": {},
   "outputs": [
    {
     "data": {
      "text/plain": [
       "<pandas.core.strings.accessor.StringMethods at 0x1dbb69406d0>"
      ]
     },
     "execution_count": 16,
     "metadata": {},
     "output_type": "execute_result"
    }
   ],
   "source": [
    "test.com.apply('str')"
   ]
  },
  {
   "cell_type": "code",
   "execution_count": null,
   "id": "789ccf30",
   "metadata": {},
   "outputs": [],
   "source": []
  },
  {
   "cell_type": "code",
   "execution_count": null,
   "id": "4194ecf6",
   "metadata": {},
   "outputs": [],
   "source": [
    "test['com'].fillna('', inplace=True)"
   ]
  },
  {
   "cell_type": "code",
   "execution_count": 18,
   "id": "b87f59ac",
   "metadata": {},
   "outputs": [
    {
     "name": "stdout",
     "output_type": "stream",
     "text": [
      "1187796\n",
      "1187795\n"
     ]
    }
   ],
   "source": [
    "test1 = test.dropna()\n",
    "print(len(test['com']))\n",
    "print(len(test1['com']))"
   ]
  },
  {
   "cell_type": "code",
   "execution_count": null,
   "id": "55733854",
   "metadata": {},
   "outputs": [],
   "source": []
  },
  {
   "cell_type": "code",
   "execution_count": null,
   "id": "c6e1f825",
   "metadata": {},
   "outputs": [],
   "source": [
    "test['com'].isnull().sum()"
   ]
  },
  {
   "cell_type": "code",
   "execution_count": null,
   "id": "8651dede",
   "metadata": {},
   "outputs": [],
   "source": []
  },
  {
   "cell_type": "code",
   "execution_count": 41,
   "id": "51078eb9",
   "metadata": {},
   "outputs": [],
   "source": [
    "test[\"com\"] = test['com'].astype(str)"
   ]
  },
  {
   "cell_type": "code",
   "execution_count": null,
   "id": "ee6ecc6d",
   "metadata": {},
   "outputs": [],
   "source": []
  },
  {
   "cell_type": "code",
   "execution_count": 32,
   "id": "756ad170",
   "metadata": {},
   "outputs": [],
   "source": [
    "test[\"com\"] = test[\"com\"].astype(object)"
   ]
  },
  {
   "cell_type": "code",
   "execution_count": null,
   "id": "bc883deb",
   "metadata": {},
   "outputs": [],
   "source": []
  },
  {
   "cell_type": "code",
   "execution_count": 19,
   "id": "25c2bd5d",
   "metadata": {},
   "outputs": [
    {
     "name": "stderr",
     "output_type": "stream",
     "text": [
      "<ipython-input-19-49592790c4c9>:1: SettingWithCopyWarning: \n",
      "A value is trying to be set on a copy of a slice from a DataFrame.\n",
      "Try using .loc[row_indexer,col_indexer] = value instead\n",
      "\n",
      "See the caveats in the documentation: https://pandas.pydata.org/pandas-docs/stable/user_guide/indexing.html#returning-a-view-versus-a-copy\n",
      "  test1['com_lem'] = test1['com'].apply(lambda x: \" \".join([words.lemma_ for words in nlp(x)]))\n"
     ]
    }
   ],
   "source": [
    "test1['com_lem'] = test1['com'].apply(lambda x: \" \".join([words.lemma_ for words in nlp(x)]))"
   ]
  },
  {
   "cell_type": "code",
   "execution_count": 24,
   "id": "763c6740",
   "metadata": {},
   "outputs": [
    {
     "data": {
      "text/html": [
       "<div>\n",
       "<style scoped>\n",
       "    .dataframe tbody tr th:only-of-type {\n",
       "        vertical-align: middle;\n",
       "    }\n",
       "\n",
       "    .dataframe tbody tr th {\n",
       "        vertical-align: top;\n",
       "    }\n",
       "\n",
       "    .dataframe thead th {\n",
       "        text-align: right;\n",
       "    }\n",
       "</style>\n",
       "<table border=\"1\" class=\"dataframe\">\n",
       "  <thead>\n",
       "    <tr style=\"text-align: right;\">\n",
       "      <th></th>\n",
       "      <th>com</th>\n",
       "      <th>com_lem</th>\n",
       "    </tr>\n",
       "  </thead>\n",
       "  <tbody>\n",
       "    <tr>\n",
       "      <th>300</th>\n",
       "      <td>Got two great kids out of it based like, a thousand great blowjobs over 20 years so about one a week? Not bad</td>\n",
       "      <td>got two great kid out of it base like , a thousand great blowjob over 20 year so about one a week ? not bad</td>\n",
       "    </tr>\n",
       "    <tr>\n",
       "      <th>301</th>\n",
       "      <td>Oh Jesus Christ it’s not a joke...</td>\n",
       "      <td>oh Jesus Christ it ’s not a joke ...</td>\n",
       "    </tr>\n",
       "    <tr>\n",
       "      <th>302</th>\n",
       "      <td>I m fit. Quantity matters, you know?</td>\n",
       "      <td>I m fit . quantity matter , you know ?</td>\n",
       "    </tr>\n",
       "    <tr>\n",
       "      <th>303</th>\n",
       "      <td>its a new england tradition, dont shit on it</td>\n",
       "      <td>its a new england tradition , do nt shit on it</td>\n",
       "    </tr>\n",
       "    <tr>\n",
       "      <th>304</th>\n",
       "      <td>It clearly states it s not for sale, doing so could be criminal</td>\n",
       "      <td>it clearly state it s not for sale , do so could be criminal</td>\n",
       "    </tr>\n",
       "    <tr>\n",
       "      <th>305</th>\n",
       "      <td>hold expensive debate in small auditorium omg, why were the tickets so expensive? rich people are so evil Why are Berniebros so predictably ignorant about economics? https://www.youtube.com/watch?v=udU zL3o_Y6M</td>\n",
       "      <td>hold expensive debate in small auditorium omg , why be the ticket so expensive ? rich people be so evil why be Berniebros so predictably ignorant about economic ? https://www.youtube.com/watch?v=udu zL3o_Y6 M</td>\n",
       "    </tr>\n",
       "    <tr>\n",
       "      <th>306</th>\n",
       "      <td>Why should these debates have a live audience at all? It s not a family sitcom, we don t need to be told when to cheer or boo.</td>\n",
       "      <td>why should these debate have a live audience at all ? it s not a family sitcom , we don t need to be tell when to cheer or boo .</td>\n",
       "    </tr>\n",
       "    <tr>\n",
       "      <th>307</th>\n",
       "      <td>I only saw 4?</td>\n",
       "      <td>I only see 4 ?</td>\n",
       "    </tr>\n",
       "    <tr>\n",
       "      <th>308</th>\n",
       "      <td>it’s expensive to pay two people to field questions to seven people (who aren’t being paid to be there) and record it Why do money launderers think we’re so dumb?</td>\n",
       "      <td>it ’s expensive to pay two people to field question to seven people ( who be n’t be pay to be there ) and record it why do money launderer think we ’re so dumb ?</td>\n",
       "    </tr>\n",
       "    <tr>\n",
       "      <th>309</th>\n",
       "      <td>What s so expensive about them? And why can t they pay for it with their ads?</td>\n",
       "      <td>what s so expensive about they ? and why can t they pay for it with their ad ?</td>\n",
       "    </tr>\n",
       "    <tr>\n",
       "      <th>310</th>\n",
       "      <td>All right white brothers in Latin America, politicians, globalists and such are trying to darken the population by doing race-mixing propaganda and providing gibs to niggers and mutts, that being said, we really need a second bleaching like in the late 19th century, but of course, since Europe is not in a famine condition since the middle of the 20th century they won t migrate to here again, so, we need to whiten back Latin America by ourselves, suggestions?</td>\n",
       "      <td>all right white brother in Latin America , politician , globalist and such be try to darken the population by do race - mix propaganda and provide gib to nigger and mutt , that be say , we really need a second bleaching like in the late 19th century , but of course , since Europe be not in a famine condition since the middle of the 20th century they win t migrate to here again , so , we need to whiten back Latin America by ourselves , suggestion ?</td>\n",
       "    </tr>\n",
       "    <tr>\n",
       "      <th>311</th>\n",
       "      <td>tfw people cant agree on shit or respect any one because of someones skin color</td>\n",
       "      <td>tfw people ca nt agree on shit or respect any one because of someone skin color</td>\n",
       "    </tr>\n",
       "    <tr>\n",
       "      <th>312</th>\n",
       "      <td>shut up cracker</td>\n",
       "      <td>shut up cracker</td>\n",
       "    </tr>\n",
       "    <tr>\n",
       "      <th>313</th>\n",
       "      <td>Move to Israel with the rest of the pedos then faggot.</td>\n",
       "      <td>move to Israel with the rest of the pedo then faggot .</td>\n",
       "    </tr>\n",
       "    <tr>\n",
       "      <th>314</th>\n",
       "      <td>Whites didn t start this trend, though. We accepted browns and blacks and yellows and reds into our society and culture. They took advantage of us and our kindness. We are witnessing an entire generation of white males who were taught to be forgiving and welcoming be taken advantage of. They re mistaking our kindness for weakness. And now that we are waking up, they re starting to get scared. Rightly so. Because nothing on this planet can stand up to united white men except other white men. We are the beginning. We are the last hope. We must either stand up now or perish forever. The greatest war ever fought is being fought right now, right here, throughout the entire world. And if we fail, whites and western civilization as we know it cease to exist.</td>\n",
       "      <td>white didn t start this trend , though . we accept brown and black and yellow and red into our society and culture . they take advantage of we and our kindness . we be witness an entire generation of white male who be teach to be forgive and welcoming be take advantage of . they re mistake our kindness for weakness . and now that we be wake up , they re start to get scared . rightly so . because nothing on this planet can stand up to united white man except other white man . we be the beginning . we be the last hope . we must either stand up now or perish forever . the great war ever fight be be fight right now , right here , throughout the entire world . and if we fail , white and western civilization as we know it cease to exist .</td>\n",
       "    </tr>\n",
       "    <tr>\n",
       "      <th>315</th>\n",
       "      <td>Skipper my son, you wouldn t let me die, would you?</td>\n",
       "      <td>Skipper my son , you wouldn t let I die , would you ?</td>\n",
       "    </tr>\n",
       "    <tr>\n",
       "      <th>316</th>\n",
       "      <td>No one I hope really thinks this. Not here. Low iq fags No race war Ideal war</td>\n",
       "      <td>no one I hope really think this . not here . low iq fag no race war Ideal war</td>\n",
       "    </tr>\n",
       "    <tr>\n",
       "      <th>317</th>\n",
       "      <td>skin color Nice try kike. We all know the genetic differences go deeper than that and at a molecular level niggers and kikes and all the undesirable in-between are subhuman.</td>\n",
       "      <td>skin color nice try kike . we all know the genetic difference go deep than that and at a molecular level nigger and kike and all the undesirable in - between be subhuman .</td>\n",
       "    </tr>\n",
       "    <tr>\n",
       "      <th>318</th>\n",
       "      <td>He still thinks race is about skin color</td>\n",
       "      <td>he still think race be about skin color</td>\n",
       "    </tr>\n",
       "    <tr>\n",
       "      <th>319</th>\n",
       "      <td>skin color</td>\n",
       "      <td>skin color</td>\n",
       "    </tr>\n",
       "    <tr>\n",
       "      <th>320</th>\n",
       "      <td>race*</td>\n",
       "      <td>race *</td>\n",
       "    </tr>\n",
       "    <tr>\n",
       "      <th>321</th>\n",
       "      <td>Why not separate by colour then?</td>\n",
       "      <td>why not separate by colour then ?</td>\n",
       "    </tr>\n",
       "    <tr>\n",
       "      <th>322</th>\n",
       "      <td>because of someones skin color not because of someones statistical predlection for acting like a low IQ, antisocial asshole no, its because of skin color</td>\n",
       "      <td>because of someone skin color not because of someone statistical predlection for act like a low iq , antisocial asshole no , its because of skin color</td>\n",
       "    </tr>\n",
       "    <tr>\n",
       "      <th>323</th>\n",
       "      <td>It s not because of skin color, it s because of the behavior people with certain skin colors have an overwhelming tendency to demonstrate. It s because of the average intelligence of people with a certain skin color. It s because of a lot of things, just not skin color itself. Kill yourself.</td>\n",
       "      <td>it s not because of skin color , it s because of the behavior people with certain skin color have an overwhelming tendency to demonstrate . it s because of the average intelligence of people with a certain skin color . it s because of a lot of thing , just not skin color itself . kill yourself .</td>\n",
       "    </tr>\n",
       "    <tr>\n",
       "      <th>324</th>\n",
       "      <td>https://www.youtube.com/watch?v=C5Z 44iS3KZQ https://ussanews.com/News1/2020/02/ 20/window-of-life-live-streamer-fac es-hate-crime-allegations/ what did they mean by this</td>\n",
       "      <td>https://www.youtube.com/watch?v=C5Z 44iS3KZQ https://ussanews.com/news1/2020/02/ 20 / window - of - life - live - streamer - fac es - hate - crime - allegations/ what do they mean by this</td>\n",
       "    </tr>\n",
       "    <tr>\n",
       "      <th>325</th>\n",
       "      <td>witnessed alive, based crackovalry</td>\n",
       "      <td>witness alive , base crackovalry</td>\n",
       "    </tr>\n",
       "    <tr>\n",
       "      <th>326</th>\n",
       "      <td>holy shit kek https://twitter.com/RTresidder/stat us/ 5</td>\n",
       "      <td>holy shit kek https://twitter.com/rtresidder/stat us/ 5</td>\n",
       "    </tr>\n",
       "    <tr>\n",
       "      <th>327</th>\n",
       "      <td>https://www.infowars.com/full-trans cript-of-smoking-gun-bombshell-inte rview-prof-frances-boyle-exposes-th e-bioweapons-origins-of-the-covid-1 9-coronavirus/ Biological warfare expert Prof. Frances Boyle appeared as a guest with Alex Jones on the Alex Jones Show, sharing his “smoking gun” findings about the coronavirus being engineered as a weapon that’s designed, “for efficient spreading in the human population,” according to one of the science papers he references. https://banned.video/watch?id=5e505 f6a3f386e001c96874a Pic Jones called it out 20 years ago. 10 years from the FBI Tomorrows News Today.</td>\n",
       "      <td>https://www.infowars.com/full-trans cript - of - smoking - gun - bombshell - inte rview - prof - france - boyle - expose - th e - bioweapon - origin - of - the - covid-1 9 - coronavirus/ biological warfare expert Prof. Frances Boyle appear as a guest with Alex Jones on the Alex Jones Show , share his \" smoking gun \" finding about the coronavirus be engineer as a weapon that ’s design , \" for efficient spread in the human population , \" accord to one of the science paper he reference . https://banned.video/watch?id=5e505 f6a3f386e001c96874a Pic Jones call it out 20 year ago . 10 year from the FBI Tomorrows News Today .</td>\n",
       "    </tr>\n",
       "    <tr>\n",
       "      <th>328</th>\n",
       "      <td>buy a fucking ad.</td>\n",
       "      <td>buy a fucking ad .</td>\n",
       "    </tr>\n",
       "    <tr>\n",
       "      <th>329</th>\n",
       "      <td>How much for the service where the mods help keep viral marketing threads up for hours while banning anyone that makes too much of a fuss about it?</td>\n",
       "      <td>how much for the service where the mod help keep viral marketing thread up for hour while ban anyone that make too much of a fuss about it ?</td>\n",
       "    </tr>\n",
       "    <tr>\n",
       "      <th>330</th>\n",
       "      <td>Why? Seems like the Issue is worth a topic.</td>\n",
       "      <td>why ? seem like the issue be worth a topic .</td>\n",
       "    </tr>\n",
       "    <tr>\n",
       "      <th>331</th>\n",
       "      <td>Oh that is just a shill, they float around the catalogue looking for any relevant thread to attack</td>\n",
       "      <td>oh that be just a shill , they float around the catalogue look for any relevant thread to attack</td>\n",
       "    </tr>\n",
       "    <tr>\n",
       "      <th>332</th>\n",
       "      <td>dilate</td>\n",
       "      <td>dilate</td>\n",
       "    </tr>\n",
       "    <tr>\n",
       "      <th>333</th>\n",
       "      <td>Does anyone have a working link to the /pol/ game Angry Goy II? I saw some gameplay on bitchute and wanted to try it out, but I haven t been able to find a working link.</td>\n",
       "      <td>do anyone have a work link to the /pol/ game Angry Goy II ? I see some gameplay on bitchute and want to try it out , but I haven t be able to find a working link .</td>\n",
       "    </tr>\n",
       "    <tr>\n",
       "      <th>334</th>\n",
       "      <td>Nevermind, I just found a working link, if anyone is interested http://www.the-savoisien.com/blog/ index.php?post/Angry-Goy-II</td>\n",
       "      <td>Nevermind , I just find a working link , if anyone be interested http://www.the-savoisien.com/blog/ index.php?post/Angry-Goy-II</td>\n",
       "    </tr>\n",
       "    <tr>\n",
       "      <th>335</th>\n",
       "      <td>I downloaded the game but it won t fucking work. I tried using my regular laptop mouse and it said there were no controlers so then i get my wireless mouse and it still says i have no controler present.</td>\n",
       "      <td>I download the game but it win t fucking work . I try use my regular laptop mouse and it say there be no controler so then I get my wireless mouse and it still say I have no controler present .</td>\n",
       "    </tr>\n",
       "    <tr>\n",
       "      <th>336</th>\n",
       "      <td>laptop</td>\n",
       "      <td>laptop</td>\n",
       "    </tr>\n",
       "    <tr>\n",
       "      <th>337</th>\n",
       "      <td>I think we all know who won the debate tonight.</td>\n",
       "      <td>I think we all know who win the debate tonight .</td>\n",
       "    </tr>\n",
       "    <tr>\n",
       "      <th>338</th>\n",
       "      <td>I feel like the world would be much better if we got rid of those retarded normies whose life only depends on consumerism and conformism. Has anyone also noticed how introvert niggers/shitskins were extremely rare compare to the amount of whites/asians who are? Another sign that introversion is based on intelligence and IQ, I haven t seen a single interesting and smart woman who wasn t extremely introvert either.</td>\n",
       "      <td>I feel like the world would be much well if we got rid of those retarded normie whose life only depend on consumerism and conformism . have anyone also notice how introvert nigger / shitskin be extremely rare compare to the amount of white / asians who be ? another sign that introversion be base on intelligence and iq , I haven t see a single interesting and smart woman who wasn t extremely introvert either .</td>\n",
       "    </tr>\n",
       "    <tr>\n",
       "      <th>339</th>\n",
       "      <td>Normies are a necessary evil in society. They don t contribute any new ideas themselves, but they work like glue , connecting introverts with each other. If there were no normies around, each introvert would still live in his own cave.</td>\n",
       "      <td>normie be a necessary evil in society . they don t contribute any new idea themselves , but they work like glue , connect introvert with each other . if there be no normie around , each introvert would still live in his own cave .</td>\n",
       "    </tr>\n",
       "    <tr>\n",
       "      <th>340</th>\n",
       "      <td>Extroverts need constant attention. If they are alone for a couple days without someone to gossip with they will blow their brains out. Extroverts are mentally weaker than introverts, they just know how to run their mouths</td>\n",
       "      <td>extrovert need constant attention . if they be alone for a couple day without someone to gossip with they will blow their brain out . extrovert be mentally weak than introvert , they just know how to run their mouth</td>\n",
       "    </tr>\n",
       "    <tr>\n",
       "      <th>341</th>\n",
       "      <td>I want nothing to do with normies and extroverts. but even that is an impossible wish. otherwise age of consent wouldn t be a thing.</td>\n",
       "      <td>I want nothing to do with normie and extrovert . but even that be an impossible wish . otherwise age of consent wouldn t be a thing .</td>\n",
       "    </tr>\n",
       "    <tr>\n",
       "      <th>342</th>\n",
       "      <td>HURRR DURRR! ME NO TALK GUD! OTHER PEPAL BAD HURR!</td>\n",
       "      <td>HURRR DURRR ! ME no TALK GUD ! other pepal bad HURR !</td>\n",
       "    </tr>\n",
       "    <tr>\n",
       "      <th>343</th>\n",
       "      <td>Every fucking job interview In your opinion, how would your teammates describe you as a person? I assume they d say that I m a bit of an introv... [HR Bitch Face activated] Uh... ...well, thank you for coming to the interview, we ll notify you in, uh, two weeks...</td>\n",
       "      <td>every fucking job interview in your opinion , how would your teammate describe you as a person ? I assume they d say that I m a bit of an introv ... [ HR Bitch Face activate ] uh ... ... well , thank you for come to the interview , we ll notify you in , uh , two week ...</td>\n",
       "    </tr>\n",
       "    <tr>\n",
       "      <th>344</th>\n",
       "      <td>Why are introverts so pathetic? Just stuttering in ever conversation. I swear it s like they are all autistic.</td>\n",
       "      <td>why be introvert so pathetic ? just stutter in ever conversation . I swear it s like they be all autistic .</td>\n",
       "    </tr>\n",
       "    <tr>\n",
       "      <th>345</th>\n",
       "      <td>This but unironically</td>\n",
       "      <td>this but unironically</td>\n",
       "    </tr>\n",
       "    <tr>\n",
       "      <th>346</th>\n",
       "      <td>I had a very intelligent extroverted friend once, the most highbrow convos I ve had was with him, but he had the shittiest personality ever, full of envy and corruption, a true psycho, so I stopped seeing him. but what you said is true, most extroverts are stupid, there are just a few exceptions like my old sick friend</td>\n",
       "      <td>I have a very intelligent extroverted friend once , the most highbrow convos I ve have be with he , but he have the shittiest personality ever , full of envy and corruption , a true psycho , so I stop see he . but what you say be true , most extrovert be stupid , there be just a few exception like my old sick friend</td>\n",
       "    </tr>\n",
       "    <tr>\n",
       "      <th>347</th>\n",
       "      <td>No man wants to be gentle you fucking pussy</td>\n",
       "      <td>no man want to be gentle you fucking pussy</td>\n",
       "    </tr>\n",
       "    <tr>\n",
       "      <th>348</th>\n",
       "      <td>Unironically this. People who don’t think, talk.</td>\n",
       "      <td>unironically this . People who do n’t think , talk .</td>\n",
       "    </tr>\n",
       "    <tr>\n",
       "      <th>349</th>\n",
       "      <td>why are extroverts so pathetic? they don t have great minds talking about ideas, average minds talking about events. no they have incel minds and they can only talk about other people. pathetic.</td>\n",
       "      <td>why be extrovert so pathetic ? they don t have great mind talk about idea , average mind talk about event . no they have incel mind and they can only talk about other people . pathetic .</td>\n",
       "    </tr>\n",
       "  </tbody>\n",
       "</table>\n",
       "</div>"
      ],
      "text/plain": [
       "                                                                                                                                                                                                                                                                                                                                                                                                                                                                                                                                                                                                                                                                                                                                                                                           com  \\\n",
       "300                                                                                                                                                                                                                                                                                                                                                                                                                                                                                                                                                                                                                                                                              Got two great kids out of it based like, a thousand great blowjobs over 20 years so about one a week? Not bad   \n",
       "301                                                                                                                                                                                                                                                                                                                                                                                                                                                                                                                                                                                                                                                                                                                                                         Oh Jesus Christ it’s not a joke...   \n",
       "302                                                                                                                                                                                                                                                                                                                                                                                                                                                                                                                                                                                                                                                                                                                                                       I m fit. Quantity matters, you know?   \n",
       "303                                                                                                                                                                                                                                                                                                                                                                                                                                                                                                                                                                                                                                                                                                                                               its a new england tradition, dont shit on it   \n",
       "304                                                                                                                                                                                                                                                                                                                                                                                                                                                                                                                                                                                                                                                                                                                            It clearly states it s not for sale, doing so could be criminal   \n",
       "305                                                                                                                                                                                                                                                                                                                                                                                                                                                                                                                                                                         hold expensive debate in small auditorium omg, why were the tickets so expensive? rich people are so evil Why are Berniebros so predictably ignorant about economics? https://www.youtube.com/watch?v=udU zL3o_Y6M   \n",
       "306                                                                                                                                                                                                                                                                                                                                                                                                                                                                                                                                                                                                                                                             Why should these debates have a live audience at all? It s not a family sitcom, we don t need to be told when to cheer or boo.   \n",
       "307                                                                                                                                                                                                                                                                                                                                                                                                                                                                                                                                                                                                                                                                                                                                                                              I only saw 4?   \n",
       "308                                                                                                                                                                                                                                                                                                                                                                                                                                                                                                                                                                                                                         it’s expensive to pay two people to field questions to seven people (who aren’t being paid to be there) and record it Why do money launderers think we’re so dumb?   \n",
       "309                                                                                                                                                                                                                                                                                                                                                                                                                                                                                                                                                                                                                                                                                                              What s so expensive about them? And why can t they pay for it with their ads?   \n",
       "310                                                                                                                                                                                                                                                                                                             All right white brothers in Latin America, politicians, globalists and such are trying to darken the population by doing race-mixing propaganda and providing gibs to niggers and mutts, that being said, we really need a second bleaching like in the late 19th century, but of course, since Europe is not in a famine condition since the middle of the 20th century they won t migrate to here again, so, we need to whiten back Latin America by ourselves, suggestions?   \n",
       "311                                                                                                                                                                                                                                                                                                                                                                                                                                                                                                                                                                                                                                                                                                           tfw people cant agree on shit or respect any one because of someones skin color    \n",
       "312                                                                                                                                                                                                                                                                                                                                                                                                                                                                                                                                                                                                                                                                                                                                                                            shut up cracker   \n",
       "313                                                                                                                                                                                                                                                                                                                                                                                                                                                                                                                                                                                                                                                                                                                                     Move to Israel with the rest of the pedos then faggot.   \n",
       "314  Whites didn t start this trend, though. We accepted browns and blacks and yellows and reds into our society and culture. They took advantage of us and our kindness. We are witnessing an entire generation of white males who were taught to be forgiving and welcoming be taken advantage of. They re mistaking our kindness for weakness. And now that we are waking up, they re starting to get scared. Rightly so. Because nothing on this planet can stand up to united white men except other white men. We are the beginning. We are the last hope. We must either stand up now or perish forever. The greatest war ever fought is being fought right now, right here, throughout the entire world. And if we fail, whites and western civilization as we know it cease to exist.   \n",
       "315                                                                                                                                                                                                                                                                                                                                                                                                                                                                                                                                                                                                                                                                                                                                       Skipper my son, you wouldn t let me die, would you?    \n",
       "316                                                                                                                                                                                                                                                                                                                                                                                                                                                                                                                                                                                                                                                                                                              No one I hope really thinks this. Not here. Low iq fags No race war Ideal war   \n",
       "317                                                                                                                                                                                                                                                                                                                                                                                                                                                                                                                                                                                                              skin color Nice try kike. We all know the genetic differences go deeper than that and at a molecular level niggers and kikes and all the undesirable in-between are subhuman.   \n",
       "318                                                                                                                                                                                                                                                                                                                                                                                                                                                                                                                                                                                                                                                                                                                                                  He still thinks race is about skin color    \n",
       "319                                                                                                                                                                                                                                                                                                                                                                                                                                                                                                                                                                                                                                                                                                                                                                                skin color    \n",
       "320                                                                                                                                                                                                                                                                                                                                                                                                                                                                                                                                                                                                                                                                                                                                                                                      race*   \n",
       "321                                                                                                                                                                                                                                                                                                                                                                                                                                                                                                                                                                                                                                                                                                                                                           Why not separate by colour then?   \n",
       "322                                                                                                                                                                                                                                                                                                                                                                                                                                                                                                                                                                                                                                 because of someones skin color not because of someones statistical predlection for acting like a low IQ, antisocial asshole no, its because of skin color    \n",
       "323                                                                                                                                                                                                                                                                                                                                                                                                                                                                                       It s not because of skin color, it s because of the behavior people with certain skin colors have an overwhelming tendency to demonstrate. It s because of the average intelligence of people with a certain skin color. It s because of a lot of things, just not skin color itself. Kill yourself.   \n",
       "324                                                                                                                                                                                                                                                                                                                                                                                                                                                                                                                                                                                                                 https://www.youtube.com/watch?v=C5Z 44iS3KZQ https://ussanews.com/News1/2020/02/ 20/window-of-life-live-streamer-fac es-hate-crime-allegations/ what did they mean by this   \n",
       "325                                                                                                                                                                                                                                                                                                                                                                                                                                                                                                                                                                                                                                                                                                                                                         witnessed alive, based crackovalry   \n",
       "326                                                                                                                                                                                                                                                                                                                                                                                                                                                                                                                                                                                                                                                                                                                                    holy shit kek https://twitter.com/RTresidder/stat us/ 5   \n",
       "327                                                                                                                                                         https://www.infowars.com/full-trans cript-of-smoking-gun-bombshell-inte rview-prof-frances-boyle-exposes-th e-bioweapons-origins-of-the-covid-1 9-coronavirus/ Biological warfare expert Prof. Frances Boyle appeared as a guest with Alex Jones on the Alex Jones Show, sharing his “smoking gun” findings about the coronavirus being engineered as a weapon that’s designed, “for efficient spreading in the human population,” according to one of the science papers he references. https://banned.video/watch?id=5e505 f6a3f386e001c96874a Pic Jones called it out 20 years ago. 10 years from the FBI Tomorrows News Today.   \n",
       "328                                                                                                                                                                                                                                                                                                                                                                                                                                                                                                                                                                                                                                                                                                                                                                          buy a fucking ad.   \n",
       "329                                                                                                                                                                                                                                                                                                                                                                                                                                                                                                                                                                                                                                        How much for the service where the mods help keep viral marketing threads up for hours while banning anyone that makes too much of a fuss about it?   \n",
       "330                                                                                                                                                                                                                                                                                                                                                                                                                                                                                                                                                                                                                                                                                                                                                Why? Seems like the Issue is worth a topic.   \n",
       "331                                                                                                                                                                                                                                                                                                                                                                                                                                                                                                                                                                                                                                                                                         Oh that is just a shill, they float around the catalogue looking for any relevant thread to attack   \n",
       "332                                                                                                                                                                                                                                                                                                                                                                                                                                                                                                                                                                                                                                                                                                                                                                                     dilate   \n",
       "333                                                                                                                                                                                                                                                                                                                                                                                                                                                                                                                                                                                                                  Does anyone have a working link to the /pol/ game Angry Goy II? I saw some gameplay on bitchute and wanted to try it out, but I haven t been able to find a working link.   \n",
       "334                                                                                                                                                                                                                                                                                                                                                                                                                                                                                                                                                                                                                                                            Nevermind, I just found a working link, if anyone is interested http://www.the-savoisien.com/blog/ index.php?post/Angry-Goy-II    \n",
       "335                                                                                                                                                                                                                                                                                                                                                                                                                                                                                                                                                                                 I downloaded the game but it won t fucking work. I tried using my regular laptop mouse and it said there were no controlers so then i get my wireless mouse and it still says i have no controler present.   \n",
       "336                                                                                                                                                                                                                                                                                                                                                                                                                                                                                                                                                                                                                                                                                                                                                                                    laptop    \n",
       "337                                                                                                                                                                                                                                                                                                                                                                                                                                                                                                                                                                                                                                                                                                                                            I think we all know who won the debate tonight.   \n",
       "338                                                                                                                                                                                                                                                                                                                                                           I feel like the world would be much better if we got rid of those retarded normies whose life only depends on consumerism and conformism. Has anyone also noticed how introvert niggers/shitskins were extremely rare compare to the amount of whites/asians who are? Another sign that introversion is based on intelligence and IQ, I haven t seen a single interesting and smart woman who wasn t extremely introvert either.   \n",
       "339                                                                                                                                                                                                                                                                                                                                                                                                                                                                                                                                                Normies are a necessary evil in society. They don t contribute any new ideas themselves, but they work like glue , connecting introverts with each other. If there were no normies around, each introvert would still live in his own cave.   \n",
       "340                                                                                                                                                                                                                                                                                                                                                                                                                                                                                                                                                             Extroverts need constant attention. If they are alone for a couple days without someone to gossip with they will blow their brains out. Extroverts are mentally weaker than introverts, they just know how to run their mouths   \n",
       "341                                                                                                                                                                                                                                                                                                                                                                                                                                                                                                                                                                                                                                                       I want nothing to do with normies and extroverts. but even that is an impossible wish. otherwise age of consent wouldn t be a thing.   \n",
       "342                                                                                                                                                                                                                                                                                                                                                                                                                                                                                                                                                                                                                                                                                                                                         HURRR DURRR! ME NO TALK GUD! OTHER PEPAL BAD HURR!   \n",
       "343                                                                                                                                                                                                                                                                                                                                                                                                                                                                                                                  Every fucking job interview In your opinion, how would your teammates describe you as a person? I assume they d say that I m a bit of an introv... [HR Bitch Face activated] Uh... ...well, thank you for coming to the interview, we ll notify you in, uh, two weeks...    \n",
       "344                                                                                                                                                                                                                                                                                                                                                                                                                                                                                                                                                                                                                                                                             Why are introverts so pathetic? Just stuttering in ever conversation. I swear it s like they are all autistic.   \n",
       "345                                                                                                                                                                                                                                                                                                                                                                                                                                                                                                                                                                                                                                                                                                                                                                      This but unironically   \n",
       "346                                                                                                                                                                                                                                                                                                                                                                                                                                                           I had a very intelligent extroverted friend once, the most highbrow convos I ve had was with him, but he had the shittiest personality ever, full of envy and corruption, a true psycho, so I stopped seeing him. but what you said is true, most extroverts are stupid, there are just a few exceptions like my old sick friend   \n",
       "347                                                                                                                                                                                                                                                                                                                                                                                                                                                                                                                                                                                                                                                                                                                                                No man wants to be gentle you fucking pussy   \n",
       "348                                                                                                                                                                                                                                                                                                                                                                                                                                                                                                                                                                                                                                                                                                                                           Unironically this. People who don’t think, talk.   \n",
       "349                                                                                                                                                                                                                                                                                                                                                                                                                                                                                                                                                                                         why are extroverts so pathetic? they don t have great minds talking about ideas, average minds talking about events. no they have incel minds and they can only talk about other people. pathetic.   \n",
       "\n",
       "                                                                                                                                                                                                                                                                                                                                                                                                                                                                                                                                                                                                                                                                                                                                                                    com_lem  \n",
       "300                                                                                                                                                                                                                                                                                                                                                                                                                                                                                                                                                                                                                                                             got two great kid out of it base like , a thousand great blowjob over 20 year so about one a week ? not bad  \n",
       "301                                                                                                                                                                                                                                                                                                                                                                                                                                                                                                                                                                                                                                                                                                                                    oh Jesus Christ it ’s not a joke ...  \n",
       "302                                                                                                                                                                                                                                                                                                                                                                                                                                                                                                                                                                                                                                                                                                                                  I m fit . quantity matter , you know ?  \n",
       "303                                                                                                                                                                                                                                                                                                                                                                                                                                                                                                                                                                                                                                                                                                                          its a new england tradition , do nt shit on it  \n",
       "304                                                                                                                                                                                                                                                                                                                                                                                                                                                                                                                                                                                                                                                                                                            it clearly state it s not for sale , do so could be criminal  \n",
       "305                                                                                                                                                                                                                                                                                                                                                                                                                                                                                                                                                        hold expensive debate in small auditorium omg , why be the ticket so expensive ? rich people be so evil why be Berniebros so predictably ignorant about economic ? https://www.youtube.com/watch?v=udu zL3o_Y6 M  \n",
       "306                                                                                                                                                                                                                                                                                                                                                                                                                                                                                                                                                                                                                                        why should these debate have a live audience at all ? it s not a family sitcom , we don t need to be tell when to cheer or boo .  \n",
       "307                                                                                                                                                                                                                                                                                                                                                                                                                                                                                                                                                                                                                                                                                                                                                          I only see 4 ?  \n",
       "308                                                                                                                                                                                                                                                                                                                                                                                                                                                                                                                                                                                                       it ’s expensive to pay two people to field question to seven people ( who be n’t be pay to be there ) and record it why do money launderer think we ’re so dumb ?  \n",
       "309                                                                                                                                                                                                                                                                                                                                                                                                                                                                                                                                                                                                                                                                                          what s so expensive about they ? and why can t they pay for it with their ad ?  \n",
       "310                                                                                                                                                                                                                                                                                                     all right white brother in Latin America , politician , globalist and such be try to darken the population by do race - mix propaganda and provide gib to nigger and mutt , that be say , we really need a second bleaching like in the late 19th century , but of course , since Europe be not in a famine condition since the middle of the 20th century they win t migrate to here again , so , we need to whiten back Latin America by ourselves , suggestion ?  \n",
       "311                                                                                                                                                                                                                                                                                                                                                                                                                                                                                                                                                                                                                                                                                         tfw people ca nt agree on shit or respect any one because of someone skin color  \n",
       "312                                                                                                                                                                                                                                                                                                                                                                                                                                                                                                                                                                                                                                                                                                                                                         shut up cracker  \n",
       "313                                                                                                                                                                                                                                                                                                                                                                                                                                                                                                                                                                                                                                                                                                                  move to Israel with the rest of the pedo then faggot .  \n",
       "314  white didn t start this trend , though . we accept brown and black and yellow and red into our society and culture . they take advantage of we and our kindness . we be witness an entire generation of white male who be teach to be forgive and welcoming be take advantage of . they re mistake our kindness for weakness . and now that we be wake up , they re start to get scared . rightly so . because nothing on this planet can stand up to united white man except other white man . we be the beginning . we be the last hope . we must either stand up now or perish forever . the great war ever fight be be fight right now , right here , throughout the entire world . and if we fail , white and western civilization as we know it cease to exist .  \n",
       "315                                                                                                                                                                                                                                                                                                                                                                                                                                                                                                                                                                                                                                                                                                                   Skipper my son , you wouldn t let I die , would you ?  \n",
       "316                                                                                                                                                                                                                                                                                                                                                                                                                                                                                                                                                                                                                                                                                           no one I hope really think this . not here . low iq fag no race war Ideal war  \n",
       "317                                                                                                                                                                                                                                                                                                                                                                                                                                                                                                                                                                                             skin color nice try kike . we all know the genetic difference go deep than that and at a molecular level nigger and kike and all the undesirable in - between be subhuman .  \n",
       "318                                                                                                                                                                                                                                                                                                                                                                                                                                                                                                                                                                                                                                                                                                                                 he still think race be about skin color  \n",
       "319                                                                                                                                                                                                                                                                                                                                                                                                                                                                                                                                                                                                                                                                                                                                                              skin color  \n",
       "320                                                                                                                                                                                                                                                                                                                                                                                                                                                                                                                                                                                                                                                                                                                                                                  race *  \n",
       "321                                                                                                                                                                                                                                                                                                                                                                                                                                                                                                                                                                                                                                                                                                                                       why not separate by colour then ?  \n",
       "322                                                                                                                                                                                                                                                                                                                                                                                                                                                                                                                                                                                                                  because of someone skin color not because of someone statistical predlection for act like a low iq , antisocial asshole no , its because of skin color  \n",
       "323                                                                                                                                                                                                                                                                                                                                                                                                                                                                it s not because of skin color , it s because of the behavior people with certain skin color have an overwhelming tendency to demonstrate . it s because of the average intelligence of people with a certain skin color . it s because of a lot of thing , just not skin color itself . kill yourself .  \n",
       "324                                                                                                                                                                                                                                                                                                                                                                                                                                                                                                                                                                             https://www.youtube.com/watch?v=C5Z 44iS3KZQ https://ussanews.com/news1/2020/02/ 20 / window - of - life - live - streamer - fac es - hate - crime - allegations/ what do they mean by this  \n",
       "325                                                                                                                                                                                                                                                                                                                                                                                                                                                                                                                                                                                                                                                                                                                                        witness alive , base crackovalry  \n",
       "326                                                                                                                                                                                                                                                                                                                                                                                                                                                                                                                                                                                                                                                                                                                 holy shit kek https://twitter.com/rtresidder/stat us/ 5  \n",
       "327                                                                                                                       https://www.infowars.com/full-trans cript - of - smoking - gun - bombshell - inte rview - prof - france - boyle - expose - th e - bioweapon - origin - of - the - covid-1 9 - coronavirus/ biological warfare expert Prof. Frances Boyle appear as a guest with Alex Jones on the Alex Jones Show , share his \" smoking gun \" finding about the coronavirus be engineer as a weapon that ’s design , \" for efficient spread in the human population , \" accord to one of the science paper he reference . https://banned.video/watch?id=5e505 f6a3f386e001c96874a Pic Jones call it out 20 year ago . 10 year from the FBI Tomorrows News Today .  \n",
       "328                                                                                                                                                                                                                                                                                                                                                                                                                                                                                                                                                                                                                                                                                                                                                      buy a fucking ad .  \n",
       "329                                                                                                                                                                                                                                                                                                                                                                                                                                                                                                                                                                                                                            how much for the service where the mod help keep viral marketing thread up for hour while ban anyone that make too much of a fuss about it ?  \n",
       "330                                                                                                                                                                                                                                                                                                                                                                                                                                                                                                                                                                                                                                                                                                                            why ? seem like the issue be worth a topic .  \n",
       "331                                                                                                                                                                                                                                                                                                                                                                                                                                                                                                                                                                                                                                                                        oh that be just a shill , they float around the catalogue look for any relevant thread to attack  \n",
       "332                                                                                                                                                                                                                                                                                                                                                                                                                                                                                                                                                                                                                                                                                                                                                                  dilate  \n",
       "333                                                                                                                                                                                                                                                                                                                                                                                                                                                                                                                                                                                                     do anyone have a work link to the /pol/ game Angry Goy II ? I see some gameplay on bitchute and want to try it out , but I haven t be able to find a working link .  \n",
       "334                                                                                                                                                                                                                                                                                                                                                                                                                                                                                                                                                                                                                                         Nevermind , I just find a working link , if anyone be interested http://www.the-savoisien.com/blog/ index.php?post/Angry-Goy-II  \n",
       "335                                                                                                                                                                                                                                                                                                                                                                                                                                                                                                                                                                       I download the game but it win t fucking work . I try use my regular laptop mouse and it say there be no controler so then I get my wireless mouse and it still say I have no controler present .  \n",
       "336                                                                                                                                                                                                                                                                                                                                                                                                                                                                                                                                                                                                                                                                                                                                                                  laptop  \n",
       "337                                                                                                                                                                                                                                                                                                                                                                                                                                                                                                                                                                                                                                                                                                                        I think we all know who win the debate tonight .  \n",
       "338                                                                                                                                                                                                                                                                                                                                            I feel like the world would be much well if we got rid of those retarded normie whose life only depend on consumerism and conformism . have anyone also notice how introvert nigger / shitskin be extremely rare compare to the amount of white / asians who be ? another sign that introversion be base on intelligence and iq , I haven t see a single interesting and smart woman who wasn t extremely introvert either .  \n",
       "339                                                                                                                                                                                                                                                                                                                                                                                                                                                                                                                                  normie be a necessary evil in society . they don t contribute any new idea themselves , but they work like glue , connect introvert with each other . if there be no normie around , each introvert would still live in his own cave .  \n",
       "340                                                                                                                                                                                                                                                                                                                                                                                                                                                                                                                                                 extrovert need constant attention . if they be alone for a couple day without someone to gossip with they will blow their brain out . extrovert be mentally weak than introvert , they just know how to run their mouth  \n",
       "341                                                                                                                                                                                                                                                                                                                                                                                                                                                                                                                                                                                                                                   I want nothing to do with normie and extrovert . but even that be an impossible wish . otherwise age of consent wouldn t be a thing .  \n",
       "342                                                                                                                                                                                                                                                                                                                                                                                                                                                                                                                                                                                                                                                                                                                   HURRR DURRR ! ME no TALK GUD ! other pepal bad HURR !  \n",
       "343                                                                                                                                                                                                                                                                                                                                                                                                                                                                                         every fucking job interview in your opinion , how would your teammate describe you as a person ? I assume they d say that I m a bit of an introv ... [ HR Bitch Face activate ] uh ... ... well , thank you for come to the interview , we ll notify you in , uh , two week ...  \n",
       "344                                                                                                                                                                                                                                                                                                                                                                                                                                                                                                                                                                                                                                                             why be introvert so pathetic ? just stutter in ever conversation . I swear it s like they be all autistic .  \n",
       "345                                                                                                                                                                                                                                                                                                                                                                                                                                                                                                                                                                                                                                                                                                                                                   this but unironically  \n",
       "346                                                                                                                                                                                                                                                                                                                                                                                                                                           I have a very intelligent extroverted friend once , the most highbrow convos I ve have be with he , but he have the shittiest personality ever , full of envy and corruption , a true psycho , so I stop see he . but what you say be true , most extrovert be stupid , there be just a few exception like my old sick friend  \n",
       "347                                                                                                                                                                                                                                                                                                                                                                                                                                                                                                                                                                                                                                                                                                                              no man want to be gentle you fucking pussy  \n",
       "348                                                                                                                                                                                                                                                                                                                                                                                                                                                                                                                                                                                                                                                                                                                    unironically this . People who do n’t think , talk .  \n",
       "349                                                                                                                                                                                                                                                                                                                                                                                                                                                                                                                                                                              why be extrovert so pathetic ? they don t have great mind talk about idea , average mind talk about event . no they have incel mind and they can only talk about other people . pathetic .  "
      ]
     },
     "execution_count": 24,
     "metadata": {},
     "output_type": "execute_result"
    }
   ],
   "source": [
    "test1[300:350]"
   ]
  },
  {
   "cell_type": "code",
   "execution_count": 33,
   "id": "d34bee85",
   "metadata": {},
   "outputs": [
    {
     "data": {
      "text/plain": [
       "pandas.core.series.Series"
      ]
     },
     "execution_count": 33,
     "metadata": {},
     "output_type": "execute_result"
    }
   ],
   "source": [
    "type(test['com'])"
   ]
  },
  {
   "cell_type": "code",
   "execution_count": null,
   "id": "5633e5d6",
   "metadata": {},
   "outputs": [],
   "source": []
  },
  {
   "cell_type": "code",
   "execution_count": null,
   "id": "2671c3f3",
   "metadata": {},
   "outputs": [],
   "source": []
  },
  {
   "cell_type": "code",
   "execution_count": null,
   "id": "8beed5d2",
   "metadata": {},
   "outputs": [],
   "source": [
    "all_com.to_csv('all_com.csv')"
   ]
  },
  {
   "cell_type": "code",
   "execution_count": 22,
   "id": "921c925a",
   "metadata": {},
   "outputs": [],
   "source": [
    "com_1to50.to_csv('com_1to50.csv')"
   ]
  },
  {
   "cell_type": "code",
   "execution_count": 7,
   "id": "0b74d66e",
   "metadata": {},
   "outputs": [],
   "source": [
    "com_51to100.to_csv('com_51to100.csv')"
   ]
  },
  {
   "cell_type": "code",
   "execution_count": null,
   "id": "a3783b69",
   "metadata": {},
   "outputs": [],
   "source": [
    "com_101to150.to_csv('com_101to150.csv')"
   ]
  },
  {
   "cell_type": "code",
   "execution_count": null,
   "id": "e7732b81",
   "metadata": {},
   "outputs": [],
   "source": [
    "com_151to200.to_csv('com_151to200.csv')"
   ]
  },
  {
   "cell_type": "code",
   "execution_count": null,
   "id": "ab06a878",
   "metadata": {},
   "outputs": [],
   "source": [
    "com_201to250.to_csv('com_201to250.csv')"
   ]
  },
  {
   "cell_type": "code",
   "execution_count": null,
   "id": "fc4f9ad4",
   "metadata": {},
   "outputs": [],
   "source": [
    "com_251to300.to_csv('com_251to300.csv')"
   ]
  },
  {
   "cell_type": "code",
   "execution_count": null,
   "id": "00f3eba7",
   "metadata": {},
   "outputs": [],
   "source": [
    "com_301to350.to_csv('com_301to350.csv')"
   ]
  },
  {
   "cell_type": "code",
   "execution_count": null,
   "id": "a555e285",
   "metadata": {},
   "outputs": [],
   "source": [
    "com_351to400.to_csv('com_351to400.csv')"
   ]
  },
  {
   "cell_type": "code",
   "execution_count": null,
   "id": "6532ef64",
   "metadata": {},
   "outputs": [],
   "source": [
    "com_401to459.to_csv('com_401to459.csv')"
   ]
  },
  {
   "cell_type": "code",
   "execution_count": null,
   "id": "f5e86237",
   "metadata": {},
   "outputs": [],
   "source": [
    "com_460.to_csv('com_460.csv')"
   ]
  }
 ],
 "metadata": {
  "kernelspec": {
   "display_name": "Python 3",
   "language": "python",
   "name": "python3"
  },
  "language_info": {
   "codemirror_mode": {
    "name": "ipython",
    "version": 3
   },
   "file_extension": ".py",
   "mimetype": "text/x-python",
   "name": "python",
   "nbconvert_exporter": "python",
   "pygments_lexer": "ipython3",
   "version": "3.8.8"
  }
 },
 "nbformat": 4,
 "nbformat_minor": 5
}
