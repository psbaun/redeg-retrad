{
 "cells": [
  {
   "cell_type": "markdown",
   "id": "0ecfd9b8",
   "metadata": {},
   "source": [
    "### Importing modules"
   ]
  },
  {
   "cell_type": "code",
   "execution_count": 1,
   "id": "b327154a",
   "metadata": {},
   "outputs": [],
   "source": [
    "import pandas as pd\n",
    "import numpy as np\n",
    "import spacy\n",
    "from textblob import TextBlob\n",
    "\n",
    "from statistics import mean, stdev\n",
    "from sklearn.metrics import accuracy_score, precision_score, recall_score, confusion_matrix, roc_auc_score, roc_curve, precision_recall_curve\n",
    "\n",
    "from sklearn.model_selection import train_test_split, GridSearchCV\n",
    "from sklearn.feature_extraction.text import CountVectorizer, TfidfTransformer\n",
    "from sklearn.naive_bayes import MultinomialNB\n",
    "from sklearn.pipeline import Pipeline\n",
    "\n",
    "import matplotlib.pyplot as plt\n",
    "\n",
    "from sklearn.preprocessing import binarize"
   ]
  },
  {
   "cell_type": "markdown",
   "id": "d01202cc",
   "metadata": {},
   "source": [
    "### Loading Data"
   ]
  },
  {
   "cell_type": "code",
   "execution_count": 2,
   "id": "5232beb3",
   "metadata": {},
   "outputs": [],
   "source": [
    "data = pd.read_csv(\"project_18_dataset_combined.csv\")\n",
    "data = data[['label', 'text']]\n",
    "\n",
    "#set display option\n",
    "pd.set_option('display.max_colwidth', None)\n",
    "\n",
    "#make target labels boolean\n",
    "data['label']=data['label'].apply(lambda x: 1 if x == 14 else 0)"
   ]
  },
  {
   "cell_type": "code",
   "execution_count": 3,
   "id": "590c08ad",
   "metadata": {},
   "outputs": [
    {
     "name": "stdout",
     "output_type": "stream",
     "text": [
      "(19821, 2)\n",
      "0    18585\n",
      "1     1236\n",
      "Name: label, dtype: int64\n"
     ]
    },
    {
     "data": {
      "text/html": [
       "<div>\n",
       "<style scoped>\n",
       "    .dataframe tbody tr th:only-of-type {\n",
       "        vertical-align: middle;\n",
       "    }\n",
       "\n",
       "    .dataframe tbody tr th {\n",
       "        vertical-align: top;\n",
       "    }\n",
       "\n",
       "    .dataframe thead th {\n",
       "        text-align: right;\n",
       "    }\n",
       "</style>\n",
       "<table border=\"1\" class=\"dataframe\">\n",
       "  <thead>\n",
       "    <tr style=\"text-align: right;\">\n",
       "      <th></th>\n",
       "      <th>label</th>\n",
       "      <th>text</th>\n",
       "    </tr>\n",
       "  </thead>\n",
       "  <tbody>\n",
       "    <tr>\n",
       "      <th>0</th>\n",
       "      <td>0</td>\n",
       "      <td>Serious Youth Violence crimes, lone wolves basically.</td>\n",
       "    </tr>\n",
       "    <tr>\n",
       "      <th>1</th>\n",
       "      <td>0</td>\n",
       "      <td>Yesterday?</td>\n",
       "    </tr>\n",
       "    <tr>\n",
       "      <th>2</th>\n",
       "      <td>0</td>\n",
       "      <td>I would argue with you, but it seems pointless. If I understand you, your argument is this: the UK can do whatever it wants the UK is never wrong</td>\n",
       "    </tr>\n",
       "    <tr>\n",
       "      <th>3</th>\n",
       "      <td>0</td>\n",
       "      <td>the whole thing is pretty dumb desu, school kids could be in a class of 12 or whatever all mingling and thats fine, but if they leave school and they all go to the park then thats not not allowed</td>\n",
       "    </tr>\n",
       "    <tr>\n",
       "      <th>4</th>\n",
       "      <td>0</td>\n",
       "      <td>I fucking hope you re right, lad.</td>\n",
       "    </tr>\n",
       "  </tbody>\n",
       "</table>\n",
       "</div>"
      ],
      "text/plain": [
       "   label  \\\n",
       "0      0   \n",
       "1      0   \n",
       "2      0   \n",
       "3      0   \n",
       "4      0   \n",
       "\n",
       "                                                                                                                                                                                                  text  \n",
       "0                                                                                                                                                Serious Youth Violence crimes, lone wolves basically.  \n",
       "1                                                                                                                                                                                           Yesterday?  \n",
       "2                                                    I would argue with you, but it seems pointless. If I understand you, your argument is this: the UK can do whatever it wants the UK is never wrong  \n",
       "3  the whole thing is pretty dumb desu, school kids could be in a class of 12 or whatever all mingling and thats fine, but if they leave school and they all go to the park then thats not not allowed  \n",
       "4                                                                                                                                                                    I fucking hope you re right, lad.  "
      ]
     },
     "execution_count": 3,
     "metadata": {},
     "output_type": "execute_result"
    }
   ],
   "source": [
    "print(data.shape)\n",
    "print(data.label.value_counts())\n",
    "data.head()"
   ]
  },
  {
   "cell_type": "markdown",
   "id": "20316fb5",
   "metadata": {},
   "source": [
    "### Lemmatizing text"
   ]
  },
  {
   "cell_type": "code",
   "execution_count": 4,
   "id": "15cfbb30",
   "metadata": {},
   "outputs": [],
   "source": [
    "nlp = spacy.load('en_core_web_md')\n",
    "data['text_lemmatized'] = data['text'].apply(lambda x: \" \".join([words.lemma_ for words in nlp(x)]))"
   ]
  },
  {
   "cell_type": "code",
   "execution_count": 5,
   "id": "b320212c",
   "metadata": {},
   "outputs": [
    {
     "data": {
      "text/html": [
       "<div>\n",
       "<style scoped>\n",
       "    .dataframe tbody tr th:only-of-type {\n",
       "        vertical-align: middle;\n",
       "    }\n",
       "\n",
       "    .dataframe tbody tr th {\n",
       "        vertical-align: top;\n",
       "    }\n",
       "\n",
       "    .dataframe thead th {\n",
       "        text-align: right;\n",
       "    }\n",
       "</style>\n",
       "<table border=\"1\" class=\"dataframe\">\n",
       "  <thead>\n",
       "    <tr style=\"text-align: right;\">\n",
       "      <th></th>\n",
       "      <th>label</th>\n",
       "      <th>text</th>\n",
       "      <th>text_lemmatized</th>\n",
       "    </tr>\n",
       "  </thead>\n",
       "  <tbody>\n",
       "    <tr>\n",
       "      <th>0</th>\n",
       "      <td>0</td>\n",
       "      <td>Serious Youth Violence crimes, lone wolves basically.</td>\n",
       "      <td>Serious Youth Violence crime , lone wolf basically .</td>\n",
       "    </tr>\n",
       "    <tr>\n",
       "      <th>1</th>\n",
       "      <td>0</td>\n",
       "      <td>Yesterday?</td>\n",
       "      <td>yesterday ?</td>\n",
       "    </tr>\n",
       "    <tr>\n",
       "      <th>2</th>\n",
       "      <td>0</td>\n",
       "      <td>I would argue with you, but it seems pointless. If I understand you, your argument is this: the UK can do whatever it wants the UK is never wrong</td>\n",
       "      <td>I would argue with you , but it seem pointless . if I understand you , your argument be this : the UK can do whatever it want the UK be never wrong</td>\n",
       "    </tr>\n",
       "    <tr>\n",
       "      <th>3</th>\n",
       "      <td>0</td>\n",
       "      <td>the whole thing is pretty dumb desu, school kids could be in a class of 12 or whatever all mingling and thats fine, but if they leave school and they all go to the park then thats not not allowed</td>\n",
       "      <td>the whole thing be pretty dumb desu , school kid could be in a class of 12 or whatever all mingle and that s fine , but if they leave school and they all go to the park then that s not not allow</td>\n",
       "    </tr>\n",
       "    <tr>\n",
       "      <th>4</th>\n",
       "      <td>0</td>\n",
       "      <td>I fucking hope you re right, lad.</td>\n",
       "      <td>I fucking hope you re right , lad .</td>\n",
       "    </tr>\n",
       "  </tbody>\n",
       "</table>\n",
       "</div>"
      ],
      "text/plain": [
       "   label  \\\n",
       "0      0   \n",
       "1      0   \n",
       "2      0   \n",
       "3      0   \n",
       "4      0   \n",
       "\n",
       "                                                                                                                                                                                                  text  \\\n",
       "0                                                                                                                                                Serious Youth Violence crimes, lone wolves basically.   \n",
       "1                                                                                                                                                                                           Yesterday?   \n",
       "2                                                    I would argue with you, but it seems pointless. If I understand you, your argument is this: the UK can do whatever it wants the UK is never wrong   \n",
       "3  the whole thing is pretty dumb desu, school kids could be in a class of 12 or whatever all mingling and thats fine, but if they leave school and they all go to the park then thats not not allowed   \n",
       "4                                                                                                                                                                    I fucking hope you re right, lad.   \n",
       "\n",
       "                                                                                                                                                                                      text_lemmatized  \n",
       "0                                                                                                                                                Serious Youth Violence crime , lone wolf basically .  \n",
       "1                                                                                                                                                                                         yesterday ?  \n",
       "2                                                 I would argue with you , but it seem pointless . if I understand you , your argument be this : the UK can do whatever it want the UK be never wrong  \n",
       "3  the whole thing be pretty dumb desu , school kid could be in a class of 12 or whatever all mingle and that s fine , but if they leave school and they all go to the park then that s not not allow  \n",
       "4                                                                                                                                                                 I fucking hope you re right , lad .  "
      ]
     },
     "execution_count": 5,
     "metadata": {},
     "output_type": "execute_result"
    }
   ],
   "source": [
    "data.head()"
   ]
  },
  {
   "cell_type": "markdown",
   "id": "99992632",
   "metadata": {},
   "source": [
    "#### Q: WHAT SIZE EN_CORE_WEB TO USE???"
   ]
  },
  {
   "cell_type": "markdown",
   "id": "4ebdad0c",
   "metadata": {},
   "source": [
    "### Evaluating effect of lemmatization (ceteris paribus)"
   ]
  },
  {
   "cell_type": "code",
   "execution_count": 7,
   "id": "7bc62428",
   "metadata": {},
   "outputs": [],
   "source": [
    "#train/test split on original and preprocessed data\n",
    "X_train_old, X_test_old, y_train_old, y_test_old = train_test_split(data.text, data.label, test_size=0.2, random_state=88, stratify=data.label)\n",
    "X_train, X_test, y_train, y_test = train_test_split(data.text_lemmatized, data.label, test_size=0.2, random_state=88, stratify=data.label)"
   ]
  },
  {
   "cell_type": "code",
   "execution_count": 8,
   "id": "efbcae1c",
   "metadata": {},
   "outputs": [
    {
     "name": "stdout",
     "output_type": "stream",
     "text": [
      "0    14867\n",
      "1      989\n",
      "Name: label, dtype: int64\n",
      "0    14867\n",
      "1      989\n",
      "Name: label, dtype: int64\n",
      "0    3718\n",
      "1     247\n",
      "Name: label, dtype: int64\n",
      "0    3718\n",
      "1     247\n",
      "Name: label, dtype: int64\n"
     ]
    }
   ],
   "source": [
    "print(y_train_old.value_counts())\n",
    "print(y_train.value_counts())\n",
    "print(y_test_old.value_counts())\n",
    "print(y_test.value_counts())"
   ]
  },
  {
   "cell_type": "code",
   "execution_count": 9,
   "id": "0dd32735",
   "metadata": {},
   "outputs": [],
   "source": [
    "#vectorizing train data and transforming test data\n",
    "vectorizer = CountVectorizer()\n",
    "X_train_old_dtm = vectorizer.fit_transform(X_train_old)\n",
    "X_test_old_dtm = vectorizer.transform(X_test_old)\n",
    "X_train_dtm = vectorizer.fit_transform(X_train)\n",
    "X_test_dtm = vectorizer.transform(X_test)"
   ]
  },
  {
   "cell_type": "code",
   "execution_count": 10,
   "id": "42c26052",
   "metadata": {},
   "outputs": [
    {
     "data": {
      "text/plain": [
       "MultinomialNB()"
      ]
     },
     "execution_count": 10,
     "metadata": {},
     "output_type": "execute_result"
    }
   ],
   "source": [
    "#train model on X_train_dtm\n",
    "mnb_old = MultinomialNB()\n",
    "mnb = MultinomialNB()\n",
    "mnb_old.fit(X_train_old_dtm, y_train_old)\n",
    "mnb.fit(X_train_dtm, y_train)"
   ]
  },
  {
   "cell_type": "code",
   "execution_count": 11,
   "id": "0c7003a0",
   "metadata": {},
   "outputs": [],
   "source": [
    "#make class prediction for X_test_dtm\n",
    "y_pred_class_old = mnb_old.predict(X_test_old_dtm)\n",
    "y_pred_class = mnb.predict(X_test_dtm)"
   ]
  },
  {
   "cell_type": "code",
   "execution_count": 12,
   "id": "b74a78f8",
   "metadata": {},
   "outputs": [
    {
     "name": "stdout",
     "output_type": "stream",
     "text": [
      "Counter({0: 3873, 1: 92})\n",
      "Counter({0: 3871, 1: 94})\n"
     ]
    }
   ],
   "source": [
    "from collections import Counter\n",
    "print(Counter(y_pred_class_old))\n",
    "print(Counter(y_pred_class))"
   ]
  },
  {
   "cell_type": "code",
   "execution_count": 13,
   "id": "f2bb37b2",
   "metadata": {},
   "outputs": [
    {
     "name": "stdout",
     "output_type": "stream",
     "text": [
      "old model cm:\n",
      "[[3698   20]\n",
      " [ 175   72]]\n",
      "new model cm:\n",
      "[[3694   24]\n",
      " [ 177   70]]\n"
     ]
    }
   ],
   "source": [
    "#comparing confusing matrices\n",
    "print('old model cm:')\n",
    "print(confusion_matrix(y_test_old, y_pred_class_old))\n",
    "print('new model cm:')\n",
    "print(confusion_matrix(y_test, y_pred_class))"
   ]
  },
  {
   "cell_type": "code",
   "execution_count": 14,
   "id": "8ce8f0d0",
   "metadata": {},
   "outputs": [
    {
     "name": "stdout",
     "output_type": "stream",
     "text": [
      "accuracy score old model: 0.9508196721311475\n",
      "accuracy score new model: 0.9493064312736443\n",
      "-----\n",
      "precision score old model: 0.782608695652174\n",
      "precision score new model: 0.7446808510638298\n",
      "-----\n",
      "recall score old model: 0.291497975708502\n",
      "recall score new model: 0.2834008097165992\n"
     ]
    }
   ],
   "source": [
    "#calculating accuracy, precison\n",
    "print('accuracy score old model:', accuracy_score(y_test_old, y_pred_class_old))\n",
    "print('accuracy score new model:', accuracy_score(y_test, y_pred_class))\n",
    "print('-----')\n",
    "print('precision score old model:', precision_score(y_test_old, y_pred_class_old))\n",
    "print('precision score new model:', precision_score(y_test, y_pred_class))\n",
    "print('-----')\n",
    "print('recall score old model:', recall_score(y_test_old, y_pred_class_old))\n",
    "print('recall score new model:', recall_score(y_test, y_pred_class))"
   ]
  },
  {
   "cell_type": "markdown",
   "id": "4c0ead3b",
   "metadata": {},
   "source": [
    "### Spelling correction"
   ]
  },
  {
   "cell_type": "code",
   "execution_count": 15,
   "id": "128a6b39",
   "metadata": {},
   "outputs": [],
   "source": [
    "#def spelling_corrector(txt):\n",
    "#    blob = TextBlob(txt)\n",
    "#    return str(blob.correct())\n",
    "\n",
    "\n",
    "#data['text_spelling_corrected'] = data['text_lemmatized'].apply(lambda x : [spelling_corrector(x)])\n",
    "#data.head()"
   ]
  },
  {
   "cell_type": "code",
   "execution_count": 16,
   "id": "127fabd4",
   "metadata": {},
   "outputs": [],
   "source": [
    "#data['text_spelling_corrected2'] = data['text_lemmatized'].apply(lambda x: ' '.join(TextBlob(x).correct()))\n",
    "#data.head"
   ]
  },
  {
   "cell_type": "markdown",
   "id": "b6e632cb",
   "metadata": {},
   "source": [
    "### Evaluating effect of spell corrector"
   ]
  },
  {
   "cell_type": "code",
   "execution_count": null,
   "id": "bd8930a8",
   "metadata": {},
   "outputs": [],
   "source": []
  },
  {
   "cell_type": "markdown",
   "id": "7dbf7ebb",
   "metadata": {},
   "source": [
    "### Effect of random states (ceteris paribus)"
   ]
  },
  {
   "cell_type": "code",
   "execution_count": 17,
   "id": "36e6d4aa",
   "metadata": {},
   "outputs": [],
   "source": [
    "#make model with range of random states in train/test split\n",
    "random_state_range = range(0, 1000)\n",
    "rs_scores = []\n",
    "for rs in random_state_range:\n",
    "    vectorizer = CountVectorizer()\n",
    "    mnb = MultinomialNB()\n",
    "    X_train, X_test, y_train, y_test = train_test_split(data.text_lemmatized, data.label, random_state=rs, test_size=0.2, stratify=data.label)\n",
    "    \n",
    "    X_train_dtm = vectorizer.fit_transform(X_train)\n",
    "    X_test_dtm = vectorizer.transform(X_test)\n",
    "    \n",
    "    mnb.fit(X_train_dtm, y_train)\n",
    "    \n",
    "    y_pred_class = mnb.predict(X_test_dtm)\n",
    "    \n",
    "    rs_scores.append(precision_score(y_test, y_pred_class))"
   ]
  },
  {
   "cell_type": "code",
   "execution_count": 18,
   "id": "c816b3e4",
   "metadata": {},
   "outputs": [
    {
     "name": "stdout",
     "output_type": "stream",
     "text": [
      "mean precision: 0.7139996254492633\n",
      "st.dev. of mean prec: 0.0400609880384337\n"
     ]
    },
    {
     "data": {
      "image/png": "[encoded data removed]",
      "text/plain": [
       "<Figure size 432x288 with 1 Axes>"
      ]
     },
     "metadata": {
      "needs_background": "light"
     },
     "output_type": "display_data"
    }
   ],
   "source": [
    "#calculating mean precision and standard deviation\n",
    "print('mean precision:', mean(rs_scores))\n",
    "print('st.dev. of mean prec:', stdev(rs_scores))\n",
    "\n",
    "#make plot\n",
    "plt.plot(random_state_range, rs_scores)\n",
    "plt.xlabel('Random state value')\n",
    "plt.ylabel('Testing precision')\n",
    "\n",
    "plt.grid(True)"
   ]
  },
  {
   "cell_type": "markdown",
   "id": "451b0c61",
   "metadata": {},
   "source": [
    "### Effect of test size (ceteris paribus)"
   ]
  },
  {
   "cell_type": "code",
   "execution_count": 19,
   "id": "b9025249",
   "metadata": {},
   "outputs": [],
   "source": [
    "#make model with varying test sizes in train/test split\n",
    "test_size_range = np.linspace(0.05,0.5,91)\n",
    "test_size_scores = []\n",
    "\n",
    "for ts in test_size_range:\n",
    "    vectorizer = CountVectorizer()\n",
    "    mnb = MultinomialNB()\n",
    "    X_train, X_test, y_train, y_test = train_test_split(data.text_lemmatized, data.label, test_size=ts, random_state=88, stratify=data.label)\n",
    "    \n",
    "    X_train_dtm = vectorizer.fit_transform(X_train)\n",
    "    X_test_dtm = vectorizer.transform(X_test)\n",
    "    \n",
    "    mnb.fit(X_train_dtm, y_train)\n",
    "    \n",
    "    y_pred_class = mnb.predict(X_test_dtm)\n",
    "    \n",
    "    test_size_scores.append(precision_score(y_test, y_pred_class))"
   ]
  },
  {
   "cell_type": "code",
   "execution_count": 20,
   "id": "57503ffc",
   "metadata": {},
   "outputs": [
    {
     "name": "stdout",
     "output_type": "stream",
     "text": [
      "mean precision: 0.7512094039315056\n",
      "st.dev. of mean prec: 0.03605124198461414\n"
     ]
    },
    {
     "data": {
      "image/png": "[encoded data removed]",
      "text/plain": [
       "<Figure size 432x288 with 1 Axes>"
      ]
     },
     "metadata": {
      "needs_background": "light"
     },
     "output_type": "display_data"
    }
   ],
   "source": [
    "#calculating mean precision and standard deviation\n",
    "print('mean precision:', mean(test_size_scores))\n",
    "print('st.dev. of mean prec:', stdev(test_size_scores))\n",
    "\n",
    "#make plot\n",
    "plt.plot(test_size_range, test_size_scores)\n",
    "plt.xlabel('Test size value')\n",
    "plt.ylabel('Testing precision')\n",
    "\n",
    "plt.grid(True)"
   ]
  },
  {
   "cell_type": "markdown",
   "id": "c3d65e56",
   "metadata": {},
   "source": [
    "### Hyperparameter tuning"
   ]
  },
  {
   "cell_type": "code",
   "execution_count": 21,
   "id": "c602be77",
   "metadata": {},
   "outputs": [],
   "source": [
    "#train/test splitting\n",
    "X_train, X_test, y_train, y_test = train_test_split(data.text_lemmatized, data.label, test_size=0.2, random_state=88, stratify=data.label)"
   ]
  },
  {
   "cell_type": "code",
   "execution_count": 22,
   "id": "a7c7be21",
   "metadata": {},
   "outputs": [],
   "source": [
    "#making pipeline\n",
    "pipeline = Pipeline([ ('vectorizer', CountVectorizer()), ('classifier', MultinomialNB()) ])"
   ]
  },
  {
   "cell_type": "markdown",
   "id": "10ba22bf",
   "metadata": {},
   "source": [
    "##### Q: include ('tfidf', TfidfTransformer()) in pipeline???"
   ]
  },
  {
   "cell_type": "code",
   "execution_count": 23,
   "id": "0702e572",
   "metadata": {},
   "outputs": [],
   "source": [
    "#grid = {\n",
    "    #'vectorizer__strip_accents': [None, 'ascii', 'unicode'], #works\n",
    "    #'vectorizer__lowercase': [True, False], #works\n",
    "    #'vectorizer__ngram_range': [(1, 1), (1, 2), (1, 3)], #works\n",
    "    #'vectorizer__stop_words': [None, 'english'], #works\n",
    "    #'vectorizer__max_df': [1.0, 0.9, 0.8, 0.7, 0.6, 0.5], #works\n",
    "    #'vectorizer__min_df': [1, 0.001, 0.002, 0.005, 0.01, 0.02], #works\n",
    "    #'vectorizer__max_features': [None, 1, 10, 100, 1000, 10000], #works\n",
    "    #'classifier__alpha': [0.1, 0.5, 1.0, 2.0], #works\n",
    "    #'classifier__fit_prior': [True, False], #works\n",
    "    #'classifier__class_prior': [[0.1, 0.9], [0.1, 0.8], [0.2, 0.9], [0.2, 0.8]], #works\n",
    "    #'tfidf__norm': ['l1', 'l2'], #works\n",
    "    #'tfidf__use_idf': [True, False], #works\n",
    "    #'tfidf__smooth_idf': [True, False], #works\n",
    "    #'tfidf__sublinear_tf': [True, False], #works\n",
    "#}\n",
    "\n",
    "#grid_search = GridSearchCV(pipeline, param_grid=grid, scoring='precision', cv=10)\n",
    "#grid_search.fit(X, y)\n",
    "\n",
    "#print(\"-----------\")\n",
    "#print(grid_search.best_score_)\n",
    "#print(grid_search.best_params_)"
   ]
  },
  {
   "cell_type": "code",
   "execution_count": 24,
   "id": "c70ed2b8",
   "metadata": {},
   "outputs": [
    {
     "name": "stdout",
     "output_type": "stream",
     "text": [
      "0.5936615940326759\n",
      "{}\n"
     ]
    },
    {
     "data": {
      "text/html": [
       "<div>\n",
       "<style scoped>\n",
       "    .dataframe tbody tr th:only-of-type {\n",
       "        vertical-align: middle;\n",
       "    }\n",
       "\n",
       "    .dataframe tbody tr th {\n",
       "        vertical-align: top;\n",
       "    }\n",
       "\n",
       "    .dataframe thead th {\n",
       "        text-align: right;\n",
       "    }\n",
       "</style>\n",
       "<table border=\"1\" class=\"dataframe\">\n",
       "  <thead>\n",
       "    <tr style=\"text-align: right;\">\n",
       "      <th></th>\n",
       "      <th>params</th>\n",
       "      <th>mean_test_score</th>\n",
       "      <th>std_test_score</th>\n",
       "    </tr>\n",
       "  </thead>\n",
       "  <tbody>\n",
       "    <tr>\n",
       "      <th>0</th>\n",
       "      <td>{}</td>\n",
       "      <td>0.593662</td>\n",
       "      <td>0.113248</td>\n",
       "    </tr>\n",
       "  </tbody>\n",
       "</table>\n",
       "</div>"
      ],
      "text/plain": [
       "  params  mean_test_score  std_test_score\n",
       "0     {}         0.593662        0.113248"
      ]
     },
     "execution_count": 24,
     "metadata": {},
     "output_type": "execute_result"
    }
   ],
   "source": [
    "grid = {}\n",
    "        \n",
    "\n",
    "grid_search = GridSearchCV(pipeline, param_grid=grid, scoring='precision', cv=10)\n",
    "grid_search.fit(data.text_lemmatized, data.label)\n",
    "\n",
    "print(grid_search.best_score_)\n",
    "print(grid_search.best_params_)\n",
    "\n",
    "results = pd.DataFrame(grid_search.cv_results_)\n",
    "results[['params', 'mean_test_score','std_test_score']]"
   ]
  },
  {
   "cell_type": "markdown",
   "id": "e826cbd9",
   "metadata": {},
   "source": [
    "### Evaluation between models with default and tuned parameters"
   ]
  },
  {
   "cell_type": "code",
   "execution_count": 25,
   "id": "2439d66a",
   "metadata": {},
   "outputs": [
    {
     "name": "stdout",
     "output_type": "stream",
     "text": [
      "accuracy score before tuning model: 0.9493064312736443\n",
      "accuracy score after tuning: 0.9493064312736443\n",
      "-----\n",
      "precision score before tuning: 0.7446808510638298\n",
      "precision score after tuning: 0.7446808510638298\n",
      "-----\n",
      "recall score before tuning: 0.2834008097165992\n",
      "recall score after tuning: 0.2834008097165992\n"
     ]
    }
   ],
   "source": [
    "#calculating accuracy, precison and roc_auc between models with default and tuned parameters\n",
    "#set best parameters in pipeline for comparison\n",
    "\n",
    "pipeline_old = Pipeline([ ('vectorizer', CountVectorizer()), ('classifier', MultinomialNB()) ])\n",
    "pipeline = Pipeline([ ('vectorizer', CountVectorizer()), ('classifier', MultinomialNB()) ])\n",
    "     \n",
    "model_old = pipeline_old.fit(X_train, y_train)\n",
    "model = pipeline.fit(X_train, y_train)\n",
    "\n",
    "y_pred_class_old = model_old.predict(X_test)\n",
    "y_pred_class = model.predict(X_test)\n",
    "\n",
    "print('accuracy score before tuning model:', accuracy_score(y_test, y_pred_class_old))\n",
    "print('accuracy score after tuning:', accuracy_score(y_test, y_pred_class))\n",
    "print('-----')\n",
    "print('precision score before tuning:', precision_score(y_test, y_pred_class_old))\n",
    "print('precision score after tuning:', precision_score(y_test, y_pred_class))\n",
    "print('-----')\n",
    "print('recall score before tuning:', recall_score(y_test, y_pred_class_old))\n",
    "print('recall score after tuning:', recall_score(y_test, y_pred_class))"
   ]
  },
  {
   "cell_type": "code",
   "execution_count": 26,
   "id": "8245c73f",
   "metadata": {},
   "outputs": [
    {
     "name": "stdout",
     "output_type": "stream",
     "text": [
      "Counter({0: 3718, 1: 247})\n",
      "Counter({0: 3871, 1: 94})\n",
      "Counter({0: 3871, 1: 94})\n"
     ]
    }
   ],
   "source": [
    "print(Counter(y_test))\n",
    "print(Counter(y_pred_class_old))\n",
    "print(Counter(y_pred_class))"
   ]
  },
  {
   "cell_type": "code",
   "execution_count": 27,
   "id": "bf981cb3",
   "metadata": {},
   "outputs": [
    {
     "name": "stdout",
     "output_type": "stream",
     "text": [
      "old model cm:\n",
      "[[3694   24]\n",
      " [ 177   70]]\n",
      "new model cm:\n",
      "[[3694   24]\n",
      " [ 177   70]]\n"
     ]
    }
   ],
   "source": [
    "#comparing confusing matrices\n",
    "print('old model cm:')\n",
    "print(confusion_matrix(y_test, y_pred_class_old))\n",
    "print('new model cm:')\n",
    "print(confusion_matrix(y_test, y_pred_class))"
   ]
  },
  {
   "cell_type": "markdown",
   "id": "bcc7c74f",
   "metadata": {},
   "source": [
    "#### Q: Crossvalidation on final model???"
   ]
  },
  {
   "cell_type": "markdown",
   "id": "b57c5fdb",
   "metadata": {},
   "source": [
    "### Examining results"
   ]
  },
  {
   "cell_type": "code",
   "execution_count": 28,
   "id": "db66be48",
   "metadata": {},
   "outputs": [
    {
     "name": "stdout",
     "output_type": "stream",
     "text": [
      "(24, 1)\n"
     ]
    },
    {
     "data": {
      "text/html": [
       "<div>\n",
       "<style scoped>\n",
       "    .dataframe tbody tr th:only-of-type {\n",
       "        vertical-align: middle;\n",
       "    }\n",
       "\n",
       "    .dataframe tbody tr th {\n",
       "        vertical-align: top;\n",
       "    }\n",
       "\n",
       "    .dataframe thead th {\n",
       "        text-align: right;\n",
       "    }\n",
       "</style>\n",
       "<table border=\"1\" class=\"dataframe\">\n",
       "  <thead>\n",
       "    <tr style=\"text-align: right;\">\n",
       "      <th></th>\n",
       "      <th>false_positives</th>\n",
       "    </tr>\n",
       "  </thead>\n",
       "  <tbody>\n",
       "    <tr>\n",
       "      <th>14617</th>\n",
       "      <td>labor=/value freeloader and incentive dilemma be insoluble Collectivism always devolve into a purity spiral a beauracratic rule class always evolve out of the necessity for order and organization</td>\n",
       "    </tr>\n",
       "    <tr>\n",
       "      <th>13612</th>\n",
       "      <td>om nom nom nom butthole</td>\n",
       "    </tr>\n",
       "    <tr>\n",
       "      <th>14619</th>\n",
       "      <td>collectivism always devolve into a purity spiral that s not true . charity be a version of collectivism . now , state - mandate collectivism , on the other hand ...</td>\n",
       "    </tr>\n",
       "    <tr>\n",
       "      <th>11042</th>\n",
       "      <td>degenerate Germans ... I m shocked .</td>\n",
       "    </tr>\n",
       "    <tr>\n",
       "      <th>14340</th>\n",
       "      <td>pyramid on mars look into it</td>\n",
       "    </tr>\n",
       "    <tr>\n",
       "      <th>19243</th>\n",
       "      <td>diese Schills Mann ... der ewige Jude . sieht härter die tunte see ... I know it just from your low iq go back to your shtetl moshe you literally glow to we white people you swarthy faggot</td>\n",
       "    </tr>\n",
       "    <tr>\n",
       "      <th>1170</th>\n",
       "      <td>czech slav med nigger germanic no rdic jews</td>\n",
       "    </tr>\n",
       "    <tr>\n",
       "      <th>19032</th>\n",
       "      <td>bunk bunk bunk bunk bunk bunk bunk bunk bunk bunk bunk bunk bunk bunk bunk bunk bunk bunk bunk bunk bunk bunk bunk bunk bunk bunk bunk bunk bunk bunk bunk bunk bunk bunk bunk</td>\n",
       "    </tr>\n",
       "    <tr>\n",
       "      <th>4612</th>\n",
       "      <td>Artist s futuristic depiction of mixed - race planet of the Goyim</td>\n",
       "    </tr>\n",
       "    <tr>\n",
       "      <th>19648</th>\n",
       "      <td>who will win ? ThirdPostion or Capitalism Autocracy or Democracy Nietzche or Wagner Collapse or Reform Axis or ( ( ( Allies ) ) ) Evola or Dinesh D Souza European Idealism or American Consumerism</td>\n",
       "    </tr>\n",
       "    <tr>\n",
       "      <th>13361</th>\n",
       "      <td>on a sidenote , what be the chance of a clash between SDF and iranian militia in DeZ ?</td>\n",
       "    </tr>\n",
       "    <tr>\n",
       "      <th>1433</th>\n",
       "      <td>nah those be mostly british convict . we be / be a melting pot for european people . I ’m about a 60/40 Brit / german mix . my wife be like Polish , german , english , russian and irish .</td>\n",
       "    </tr>\n",
       "    <tr>\n",
       "      <th>18759</th>\n",
       "      <td>talmudic teaching . jews vs cattle . imagine if christianity teach anything be acceptable to subvert or destroy non - christian .</td>\n",
       "    </tr>\n",
       "    <tr>\n",
       "      <th>14308</th>\n",
       "      <td>Egyptology be the most corrupt shit ever . they routinely destroy evidence and blacklist historian that don t agree with their agree - upon narrative .</td>\n",
       "    </tr>\n",
       "    <tr>\n",
       "      <th>10876</th>\n",
       "      <td>our reality be completely manufacture for we and our keeper have obtain the ability to move the passion of great swathe of people on demand with ease .</td>\n",
       "    </tr>\n",
       "    <tr>\n",
       "      <th>13280</th>\n",
       "      <td>the Speaker of Libya s House of Representatives , Aguila Saleh , arrive on Monday evening , in the italian capital , Rome , on an official visit to discuss development in Libya and his initiative to end the libyan crisis . during his visit , Saleh will meet italian President Sergio Mattarella , Parliament Speaker Roberto Fico , Prime Minister Giuseppe Conte and Foreign Minister Luigi Di Maio , accord to a statement from the libyan parliamentary Media Center on Monday . Saleh have be on an international tour during the last period , most notably to Moscow , where he welcome the russian mediation to settle the libyan crisis , point out that the political openness of russian diplomacy to all actor make it an acceptable and effective mediator . the Speaker of Libya s House of Representatives , Aguil Saleh , confirm that he be await support from the italian authority to help solve the libyan crisis point to the existence of a true partnership with Rome and its expect role of it in reconstruction project . Sheikh Mohamed bin Zayed Al Nahyan , Crown Prince of Abu Dhabi and Deputy Supreme Commander of the UAE Armed Forces and russian President , Vladimir Putin discuss bilateral relation and way to enhance they in various field as part of the exist strategic partnership between the two country the french Ambassador to Italy , Christian Masset , confirm that Paris will cooperate with Rome in order to establish stability in Libya away from foreign interference . we be commit together to stabilize Libya without foreign interference , say Masset accord to the italian news agency Aki . share your interpretation of these news , + /- 5 day ago</td>\n",
       "    </tr>\n",
       "    <tr>\n",
       "      <th>16673</th>\n",
       "      <td>mass migration war come from starve central Asians / pajeet start in under 15 year . last remnant of civilization will fight over habitable land .</td>\n",
       "    </tr>\n",
       "    <tr>\n",
       "      <th>4668</th>\n",
       "      <td>the sculpture look like a kang now</td>\n",
       "    </tr>\n",
       "    <tr>\n",
       "      <th>498</th>\n",
       "      <td>National Socialist or National Eco - Socialist we can do the rwd together</td>\n",
       "    </tr>\n",
       "    <tr>\n",
       "      <th>11671</th>\n",
       "      <td>I wouldn t pull a hitler and institute labor bux back by the people s labor .</td>\n",
       "    </tr>\n",
       "    <tr>\n",
       "      <th>7512</th>\n",
       "      <td>Starsector Neo Scavenger Cataclysm : Dark Days ahead Kenshi Synthetik Fallout : New Vegas Dwarf Fortress S.T.A.L.K.E.R Games all of they .</td>\n",
       "    </tr>\n",
       "    <tr>\n",
       "      <th>16386</th>\n",
       "      <td>I have a wiki op https://en.wikipedia.org/wiki/Human _ trafficking_in_israel engage I shitlord ! ! ! ! ! ! ! ! ! ! ! ! ! ! ! ! ! ! ! ! ! ! ! ! ! ! ! ! ! ! ! ! ! ! ! ! ! ! ! ! ! ! ! ! ! ! ! ! ! ! ! ! ! ! ! ! ! ! ! ! ! ! ! ! ! ! ! ! ! ! ! ! ! ! ! ! ! ! ! ! ! ! ! ! ! ! ! ! ! ! ! ! ! ! ! ! ! ! ! ! ! ! ! ! ! ! ! ! ! ! ! ! ! ! ! ! ! ! ! ! ! ! ! ! ! ! ! ! ! ! ! ! ! ! ! ! ! ! ! ! ! ! ! ! ! ! ! ! ! ! ! ! ! ! ! ! !</td>\n",
       "    </tr>\n",
       "    <tr>\n",
       "      <th>14283</th>\n",
       "      <td>be she name Elon too , or do Elon Musk work on a royal pyramid site ? why can t a college educate woman use comma correctly ?</td>\n",
       "    </tr>\n",
       "    <tr>\n",
       "      <th>3269</th>\n",
       "      <td>wrong they be romanian hence the pc term roma or romani</td>\n",
       "    </tr>\n",
       "  </tbody>\n",
       "</table>\n",
       "</div>"
      ],
      "text/plain": [
       "                                                                                                                                                                                                                                                                                                                                                                                                                                                                                                                                                                                                                                                                                                                                                                                                                                                                                                                                                                                                                                                                                                                                                                                                                                                                                                                                                                                                                                                                                                                                                                                                                                                                                                               false_positives\n",
       "14617                                                                                                                                                                                                                                                                                                                                                                                                                                                                                                                                                                                                                                                                                                                                                                                                                                                                                                                                                                                                                                                                                                                                                                                                                                                                                                                                                                                                                                                                                                                      labor=/value freeloader and incentive dilemma be insoluble Collectivism always devolve into a purity spiral a beauracratic rule class always evolve out of the necessity for order and organization\n",
       "13612                                                                                                                                                                                                                                                                                                                                                                                                                                                                                                                                                                                                                                                                                                                                                                                                                                                                                                                                                                                                                                                                                                                                                                                                                                                                                                                                                                                                                                                                                                                                                                                                                                                                                                  om nom nom nom butthole\n",
       "14619                                                                                                                                                                                                                                                                                                                                                                                                                                                                                                                                                                                                                                                                                                                                                                                                                                                                                                                                                                                                                                                                                                                                                                                                                                                                                                                                                                                                                                                                                                                                                     collectivism always devolve into a purity spiral that s not true . charity be a version of collectivism . now , state - mandate collectivism , on the other hand ...\n",
       "11042                                                                                                                                                                                                                                                                                                                                                                                                                                                                                                                                                                                                                                                                                                                                                                                                                                                                                                                                                                                                                                                                                                                                                                                                                                                                                                                                                                                                                                                                                                                                                                                                                                                                                     degenerate Germans ... I m shocked .\n",
       "14340                                                                                                                                                                                                                                                                                                                                                                                                                                                                                                                                                                                                                                                                                                                                                                                                                                                                                                                                                                                                                                                                                                                                                                                                                                                                                                                                                                                                                                                                                                                                                                                                                                                                                             pyramid on mars look into it\n",
       "19243                                                                                                                                                                                                                                                                                                                                                                                                                                                                                                                                                                                                                                                                                                                                                                                                                                                                                                                                                                                                                                                                                                                                                                                                                                                                                                                                                                                                                                                                                                                             diese Schills Mann ... der ewige Jude . sieht härter die tunte see ... I know it just from your low iq go back to your shtetl moshe you literally glow to we white people you swarthy faggot\n",
       "1170                                                                                                                                                                                                                                                                                                                                                                                                                                                                                                                                                                                                                                                                                                                                                                                                                                                                                                                                                                                                                                                                                                                                                                                                                                                                                                                                                                                                                                                                                                                                                                                                                                                                               czech slav med nigger germanic no rdic jews\n",
       "19032                                                                                                                                                                                                                                                                                                                                                                                                                                                                                                                                                                                                                                                                                                                                                                                                                                                                                                                                                                                                                                                                                                                                                                                                                                                                                                                                                                                                                                                                                                                                           bunk bunk bunk bunk bunk bunk bunk bunk bunk bunk bunk bunk bunk bunk bunk bunk bunk bunk bunk bunk bunk bunk bunk bunk bunk bunk bunk bunk bunk bunk bunk bunk bunk bunk bunk\n",
       "4612                                                                                                                                                                                                                                                                                                                                                                                                                                                                                                                                                                                                                                                                                                                                                                                                                                                                                                                                                                                                                                                                                                                                                                                                                                                                                                                                                                                                                                                                                                                                                                                                                                                         Artist s futuristic depiction of mixed - race planet of the Goyim\n",
       "19648                                                                                                                                                                                                                                                                                                                                                                                                                                                                                                                                                                                                                                                                                                                                                                                                                                                                                                                                                                                                                                                                                                                                                                                                                                                                                                                                                                                                                                                                                                                      who will win ? ThirdPostion or Capitalism Autocracy or Democracy Nietzche or Wagner Collapse or Reform Axis or ( ( ( Allies ) ) ) Evola or Dinesh D Souza European Idealism or American Consumerism\n",
       "13361                                                                                                                                                                                                                                                                                                                                                                                                                                                                                                                                                                                                                                                                                                                                                                                                                                                                                                                                                                                                                                                                                                                                                                                                                                                                                                                                                                                                                                                                                                                                                                                                                                   on a sidenote , what be the chance of a clash between SDF and iranian militia in DeZ ?\n",
       "1433                                                                                                                                                                                                                                                                                                                                                                                                                                                                                                                                                                                                                                                                                                                                                                                                                                                                                                                                                                                                                                                                                                                                                                                                                                                                                                                                                                                                                                                                                                                               nah those be mostly british convict . we be / be a melting pot for european people . I ’m about a 60/40 Brit / german mix . my wife be like Polish , german , english , russian and irish .\n",
       "18759                                                                                                                                                                                                                                                                                                                                                                                                                                                                                                                                                                                                                                                                                                                                                                                                                                                                                                                                                                                                                                                                                                                                                                                                                                                                                                                                                                                                                                                                                                                                                                                        talmudic teaching . jews vs cattle . imagine if christianity teach anything be acceptable to subvert or destroy non - christian .\n",
       "14308                                                                                                                                                                                                                                                                                                                                                                                                                                                                                                                                                                                                                                                                                                                                                                                                                                                                                                                                                                                                                                                                                                                                                                                                                                                                                                                                                                                                                                                                                                                                                                  Egyptology be the most corrupt shit ever . they routinely destroy evidence and blacklist historian that don t agree with their agree - upon narrative .\n",
       "10876                                                                                                                                                                                                                                                                                                                                                                                                                                                                                                                                                                                                                                                                                                                                                                                                                                                                                                                                                                                                                                                                                                                                                                                                                                                                                                                                                                                                                                                                                                                                                                  our reality be completely manufacture for we and our keeper have obtain the ability to move the passion of great swathe of people on demand with ease .\n",
       "13280  the Speaker of Libya s House of Representatives , Aguila Saleh , arrive on Monday evening , in the italian capital , Rome , on an official visit to discuss development in Libya and his initiative to end the libyan crisis . during his visit , Saleh will meet italian President Sergio Mattarella , Parliament Speaker Roberto Fico , Prime Minister Giuseppe Conte and Foreign Minister Luigi Di Maio , accord to a statement from the libyan parliamentary Media Center on Monday . Saleh have be on an international tour during the last period , most notably to Moscow , where he welcome the russian mediation to settle the libyan crisis , point out that the political openness of russian diplomacy to all actor make it an acceptable and effective mediator . the Speaker of Libya s House of Representatives , Aguil Saleh , confirm that he be await support from the italian authority to help solve the libyan crisis point to the existence of a true partnership with Rome and its expect role of it in reconstruction project . Sheikh Mohamed bin Zayed Al Nahyan , Crown Prince of Abu Dhabi and Deputy Supreme Commander of the UAE Armed Forces and russian President , Vladimir Putin discuss bilateral relation and way to enhance they in various field as part of the exist strategic partnership between the two country the french Ambassador to Italy , Christian Masset , confirm that Paris will cooperate with Rome in order to establish stability in Libya away from foreign interference . we be commit together to stabilize Libya without foreign interference , say Masset accord to the italian news agency Aki . share your interpretation of these news , + /- 5 day ago\n",
       "16673                                                                                                                                                                                                                                                                                                                                                                                                                                                                                                                                                                                                                                                                                                                                                                                                                                                                                                                                                                                                                                                                                                                                                                                                                                                                                                                                                                                                                                                                                                                                                                       mass migration war come from starve central Asians / pajeet start in under 15 year . last remnant of civilization will fight over habitable land .\n",
       "4668                                                                                                                                                                                                                                                                                                                                                                                                                                                                                                                                                                                                                                                                                                                                                                                                                                                                                                                                                                                                                                                                                                                                                                                                                                                                                                                                                                                                                                                                                                                                                                                                                                                                                        the sculpture look like a kang now\n",
       "498                                                                                                                                                                                                                                                                                                                                                                                                                                                                                                                                                                                                                                                                                                                                                                                                                                                                                                                                                                                                                                                                                                                                                                                                                                                                                                                                                                                                                                                                                                                                                                                                                                                  National Socialist or National Eco - Socialist we can do the rwd together\n",
       "11671                                                                                                                                                                                                                                                                                                                                                                                                                                                                                                                                                                                                                                                                                                                                                                                                                                                                                                                                                                                                                                                                                                                                                                                                                                                                                                                                                                                                                                                                                                                                                                                                                                            I wouldn t pull a hitler and institute labor bux back by the people s labor .\n",
       "7512                                                                                                                                                                                                                                                                                                                                                                                                                                                                                                                                                                                                                                                                                                                                                                                                                                                                                                                                                                                                                                                                                                                                                                                                                                                                                                                                                                                                                                                                                                                                                                                Starsector Neo Scavenger Cataclysm : Dark Days ahead Kenshi Synthetik Fallout : New Vegas Dwarf Fortress S.T.A.L.K.E.R Games all of they .\n",
       "16386                                                                                                                                                                                                                                                                                                                                                                                                                                                                                                                                                                                                                                                                                                                                                                                                                                                                                                                                                                                                                                                                                                                                                                                                                                                                                                 I have a wiki op https://en.wikipedia.org/wiki/Human _ trafficking_in_israel engage I shitlord ! ! ! ! ! ! ! ! ! ! ! ! ! ! ! ! ! ! ! ! ! ! ! ! ! ! ! ! ! ! ! ! ! ! ! ! ! ! ! ! ! ! ! ! ! ! ! ! ! ! ! ! ! ! ! ! ! ! ! ! ! ! ! ! ! ! ! ! ! ! ! ! ! ! ! ! ! ! ! ! ! ! ! ! ! ! ! ! ! ! ! ! ! ! ! ! ! ! ! ! ! ! ! ! ! ! ! ! ! ! ! ! ! ! ! ! ! ! ! ! ! ! ! ! ! ! ! ! ! ! ! ! ! ! ! ! ! ! ! ! ! ! ! ! ! ! ! ! ! ! ! ! ! ! ! ! !\n",
       "14283                                                                                                                                                                                                                                                                                                                                                                                                                                                                                                                                                                                                                                                                                                                                                                                                                                                                                                                                                                                                                                                                                                                                                                                                                                                                                                                                                                                                                                                                                                                                                                                            be she name Elon too , or do Elon Musk work on a royal pyramid site ? why can t a college educate woman use comma correctly ?\n",
       "3269                                                                                                                                                                                                                                                                                                                                                                                                                                                                                                                                                                                                                                                                                                                                                                                                                                                                                                                                                                                                                                                                                                                                                                                                                                                                                                                                                                                                                                                                                                                                                                                                                                                                   wrong they be romanian hence the pc term roma or romani"
      ]
     },
     "execution_count": 28,
     "metadata": {},
     "output_type": "execute_result"
    }
   ],
   "source": [
    "#see false positive comments\n",
    "false_positives = pd.DataFrame({'false_positives': X_test[(y_pred_class==1) & (y_test==0)]})\n",
    "print(false_positives.shape)\n",
    "false_positives"
   ]
  },
  {
   "cell_type": "code",
   "execution_count": 29,
   "id": "f7ca7788",
   "metadata": {},
   "outputs": [
    {
     "name": "stdout",
     "output_type": "stream",
     "text": [
      "(177, 1)\n"
     ]
    },
    {
     "data": {
      "text/html": [
       "<div>\n",
       "<style scoped>\n",
       "    .dataframe tbody tr th:only-of-type {\n",
       "        vertical-align: middle;\n",
       "    }\n",
       "\n",
       "    .dataframe tbody tr th {\n",
       "        vertical-align: top;\n",
       "    }\n",
       "\n",
       "    .dataframe thead th {\n",
       "        text-align: right;\n",
       "    }\n",
       "</style>\n",
       "<table border=\"1\" class=\"dataframe\">\n",
       "  <thead>\n",
       "    <tr style=\"text-align: right;\">\n",
       "      <th></th>\n",
       "      <th>false_negatives</th>\n",
       "    </tr>\n",
       "  </thead>\n",
       "  <tbody>\n",
       "    <tr>\n",
       "      <th>9296</th>\n",
       "      <td>framer set up a near - perfect system . work fairly well . but , over time , it be subvert and corrupt . ( you ) the FRAMERS be utopian retard ! so ... you re blame the subversion and corruption that take place century after the Framers be dead on the framer themselves ? think I find your problem - why the subversion and corruption be so effective . you re a fucking idiot . it s easy to subvert and corrupt idiot .</td>\n",
       "    </tr>\n",
       "    <tr>\n",
       "      <th>7010</th>\n",
       "      <td>have the USA reach Weimar level America be only 1/4 of the way there . Germans burn their money to stay warm in the winter . child prostitute operate in public in Berlin , people would see 10yr old for sale at the train station . Germans fight a Civil War against Bolsheviks where 3 - 4mil people die . Most people have no idea the hell Germany have to go through before they be ready to go all in with the Nazi party . however many indicator point to the kike implode the dollar after the election and create skyrocket inflation which will make the 2007 - 08 collapse look like a good time . if that happen then we be 1/2 way there . in the meantime the Civil War narrative continue to be nurture while they wreck the Main Street economy with Covid bullshit . if it happen we still have several more year to go .</td>\n",
       "    </tr>\n",
       "    <tr>\n",
       "      <th>6146</th>\n",
       "      <td>sometimes I doubt if this be true , because I lose fat and my muscle size get noticable big and my weight go down . unironically yes . I don t do the stuff but a lot of drug habit will keep you skinny whether its weed cig or hard shit . almost all fat people do no drug . everyone be skinny in the 50 til the 80 and during this time americans be pop a lot of pill and everyone smoke cig .</td>\n",
       "    </tr>\n",
       "    <tr>\n",
       "      <th>10523</th>\n",
       "      <td>don t buy insurance be healthy how they do it in the old day .. it work .</td>\n",
       "    </tr>\n",
       "    <tr>\n",
       "      <th>2768</th>\n",
       "      <td>since they ve adopt socialism with national characteristic in the 80</td>\n",
       "    </tr>\n",
       "    <tr>\n",
       "      <th>...</th>\n",
       "      <td>...</td>\n",
       "    </tr>\n",
       "    <tr>\n",
       "      <th>8221</th>\n",
       "      <td>it can t , green troop be still go to be green . its funny you think there still migbt be 95 year old korean war vet in the PLA though .</td>\n",
       "    </tr>\n",
       "    <tr>\n",
       "      <th>6542</th>\n",
       "      <td>Nazbol be kike ( as it be invent by a kike pic relate ) but Strasserism be base . I do nt give a fuck if we abolish wage labor or do away with the market system I have no great love for ( ( ( capitalism ) ) ) the most important thing be that we do nt allow jews into the system . ( or non - white in general ) as long as the tribe do nt rule over we I be sure white could make any economic system work for they extremely well on a long enough time frame . Sartre a jew to be fair I be really just call he a kike as insult instead of litterally I do apologize if that be unclear . of course people subject to hundred of year of that will have a low iq as a result . it s not inherent in their biology , most of what racist attribute to inherent biology can actually be explain by political - economy . and why would you assume that that be the drive force ? literally ever other intellectual state we can find be about 50 percent inherente if you be the son of an alcoholic ? even if you be raise from birth in another family you still have a much high likelyhood to become acholoic latter in life . why be that communist assume that this one trait be determine completely independent of GENETICS despite all the evidence to the contrary and despite the fact that if true it would make we different then litterally all life on planet earth include our fellow primate ? ? this creationist teir shit frankly . Pedophilia be always kike and third reich unironically do nt do that shit . even post war jewish historian usually be nt dishonest enough to pretend they come anywhere near do that specific bullshit .</td>\n",
       "    </tr>\n",
       "    <tr>\n",
       "      <th>12180</th>\n",
       "      <td>you will get your free helicopter ride .</td>\n",
       "    </tr>\n",
       "    <tr>\n",
       "      <th>2492</th>\n",
       "      <td>local news : guy it totally isn t the left or the right do this 2 article down : another 2 people catch lighting wildfire I m really feed up with it . and the irony , they be just lambaste trump for downplay the virus , now they spin around and do the same thing to the arson . except the virus be a hoax and the fire have already displace half a million people in or alone . not to turn it into a coofhoax thread , but the two face blatant hypocrisy in our news medium , and this be local news from a fairly right lean site . I m feed up with this shit , no one have the ball to call it what it be . our MSM be propaganda mouthpiece for the govt just as bad as china s be for theirs . not one fucking person in this country can tell the truth . not one . not even tucker carlson do , he spend half the show suck black dick . I m tired of this shit . I m ready for Hitler . I ll bake bread and put the number back in the title</td>\n",
       "    </tr>\n",
       "    <tr>\n",
       "      <th>9527</th>\n",
       "      <td>Colt have be dead for over a century , they exist only because of corporate welfare .</td>\n",
       "    </tr>\n",
       "  </tbody>\n",
       "</table>\n",
       "<p>177 rows × 1 columns</p>\n",
       "</div>"
      ],
      "text/plain": [
       "                                                                                                                                                                                                                                                                                                                                                                                                                                                                                                                                                                                                                                                                                                                                                                                                                                                                                                                                                                                                                                                                                                                                                                                                                                                                                                                                                                                                                                                                                                                                                                                                                                                               false_negatives\n",
       "9296                                                                                                                                                                                                                                                                                                                                                                                                                                                                                                                                                                                                                                                                                                                                                                                                                                                                                                                                                                                                                                                                                                                                                                                                                                         framer set up a near - perfect system . work fairly well . but , over time , it be subvert and corrupt . ( you ) the FRAMERS be utopian retard ! so ... you re blame the subversion and corruption that take place century after the Framers be dead on the framer themselves ? think I find your problem - why the subversion and corruption be so effective . you re a fucking idiot . it s easy to subvert and corrupt idiot .\n",
       "7010                                                                                                                                                                                                                                                                                                                                                                                                                                                                                                                                                                                                                                                                                                                                                                                                                             have the USA reach Weimar level America be only 1/4 of the way there . Germans burn their money to stay warm in the winter . child prostitute operate in public in Berlin , people would see 10yr old for sale at the train station . Germans fight a Civil War against Bolsheviks where 3 - 4mil people die . Most people have no idea the hell Germany have to go through before they be ready to go all in with the Nazi party . however many indicator point to the kike implode the dollar after the election and create skyrocket inflation which will make the 2007 - 08 collapse look like a good time . if that happen then we be 1/2 way there . in the meantime the Civil War narrative continue to be nurture while they wreck the Main Street economy with Covid bullshit . if it happen we still have several more year to go .\n",
       "6146                                                                                                                                                                                                                                                                                                                                                                                                                                                                                                                                                                                                                                                                                                                                                                                                                                                                                                                                                                                                                                                                                                                                                                                                                                                                      sometimes I doubt if this be true , because I lose fat and my muscle size get noticable big and my weight go down . unironically yes . I don t do the stuff but a lot of drug habit will keep you skinny whether its weed cig or hard shit . almost all fat people do no drug . everyone be skinny in the 50 til the 80 and during this time americans be pop a lot of pill and everyone smoke cig .\n",
       "10523                                                                                                                                                                                                                                                                                                                                                                                                                                                                                                                                                                                                                                                                                                                                                                                                                                                                                                                                                                                                                                                                                                                                                                                                                                                                                                                                                                                                                                                                                                                                                                                                don t buy insurance be healthy how they do it in the old day .. it work .\n",
       "2768                                                                                                                                                                                                                                                                                                                                                                                                                                                                                                                                                                                                                                                                                                                                                                                                                                                                                                                                                                                                                                                                                                                                                                                                                                                                                                                                                                                                                                                                                                                                                                                                      since they ve adopt socialism with national characteristic in the 80\n",
       "...                                                                                                                                                                                                                                                                                                                                                                                                                                                                                                                                                                                                                                                                                                                                                                                                                                                                                                                                                                                                                                                                                                                                                                                                                                                                                                                                                                                                                                                                                                                                                                                                                                                                        ...\n",
       "8221                                                                                                                                                                                                                                                                                                                                                                                                                                                                                                                                                                                                                                                                                                                                                                                                                                                                                                                                                                                                                                                                                                                                                                                                                                                                                                                                                                                                                                                                                                                                  it can t , green troop be still go to be green . its funny you think there still migbt be 95 year old korean war vet in the PLA though .\n",
       "6542   Nazbol be kike ( as it be invent by a kike pic relate ) but Strasserism be base . I do nt give a fuck if we abolish wage labor or do away with the market system I have no great love for ( ( ( capitalism ) ) ) the most important thing be that we do nt allow jews into the system . ( or non - white in general ) as long as the tribe do nt rule over we I be sure white could make any economic system work for they extremely well on a long enough time frame . Sartre a jew to be fair I be really just call he a kike as insult instead of litterally I do apologize if that be unclear . of course people subject to hundred of year of that will have a low iq as a result . it s not inherent in their biology , most of what racist attribute to inherent biology can actually be explain by political - economy . and why would you assume that that be the drive force ? literally ever other intellectual state we can find be about 50 percent inherente if you be the son of an alcoholic ? even if you be raise from birth in another family you still have a much high likelyhood to become acholoic latter in life . why be that communist assume that this one trait be determine completely independent of GENETICS despite all the evidence to the contrary and despite the fact that if true it would make we different then litterally all life on planet earth include our fellow primate ? ? this creationist teir shit frankly . Pedophilia be always kike and third reich unironically do nt do that shit . even post war jewish historian usually be nt dishonest enough to pretend they come anywhere near do that specific bullshit .\n",
       "12180                                                                                                                                                                                                                                                                                                                                                                                                                                                                                                                                                                                                                                                                                                                                                                                                                                                                                                                                                                                                                                                                                                                                                                                                                                                                                                                                                                                                                                                                                                                                                                                                                                 you will get your free helicopter ride .\n",
       "2492                                                                                                                                                                                                                                                                                                                                                                                                                                                                                                                                                                                                                                                                                                            local news : guy it totally isn t the left or the right do this 2 article down : another 2 people catch lighting wildfire I m really feed up with it . and the irony , they be just lambaste trump for downplay the virus , now they spin around and do the same thing to the arson . except the virus be a hoax and the fire have already displace half a million people in or alone . not to turn it into a coofhoax thread , but the two face blatant hypocrisy in our news medium , and this be local news from a fairly right lean site . I m feed up with this shit , no one have the ball to call it what it be . our MSM be propaganda mouthpiece for the govt just as bad as china s be for theirs . not one fucking person in this country can tell the truth . not one . not even tucker carlson do , he spend half the show suck black dick . I m tired of this shit . I m ready for Hitler . I ll bake bread and put the number back in the title\n",
       "9527                                                                                                                                                                                                                                                                                                                                                                                                                                                                                                                                                                                                                                                                                                                                                                                                                                                                                                                                                                                                                                                                                                                                                                                                                                                                                                                                                                                                                                                                                                                                                                                     Colt have be dead for over a century , they exist only because of corporate welfare .\n",
       "\n",
       "[177 rows x 1 columns]"
      ]
     },
     "execution_count": 29,
     "metadata": {},
     "output_type": "execute_result"
    }
   ],
   "source": [
    "#see false negative comments\n",
    "false_negatives = pd.DataFrame({'false_negatives': X_test[(y_pred_class==0) & (y_test==1)]})\n",
    "print(false_negatives.shape)\n",
    "false_negatives"
   ]
  },
  {
   "cell_type": "code",
   "execution_count": 30,
   "id": "1d4b9e55",
   "metadata": {},
   "outputs": [],
   "source": [
    "# store the vocabulary of X_train\n",
    "X_train_tokens = vectorizer.get_feature_names()\n",
    "\n",
    "# number of times each token appears across all history comments\n",
    "hisco_token_count = mnb.feature_count_[1, :]\n",
    "\n",
    "# number of times each token appears across all non-history comments\n",
    "nhisco_token_count = mnb.feature_count_[0, :]"
   ]
  },
  {
   "cell_type": "code",
   "execution_count": 31,
   "id": "59548f0a",
   "metadata": {},
   "outputs": [],
   "source": [
    "# create a DataFrame of tokens with their separate his and non-his counts\n",
    "tokens = pd.DataFrame({'token':X_train_tokens, 'non_history':nhisco_token_count, 'history':hisco_token_count}).set_index('token')\n",
    "\n",
    "# add 1 to each label counts to avoid dividing by 0\n",
    "tokens['non_history'] = tokens.non_history + 1\n",
    "tokens['history'] = tokens.history + 1\n",
    "\n",
    "# convert his and non-his counts into frequencies\n",
    "tokens['non_history'] = tokens.non_history / mnb.class_count_[0]\n",
    "tokens['history'] = tokens.history / mnb.class_count_[1]\n",
    "\n",
    "# calculate the ratio of his-to-non-his for each token\n",
    "tokens['history_ratio'] = tokens.history / tokens.non_history\n",
    "\n",
    "# calculate the ratio of non-his-to-his for each token\n",
    "tokens['non_history_ratio'] = tokens.non_history / tokens.history"
   ]
  },
  {
   "cell_type": "code",
   "execution_count": 32,
   "id": "ceb95799",
   "metadata": {},
   "outputs": [
    {
     "data": {
      "text/html": [
       "<div>\n",
       "<style scoped>\n",
       "    .dataframe tbody tr th:only-of-type {\n",
       "        vertical-align: middle;\n",
       "    }\n",
       "\n",
       "    .dataframe tbody tr th {\n",
       "        vertical-align: top;\n",
       "    }\n",
       "\n",
       "    .dataframe thead th {\n",
       "        text-align: right;\n",
       "    }\n",
       "</style>\n",
       "<table border=\"1\" class=\"dataframe\">\n",
       "  <thead>\n",
       "    <tr style=\"text-align: right;\">\n",
       "      <th></th>\n",
       "      <th>non_history</th>\n",
       "      <th>history</th>\n",
       "      <th>history_ratio</th>\n",
       "      <th>non_history_ratio</th>\n",
       "    </tr>\n",
       "    <tr>\n",
       "      <th>token</th>\n",
       "      <th></th>\n",
       "      <th></th>\n",
       "      <th></th>\n",
       "      <th></th>\n",
       "    </tr>\n",
       "  </thead>\n",
       "  <tbody>\n",
       "    <tr>\n",
       "      <th>hitler</th>\n",
       "      <td>0.000108</td>\n",
       "      <td>0.071197</td>\n",
       "      <td>661.566343</td>\n",
       "      <td>0.001512</td>\n",
       "    </tr>\n",
       "    <tr>\n",
       "      <th>rome</th>\n",
       "      <td>0.000108</td>\n",
       "      <td>0.029126</td>\n",
       "      <td>270.640777</td>\n",
       "      <td>0.003695</td>\n",
       "    </tr>\n",
       "    <tr>\n",
       "      <th>ussr</th>\n",
       "      <td>0.000108</td>\n",
       "      <td>0.027508</td>\n",
       "      <td>255.605178</td>\n",
       "      <td>0.003912</td>\n",
       "    </tr>\n",
       "    <tr>\n",
       "      <th>weimar</th>\n",
       "      <td>0.000108</td>\n",
       "      <td>0.025890</td>\n",
       "      <td>240.569579</td>\n",
       "      <td>0.004157</td>\n",
       "    </tr>\n",
       "    <tr>\n",
       "      <th>jfk</th>\n",
       "      <td>0.000108</td>\n",
       "      <td>0.025890</td>\n",
       "      <td>240.569579</td>\n",
       "      <td>0.004157</td>\n",
       "    </tr>\n",
       "    <tr>\n",
       "      <th>holocaust</th>\n",
       "      <td>0.000108</td>\n",
       "      <td>0.024272</td>\n",
       "      <td>225.533981</td>\n",
       "      <td>0.004434</td>\n",
       "    </tr>\n",
       "    <tr>\n",
       "      <th>files</th>\n",
       "      <td>0.000108</td>\n",
       "      <td>0.021036</td>\n",
       "      <td>195.462783</td>\n",
       "      <td>0.005116</td>\n",
       "    </tr>\n",
       "    <tr>\n",
       "      <th>archives</th>\n",
       "      <td>0.000108</td>\n",
       "      <td>0.021036</td>\n",
       "      <td>195.462783</td>\n",
       "      <td>0.005116</td>\n",
       "    </tr>\n",
       "    <tr>\n",
       "      <th>rese</th>\n",
       "      <td>0.000108</td>\n",
       "      <td>0.019417</td>\n",
       "      <td>180.427184</td>\n",
       "      <td>0.005542</td>\n",
       "    </tr>\n",
       "    <tr>\n",
       "      <th>ww2</th>\n",
       "      <td>0.000108</td>\n",
       "      <td>0.019417</td>\n",
       "      <td>180.427184</td>\n",
       "      <td>0.005542</td>\n",
       "    </tr>\n",
       "  </tbody>\n",
       "</table>\n",
       "</div>"
      ],
      "text/plain": [
       "           non_history   history  history_ratio  non_history_ratio\n",
       "token                                                             \n",
       "hitler        0.000108  0.071197     661.566343           0.001512\n",
       "rome          0.000108  0.029126     270.640777           0.003695\n",
       "ussr          0.000108  0.027508     255.605178           0.003912\n",
       "weimar        0.000108  0.025890     240.569579           0.004157\n",
       "jfk           0.000108  0.025890     240.569579           0.004157\n",
       "holocaust     0.000108  0.024272     225.533981           0.004434\n",
       "files         0.000108  0.021036     195.462783           0.005116\n",
       "archives      0.000108  0.021036     195.462783           0.005116\n",
       "rese          0.000108  0.019417     180.427184           0.005542\n",
       "ww2           0.000108  0.019417     180.427184           0.005542"
      ]
     },
     "execution_count": 32,
     "metadata": {},
     "output_type": "execute_result"
    }
   ],
   "source": [
    "# examine the DataFrame sorted by history_comments_ratio\n",
    "tokens_his = tokens.sort_values('history_ratio', ascending=False)\n",
    "tokens_his[0:10]"
   ]
  },
  {
   "cell_type": "code",
   "execution_count": 33,
   "id": "f93748f8",
   "metadata": {},
   "outputs": [
    {
     "data": {
      "text/html": [
       "<div>\n",
       "<style scoped>\n",
       "    .dataframe tbody tr th:only-of-type {\n",
       "        vertical-align: middle;\n",
       "    }\n",
       "\n",
       "    .dataframe tbody tr th {\n",
       "        vertical-align: top;\n",
       "    }\n",
       "\n",
       "    .dataframe thead th {\n",
       "        text-align: right;\n",
       "    }\n",
       "</style>\n",
       "<table border=\"1\" class=\"dataframe\">\n",
       "  <thead>\n",
       "    <tr style=\"text-align: right;\">\n",
       "      <th></th>\n",
       "      <th>non_history</th>\n",
       "      <th>history</th>\n",
       "      <th>history_ratio</th>\n",
       "      <th>non_history_ratio</th>\n",
       "    </tr>\n",
       "    <tr>\n",
       "      <th>token</th>\n",
       "      <th></th>\n",
       "      <th></th>\n",
       "      <th></th>\n",
       "      <th></th>\n",
       "    </tr>\n",
       "  </thead>\n",
       "  <tbody>\n",
       "    <tr>\n",
       "      <th>test</th>\n",
       "      <td>0.011515</td>\n",
       "      <td>0.001618</td>\n",
       "      <td>0.140520</td>\n",
       "      <td>7.116444</td>\n",
       "    </tr>\n",
       "    <tr>\n",
       "      <th>biden</th>\n",
       "      <td>0.011192</td>\n",
       "      <td>0.001618</td>\n",
       "      <td>0.144573</td>\n",
       "      <td>6.916918</td>\n",
       "    </tr>\n",
       "    <tr>\n",
       "      <th>gay</th>\n",
       "      <td>0.008502</td>\n",
       "      <td>0.001618</td>\n",
       "      <td>0.190324</td>\n",
       "      <td>5.254197</td>\n",
       "    </tr>\n",
       "    <tr>\n",
       "      <th>virus</th>\n",
       "      <td>0.016035</td>\n",
       "      <td>0.003236</td>\n",
       "      <td>0.201820</td>\n",
       "      <td>4.954907</td>\n",
       "    </tr>\n",
       "    <tr>\n",
       "      <th>sssssssssssssssssssssssssssssssssss</th>\n",
       "      <td>0.007318</td>\n",
       "      <td>0.001618</td>\n",
       "      <td>0.221112</td>\n",
       "      <td>4.522600</td>\n",
       "    </tr>\n",
       "    <tr>\n",
       "      <th>calorie</th>\n",
       "      <td>0.006995</td>\n",
       "      <td>0.001618</td>\n",
       "      <td>0.231317</td>\n",
       "      <td>4.323074</td>\n",
       "    </tr>\n",
       "    <tr>\n",
       "      <th>mask</th>\n",
       "      <td>0.006888</td>\n",
       "      <td>0.001618</td>\n",
       "      <td>0.234931</td>\n",
       "      <td>4.256565</td>\n",
       "    </tr>\n",
       "    <tr>\n",
       "      <th>report</th>\n",
       "      <td>0.006565</td>\n",
       "      <td>0.001618</td>\n",
       "      <td>0.246485</td>\n",
       "      <td>4.057038</td>\n",
       "    </tr>\n",
       "    <tr>\n",
       "      <th>eat</th>\n",
       "      <td>0.019372</td>\n",
       "      <td>0.004854</td>\n",
       "      <td>0.250593</td>\n",
       "      <td>3.990529</td>\n",
       "    </tr>\n",
       "    <tr>\n",
       "      <th>trannie</th>\n",
       "      <td>0.005919</td>\n",
       "      <td>0.001618</td>\n",
       "      <td>0.273375</td>\n",
       "      <td>3.657985</td>\n",
       "    </tr>\n",
       "  </tbody>\n",
       "</table>\n",
       "</div>"
      ],
      "text/plain": [
       "                                     non_history   history  history_ratio  \\\n",
       "token                                                                       \n",
       "test                                    0.011515  0.001618       0.140520   \n",
       "biden                                   0.011192  0.001618       0.144573   \n",
       "gay                                     0.008502  0.001618       0.190324   \n",
       "virus                                   0.016035  0.003236       0.201820   \n",
       "sssssssssssssssssssssssssssssssssss     0.007318  0.001618       0.221112   \n",
       "calorie                                 0.006995  0.001618       0.231317   \n",
       "mask                                    0.006888  0.001618       0.234931   \n",
       "report                                  0.006565  0.001618       0.246485   \n",
       "eat                                     0.019372  0.004854       0.250593   \n",
       "trannie                                 0.005919  0.001618       0.273375   \n",
       "\n",
       "                                     non_history_ratio  \n",
       "token                                                   \n",
       "test                                          7.116444  \n",
       "biden                                         6.916918  \n",
       "gay                                           5.254197  \n",
       "virus                                         4.954907  \n",
       "sssssssssssssssssssssssssssssssssss           4.522600  \n",
       "calorie                                       4.323074  \n",
       "mask                                          4.256565  \n",
       "report                                        4.057038  \n",
       "eat                                           3.990529  \n",
       "trannie                                       3.657985  "
      ]
     },
     "execution_count": 33,
     "metadata": {},
     "output_type": "execute_result"
    }
   ],
   "source": [
    "# examine the DataFrame sorted by non_history_comments_ratio\n",
    "tokens_non_his = tokens.sort_values('non_history_ratio', ascending=False)\n",
    "tokens_non_his[0:10]"
   ]
  },
  {
   "cell_type": "code",
   "execution_count": 34,
   "id": "7447a00b",
   "metadata": {},
   "outputs": [],
   "source": [
    "# look up the history_ratio for a given token\n",
    "# tokens.loc['', 'history_ratio']"
   ]
  },
  {
   "cell_type": "markdown",
   "id": "f97905cb",
   "metadata": {},
   "source": [
    "### Threshold and further evaluation"
   ]
  },
  {
   "cell_type": "code",
   "execution_count": 35,
   "id": "4d92a6dc",
   "metadata": {},
   "outputs": [],
   "source": [
    "y_pred_prob = model.predict_proba(X_test)[:, 1]"
   ]
  },
  {
   "cell_type": "code",
   "execution_count": 36,
   "id": "acaf73fd",
   "metadata": {},
   "outputs": [
    {
     "data": {
      "image/png": "[encoded data removed]",
      "text/plain": [
       "<Figure size 432x288 with 1 Axes>"
      ]
     },
     "metadata": {
      "needs_background": "light"
     },
     "output_type": "display_data"
    }
   ],
   "source": [
    "plt.hist(y_pred_prob, bins=50)\n",
    "plt.xlim(0, 1)\n",
    "plt.title('Histogram of predicted probabilities')\n",
    "plt.xlabel('Predicted probability of history-comment')\n",
    "plt.ylabel('Frequency')\n",
    "\n",
    "plt.grid(True)"
   ]
  },
  {
   "cell_type": "code",
   "execution_count": 37,
   "id": "d75dfa5f",
   "metadata": {},
   "outputs": [
    {
     "name": "stderr",
     "output_type": "stream",
     "text": [
      "C:\\Users\\phill\\anaconda3\\lib\\site-packages\\sklearn\\utils\\validation.py:70: FutureWarning: Pass threshold=0.9 as keyword args. From version 1.0 (renaming of 0.25) passing these as positional arguments will result in an error\n",
      "  warnings.warn(f\"Pass {args_msg} as keyword args. From version \"\n"
     ]
    }
   ],
   "source": [
    "y_pred_class_new = binarize([y_pred_prob], 0.9)[0]"
   ]
  },
  {
   "cell_type": "code",
   "execution_count": 38,
   "id": "b0652a72",
   "metadata": {},
   "outputs": [
    {
     "name": "stdout",
     "output_type": "stream",
     "text": [
      "[[3694   24]\n",
      " [ 177   70]]\n",
      "[[3710    8]\n",
      " [ 202   45]]\n"
     ]
    }
   ],
   "source": [
    "print(confusion_matrix(y_test, y_pred_class))\n",
    "print(confusion_matrix(y_test, y_pred_class_new))"
   ]
  },
  {
   "cell_type": "code",
   "execution_count": 39,
   "id": "8e5824fd",
   "metadata": {},
   "outputs": [
    {
     "name": "stdout",
     "output_type": "stream",
     "text": [
      "0.9493064312736443\n",
      "0.9470365699873896\n",
      "-----\n",
      "0.7446808510638298\n",
      "0.8490566037735849\n",
      "-----\n",
      "0.2834008097165992\n",
      "0.18218623481781376\n"
     ]
    }
   ],
   "source": [
    "print(accuracy_score(y_test, y_pred_class))\n",
    "print(accuracy_score(y_test, y_pred_class_new))\n",
    "print('-----')\n",
    "print(precision_score(y_test, y_pred_class))\n",
    "print(precision_score(y_test, y_pred_class_new))\n",
    "print('-----')\n",
    "print(recall_score(y_test, y_pred_class))\n",
    "print(recall_score(y_test, y_pred_class_new))"
   ]
  },
  {
   "cell_type": "code",
   "execution_count": 40,
   "id": "917edfa8",
   "metadata": {},
   "outputs": [
    {
     "name": "stderr",
     "output_type": "stream",
     "text": [
      "C:\\Users\\phill\\anaconda3\\lib\\site-packages\\sklearn\\utils\\validation.py:70: FutureWarning: Pass threshold=0.01 as keyword args. From version 1.0 (renaming of 0.25) passing these as positional arguments will result in an error\n",
      "  warnings.warn(f\"Pass {args_msg} as keyword args. From version \"\n",
      "C:\\Users\\phill\\anaconda3\\lib\\site-packages\\sklearn\\utils\\validation.py:70: FutureWarning: Pass threshold=0.02 as keyword args. From version 1.0 (renaming of 0.25) passing these as positional arguments will result in an error\n",
      "  warnings.warn(f\"Pass {args_msg} as keyword args. From version \"\n",
      "C:\\Users\\phill\\anaconda3\\lib\\site-packages\\sklearn\\utils\\validation.py:70: FutureWarning: Pass threshold=0.03 as keyword args. From version 1.0 (renaming of 0.25) passing these as positional arguments will result in an error\n",
      "  warnings.warn(f\"Pass {args_msg} as keyword args. From version \"\n",
      "C:\\Users\\phill\\anaconda3\\lib\\site-packages\\sklearn\\utils\\validation.py:70: FutureWarning: Pass threshold=0.04 as keyword args. From version 1.0 (renaming of 0.25) passing these as positional arguments will result in an error\n",
      "  warnings.warn(f\"Pass {args_msg} as keyword args. From version \"\n",
      "C:\\Users\\phill\\anaconda3\\lib\\site-packages\\sklearn\\utils\\validation.py:70: FutureWarning: Pass threshold=0.05 as keyword args. From version 1.0 (renaming of 0.25) passing these as positional arguments will result in an error\n",
      "  warnings.warn(f\"Pass {args_msg} as keyword args. From version \"\n",
      "C:\\Users\\phill\\anaconda3\\lib\\site-packages\\sklearn\\utils\\validation.py:70: FutureWarning: Pass threshold=0.060000000000000005 as keyword args. From version 1.0 (renaming of 0.25) passing these as positional arguments will result in an error\n",
      "  warnings.warn(f\"Pass {args_msg} as keyword args. From version \"\n",
      "C:\\Users\\phill\\anaconda3\\lib\\site-packages\\sklearn\\utils\\validation.py:70: FutureWarning: Pass threshold=0.06999999999999999 as keyword args. From version 1.0 (renaming of 0.25) passing these as positional arguments will result in an error\n",
      "  warnings.warn(f\"Pass {args_msg} as keyword args. From version \"\n",
      "C:\\Users\\phill\\anaconda3\\lib\\site-packages\\sklearn\\utils\\validation.py:70: FutureWarning: Pass threshold=0.08 as keyword args. From version 1.0 (renaming of 0.25) passing these as positional arguments will result in an error\n",
      "  warnings.warn(f\"Pass {args_msg} as keyword args. From version \"\n",
      "C:\\Users\\phill\\anaconda3\\lib\\site-packages\\sklearn\\utils\\validation.py:70: FutureWarning: Pass threshold=0.09 as keyword args. From version 1.0 (renaming of 0.25) passing these as positional arguments will result in an error\n",
      "  warnings.warn(f\"Pass {args_msg} as keyword args. From version \"\n",
      "C:\\Users\\phill\\anaconda3\\lib\\site-packages\\sklearn\\utils\\validation.py:70: FutureWarning: Pass threshold=0.09999999999999999 as keyword args. From version 1.0 (renaming of 0.25) passing these as positional arguments will result in an error\n",
      "  warnings.warn(f\"Pass {args_msg} as keyword args. From version \"\n",
      "C:\\Users\\phill\\anaconda3\\lib\\site-packages\\sklearn\\utils\\validation.py:70: FutureWarning: Pass threshold=0.11 as keyword args. From version 1.0 (renaming of 0.25) passing these as positional arguments will result in an error\n",
      "  warnings.warn(f\"Pass {args_msg} as keyword args. From version \"\n",
      "C:\\Users\\phill\\anaconda3\\lib\\site-packages\\sklearn\\utils\\validation.py:70: FutureWarning: Pass threshold=0.12 as keyword args. From version 1.0 (renaming of 0.25) passing these as positional arguments will result in an error\n",
      "  warnings.warn(f\"Pass {args_msg} as keyword args. From version \"\n",
      "C:\\Users\\phill\\anaconda3\\lib\\site-packages\\sklearn\\utils\\validation.py:70: FutureWarning: Pass threshold=0.13 as keyword args. From version 1.0 (renaming of 0.25) passing these as positional arguments will result in an error\n",
      "  warnings.warn(f\"Pass {args_msg} as keyword args. From version \"\n",
      "C:\\Users\\phill\\anaconda3\\lib\\site-packages\\sklearn\\utils\\validation.py:70: FutureWarning: Pass threshold=0.14 as keyword args. From version 1.0 (renaming of 0.25) passing these as positional arguments will result in an error\n",
      "  warnings.warn(f\"Pass {args_msg} as keyword args. From version \"\n",
      "C:\\Users\\phill\\anaconda3\\lib\\site-packages\\sklearn\\utils\\validation.py:70: FutureWarning: Pass threshold=0.15000000000000002 as keyword args. From version 1.0 (renaming of 0.25) passing these as positional arguments will result in an error\n",
      "  warnings.warn(f\"Pass {args_msg} as keyword args. From version \"\n",
      "C:\\Users\\phill\\anaconda3\\lib\\site-packages\\sklearn\\utils\\validation.py:70: FutureWarning: Pass threshold=0.16 as keyword args. From version 1.0 (renaming of 0.25) passing these as positional arguments will result in an error\n",
      "  warnings.warn(f\"Pass {args_msg} as keyword args. From version \"\n",
      "C:\\Users\\phill\\anaconda3\\lib\\site-packages\\sklearn\\utils\\validation.py:70: FutureWarning: Pass threshold=0.17 as keyword args. From version 1.0 (renaming of 0.25) passing these as positional arguments will result in an error\n",
      "  warnings.warn(f\"Pass {args_msg} as keyword args. From version \"\n",
      "C:\\Users\\phill\\anaconda3\\lib\\site-packages\\sklearn\\utils\\validation.py:70: FutureWarning: Pass threshold=0.18000000000000002 as keyword args. From version 1.0 (renaming of 0.25) passing these as positional arguments will result in an error\n",
      "  warnings.warn(f\"Pass {args_msg} as keyword args. From version \"\n",
      "C:\\Users\\phill\\anaconda3\\lib\\site-packages\\sklearn\\utils\\validation.py:70: FutureWarning: Pass threshold=0.19 as keyword args. From version 1.0 (renaming of 0.25) passing these as positional arguments will result in an error\n",
      "  warnings.warn(f\"Pass {args_msg} as keyword args. From version \"\n",
      "C:\\Users\\phill\\anaconda3\\lib\\site-packages\\sklearn\\utils\\validation.py:70: FutureWarning: Pass threshold=0.2 as keyword args. From version 1.0 (renaming of 0.25) passing these as positional arguments will result in an error\n",
      "  warnings.warn(f\"Pass {args_msg} as keyword args. From version \"\n",
      "C:\\Users\\phill\\anaconda3\\lib\\site-packages\\sklearn\\utils\\validation.py:70: FutureWarning: Pass threshold=0.21000000000000002 as keyword args. From version 1.0 (renaming of 0.25) passing these as positional arguments will result in an error\n",
      "  warnings.warn(f\"Pass {args_msg} as keyword args. From version \"\n",
      "C:\\Users\\phill\\anaconda3\\lib\\site-packages\\sklearn\\utils\\validation.py:70: FutureWarning: Pass threshold=0.22 as keyword args. From version 1.0 (renaming of 0.25) passing these as positional arguments will result in an error\n",
      "  warnings.warn(f\"Pass {args_msg} as keyword args. From version \"\n",
      "C:\\Users\\phill\\anaconda3\\lib\\site-packages\\sklearn\\utils\\validation.py:70: FutureWarning: Pass threshold=0.23 as keyword args. From version 1.0 (renaming of 0.25) passing these as positional arguments will result in an error\n",
      "  warnings.warn(f\"Pass {args_msg} as keyword args. From version \"\n",
      "C:\\Users\\phill\\anaconda3\\lib\\site-packages\\sklearn\\utils\\validation.py:70: FutureWarning: Pass threshold=0.24000000000000002 as keyword args. From version 1.0 (renaming of 0.25) passing these as positional arguments will result in an error\n",
      "  warnings.warn(f\"Pass {args_msg} as keyword args. From version \"\n",
      "C:\\Users\\phill\\anaconda3\\lib\\site-packages\\sklearn\\utils\\validation.py:70: FutureWarning: Pass threshold=0.25 as keyword args. From version 1.0 (renaming of 0.25) passing these as positional arguments will result in an error\n",
      "  warnings.warn(f\"Pass {args_msg} as keyword args. From version \"\n",
      "C:\\Users\\phill\\anaconda3\\lib\\site-packages\\sklearn\\utils\\validation.py:70: FutureWarning: Pass threshold=0.26 as keyword args. From version 1.0 (renaming of 0.25) passing these as positional arguments will result in an error\n",
      "  warnings.warn(f\"Pass {args_msg} as keyword args. From version \"\n",
      "C:\\Users\\phill\\anaconda3\\lib\\site-packages\\sklearn\\utils\\validation.py:70: FutureWarning: Pass threshold=0.27 as keyword args. From version 1.0 (renaming of 0.25) passing these as positional arguments will result in an error\n",
      "  warnings.warn(f\"Pass {args_msg} as keyword args. From version \"\n",
      "C:\\Users\\phill\\anaconda3\\lib\\site-packages\\sklearn\\utils\\validation.py:70: FutureWarning: Pass threshold=0.28 as keyword args. From version 1.0 (renaming of 0.25) passing these as positional arguments will result in an error\n",
      "  warnings.warn(f\"Pass {args_msg} as keyword args. From version \"\n"
     ]
    },
    {
     "name": "stderr",
     "output_type": "stream",
     "text": [
      "C:\\Users\\phill\\anaconda3\\lib\\site-packages\\sklearn\\utils\\validation.py:70: FutureWarning: Pass threshold=0.29000000000000004 as keyword args. From version 1.0 (renaming of 0.25) passing these as positional arguments will result in an error\n",
      "  warnings.warn(f\"Pass {args_msg} as keyword args. From version \"\n",
      "C:\\Users\\phill\\anaconda3\\lib\\site-packages\\sklearn\\utils\\validation.py:70: FutureWarning: Pass threshold=0.3 as keyword args. From version 1.0 (renaming of 0.25) passing these as positional arguments will result in an error\n",
      "  warnings.warn(f\"Pass {args_msg} as keyword args. From version \"\n",
      "C:\\Users\\phill\\anaconda3\\lib\\site-packages\\sklearn\\utils\\validation.py:70: FutureWarning: Pass threshold=0.31 as keyword args. From version 1.0 (renaming of 0.25) passing these as positional arguments will result in an error\n",
      "  warnings.warn(f\"Pass {args_msg} as keyword args. From version \"\n",
      "C:\\Users\\phill\\anaconda3\\lib\\site-packages\\sklearn\\utils\\validation.py:70: FutureWarning: Pass threshold=0.32 as keyword args. From version 1.0 (renaming of 0.25) passing these as positional arguments will result in an error\n",
      "  warnings.warn(f\"Pass {args_msg} as keyword args. From version \"\n",
      "C:\\Users\\phill\\anaconda3\\lib\\site-packages\\sklearn\\utils\\validation.py:70: FutureWarning: Pass threshold=0.33 as keyword args. From version 1.0 (renaming of 0.25) passing these as positional arguments will result in an error\n",
      "  warnings.warn(f\"Pass {args_msg} as keyword args. From version \"\n",
      "C:\\Users\\phill\\anaconda3\\lib\\site-packages\\sklearn\\utils\\validation.py:70: FutureWarning: Pass threshold=0.34 as keyword args. From version 1.0 (renaming of 0.25) passing these as positional arguments will result in an error\n",
      "  warnings.warn(f\"Pass {args_msg} as keyword args. From version \"\n",
      "C:\\Users\\phill\\anaconda3\\lib\\site-packages\\sklearn\\utils\\validation.py:70: FutureWarning: Pass threshold=0.35000000000000003 as keyword args. From version 1.0 (renaming of 0.25) passing these as positional arguments will result in an error\n",
      "  warnings.warn(f\"Pass {args_msg} as keyword args. From version \"\n",
      "C:\\Users\\phill\\anaconda3\\lib\\site-packages\\sklearn\\utils\\validation.py:70: FutureWarning: Pass threshold=0.36000000000000004 as keyword args. From version 1.0 (renaming of 0.25) passing these as positional arguments will result in an error\n",
      "  warnings.warn(f\"Pass {args_msg} as keyword args. From version \"\n",
      "C:\\Users\\phill\\anaconda3\\lib\\site-packages\\sklearn\\utils\\validation.py:70: FutureWarning: Pass threshold=0.37 as keyword args. From version 1.0 (renaming of 0.25) passing these as positional arguments will result in an error\n",
      "  warnings.warn(f\"Pass {args_msg} as keyword args. From version \"\n",
      "C:\\Users\\phill\\anaconda3\\lib\\site-packages\\sklearn\\utils\\validation.py:70: FutureWarning: Pass threshold=0.38 as keyword args. From version 1.0 (renaming of 0.25) passing these as positional arguments will result in an error\n",
      "  warnings.warn(f\"Pass {args_msg} as keyword args. From version \"\n",
      "C:\\Users\\phill\\anaconda3\\lib\\site-packages\\sklearn\\utils\\validation.py:70: FutureWarning: Pass threshold=0.39 as keyword args. From version 1.0 (renaming of 0.25) passing these as positional arguments will result in an error\n",
      "  warnings.warn(f\"Pass {args_msg} as keyword args. From version \"\n",
      "C:\\Users\\phill\\anaconda3\\lib\\site-packages\\sklearn\\utils\\validation.py:70: FutureWarning: Pass threshold=0.4 as keyword args. From version 1.0 (renaming of 0.25) passing these as positional arguments will result in an error\n",
      "  warnings.warn(f\"Pass {args_msg} as keyword args. From version \"\n",
      "C:\\Users\\phill\\anaconda3\\lib\\site-packages\\sklearn\\utils\\validation.py:70: FutureWarning: Pass threshold=0.41000000000000003 as keyword args. From version 1.0 (renaming of 0.25) passing these as positional arguments will result in an error\n",
      "  warnings.warn(f\"Pass {args_msg} as keyword args. From version \"\n",
      "C:\\Users\\phill\\anaconda3\\lib\\site-packages\\sklearn\\utils\\validation.py:70: FutureWarning: Pass threshold=0.42000000000000004 as keyword args. From version 1.0 (renaming of 0.25) passing these as positional arguments will result in an error\n",
      "  warnings.warn(f\"Pass {args_msg} as keyword args. From version \"\n",
      "C:\\Users\\phill\\anaconda3\\lib\\site-packages\\sklearn\\utils\\validation.py:70: FutureWarning: Pass threshold=0.43 as keyword args. From version 1.0 (renaming of 0.25) passing these as positional arguments will result in an error\n",
      "  warnings.warn(f\"Pass {args_msg} as keyword args. From version \"\n",
      "C:\\Users\\phill\\anaconda3\\lib\\site-packages\\sklearn\\utils\\validation.py:70: FutureWarning: Pass threshold=0.44 as keyword args. From version 1.0 (renaming of 0.25) passing these as positional arguments will result in an error\n",
      "  warnings.warn(f\"Pass {args_msg} as keyword args. From version \"\n",
      "C:\\Users\\phill\\anaconda3\\lib\\site-packages\\sklearn\\utils\\validation.py:70: FutureWarning: Pass threshold=0.45 as keyword args. From version 1.0 (renaming of 0.25) passing these as positional arguments will result in an error\n",
      "  warnings.warn(f\"Pass {args_msg} as keyword args. From version \"\n",
      "C:\\Users\\phill\\anaconda3\\lib\\site-packages\\sklearn\\utils\\validation.py:70: FutureWarning: Pass threshold=0.46 as keyword args. From version 1.0 (renaming of 0.25) passing these as positional arguments will result in an error\n",
      "  warnings.warn(f\"Pass {args_msg} as keyword args. From version \"\n",
      "C:\\Users\\phill\\anaconda3\\lib\\site-packages\\sklearn\\utils\\validation.py:70: FutureWarning: Pass threshold=0.47000000000000003 as keyword args. From version 1.0 (renaming of 0.25) passing these as positional arguments will result in an error\n",
      "  warnings.warn(f\"Pass {args_msg} as keyword args. From version \"\n",
      "C:\\Users\\phill\\anaconda3\\lib\\site-packages\\sklearn\\utils\\validation.py:70: FutureWarning: Pass threshold=0.48000000000000004 as keyword args. From version 1.0 (renaming of 0.25) passing these as positional arguments will result in an error\n",
      "  warnings.warn(f\"Pass {args_msg} as keyword args. From version \"\n",
      "C:\\Users\\phill\\anaconda3\\lib\\site-packages\\sklearn\\utils\\validation.py:70: FutureWarning: Pass threshold=0.49 as keyword args. From version 1.0 (renaming of 0.25) passing these as positional arguments will result in an error\n",
      "  warnings.warn(f\"Pass {args_msg} as keyword args. From version \"\n",
      "C:\\Users\\phill\\anaconda3\\lib\\site-packages\\sklearn\\utils\\validation.py:70: FutureWarning: Pass threshold=0.5 as keyword args. From version 1.0 (renaming of 0.25) passing these as positional arguments will result in an error\n",
      "  warnings.warn(f\"Pass {args_msg} as keyword args. From version \"\n",
      "C:\\Users\\phill\\anaconda3\\lib\\site-packages\\sklearn\\utils\\validation.py:70: FutureWarning: Pass threshold=0.51 as keyword args. From version 1.0 (renaming of 0.25) passing these as positional arguments will result in an error\n",
      "  warnings.warn(f\"Pass {args_msg} as keyword args. From version \"\n",
      "C:\\Users\\phill\\anaconda3\\lib\\site-packages\\sklearn\\utils\\validation.py:70: FutureWarning: Pass threshold=0.52 as keyword args. From version 1.0 (renaming of 0.25) passing these as positional arguments will result in an error\n",
      "  warnings.warn(f\"Pass {args_msg} as keyword args. From version \"\n",
      "C:\\Users\\phill\\anaconda3\\lib\\site-packages\\sklearn\\utils\\validation.py:70: FutureWarning: Pass threshold=0.53 as keyword args. From version 1.0 (renaming of 0.25) passing these as positional arguments will result in an error\n",
      "  warnings.warn(f\"Pass {args_msg} as keyword args. From version \"\n",
      "C:\\Users\\phill\\anaconda3\\lib\\site-packages\\sklearn\\utils\\validation.py:70: FutureWarning: Pass threshold=0.54 as keyword args. From version 1.0 (renaming of 0.25) passing these as positional arguments will result in an error\n",
      "  warnings.warn(f\"Pass {args_msg} as keyword args. From version \"\n",
      "C:\\Users\\phill\\anaconda3\\lib\\site-packages\\sklearn\\utils\\validation.py:70: FutureWarning: Pass threshold=0.55 as keyword args. From version 1.0 (renaming of 0.25) passing these as positional arguments will result in an error\n",
      "  warnings.warn(f\"Pass {args_msg} as keyword args. From version \"\n",
      "C:\\Users\\phill\\anaconda3\\lib\\site-packages\\sklearn\\utils\\validation.py:70: FutureWarning: Pass threshold=0.56 as keyword args. From version 1.0 (renaming of 0.25) passing these as positional arguments will result in an error\n",
      "  warnings.warn(f\"Pass {args_msg} as keyword args. From version \"\n"
     ]
    },
    {
     "name": "stderr",
     "output_type": "stream",
     "text": [
      "C:\\Users\\phill\\anaconda3\\lib\\site-packages\\sklearn\\utils\\validation.py:70: FutureWarning: Pass threshold=0.5700000000000001 as keyword args. From version 1.0 (renaming of 0.25) passing these as positional arguments will result in an error\n",
      "  warnings.warn(f\"Pass {args_msg} as keyword args. From version \"\n",
      "C:\\Users\\phill\\anaconda3\\lib\\site-packages\\sklearn\\utils\\validation.py:70: FutureWarning: Pass threshold=0.5800000000000001 as keyword args. From version 1.0 (renaming of 0.25) passing these as positional arguments will result in an error\n",
      "  warnings.warn(f\"Pass {args_msg} as keyword args. From version \"\n",
      "C:\\Users\\phill\\anaconda3\\lib\\site-packages\\sklearn\\utils\\validation.py:70: FutureWarning: Pass threshold=0.59 as keyword args. From version 1.0 (renaming of 0.25) passing these as positional arguments will result in an error\n",
      "  warnings.warn(f\"Pass {args_msg} as keyword args. From version \"\n",
      "C:\\Users\\phill\\anaconda3\\lib\\site-packages\\sklearn\\utils\\validation.py:70: FutureWarning: Pass threshold=0.6 as keyword args. From version 1.0 (renaming of 0.25) passing these as positional arguments will result in an error\n",
      "  warnings.warn(f\"Pass {args_msg} as keyword args. From version \"\n",
      "C:\\Users\\phill\\anaconda3\\lib\\site-packages\\sklearn\\utils\\validation.py:70: FutureWarning: Pass threshold=0.61 as keyword args. From version 1.0 (renaming of 0.25) passing these as positional arguments will result in an error\n",
      "  warnings.warn(f\"Pass {args_msg} as keyword args. From version \"\n",
      "C:\\Users\\phill\\anaconda3\\lib\\site-packages\\sklearn\\utils\\validation.py:70: FutureWarning: Pass threshold=0.62 as keyword args. From version 1.0 (renaming of 0.25) passing these as positional arguments will result in an error\n",
      "  warnings.warn(f\"Pass {args_msg} as keyword args. From version \"\n",
      "C:\\Users\\phill\\anaconda3\\lib\\site-packages\\sklearn\\utils\\validation.py:70: FutureWarning: Pass threshold=0.63 as keyword args. From version 1.0 (renaming of 0.25) passing these as positional arguments will result in an error\n",
      "  warnings.warn(f\"Pass {args_msg} as keyword args. From version \"\n",
      "C:\\Users\\phill\\anaconda3\\lib\\site-packages\\sklearn\\utils\\validation.py:70: FutureWarning: Pass threshold=0.64 as keyword args. From version 1.0 (renaming of 0.25) passing these as positional arguments will result in an error\n",
      "  warnings.warn(f\"Pass {args_msg} as keyword args. From version \"\n",
      "C:\\Users\\phill\\anaconda3\\lib\\site-packages\\sklearn\\utils\\validation.py:70: FutureWarning: Pass threshold=0.65 as keyword args. From version 1.0 (renaming of 0.25) passing these as positional arguments will result in an error\n",
      "  warnings.warn(f\"Pass {args_msg} as keyword args. From version \"\n",
      "C:\\Users\\phill\\anaconda3\\lib\\site-packages\\sklearn\\utils\\validation.py:70: FutureWarning: Pass threshold=0.66 as keyword args. From version 1.0 (renaming of 0.25) passing these as positional arguments will result in an error\n",
      "  warnings.warn(f\"Pass {args_msg} as keyword args. From version \"\n",
      "C:\\Users\\phill\\anaconda3\\lib\\site-packages\\sklearn\\utils\\validation.py:70: FutureWarning: Pass threshold=0.67 as keyword args. From version 1.0 (renaming of 0.25) passing these as positional arguments will result in an error\n",
      "  warnings.warn(f\"Pass {args_msg} as keyword args. From version \"\n",
      "C:\\Users\\phill\\anaconda3\\lib\\site-packages\\sklearn\\utils\\validation.py:70: FutureWarning: Pass threshold=0.68 as keyword args. From version 1.0 (renaming of 0.25) passing these as positional arguments will result in an error\n",
      "  warnings.warn(f\"Pass {args_msg} as keyword args. From version \"\n",
      "C:\\Users\\phill\\anaconda3\\lib\\site-packages\\sklearn\\utils\\validation.py:70: FutureWarning: Pass threshold=0.6900000000000001 as keyword args. From version 1.0 (renaming of 0.25) passing these as positional arguments will result in an error\n",
      "  warnings.warn(f\"Pass {args_msg} as keyword args. From version \"\n",
      "C:\\Users\\phill\\anaconda3\\lib\\site-packages\\sklearn\\utils\\validation.py:70: FutureWarning: Pass threshold=0.7000000000000001 as keyword args. From version 1.0 (renaming of 0.25) passing these as positional arguments will result in an error\n",
      "  warnings.warn(f\"Pass {args_msg} as keyword args. From version \"\n",
      "C:\\Users\\phill\\anaconda3\\lib\\site-packages\\sklearn\\utils\\validation.py:70: FutureWarning: Pass threshold=0.7100000000000001 as keyword args. From version 1.0 (renaming of 0.25) passing these as positional arguments will result in an error\n",
      "  warnings.warn(f\"Pass {args_msg} as keyword args. From version \"\n",
      "C:\\Users\\phill\\anaconda3\\lib\\site-packages\\sklearn\\utils\\validation.py:70: FutureWarning: Pass threshold=0.72 as keyword args. From version 1.0 (renaming of 0.25) passing these as positional arguments will result in an error\n",
      "  warnings.warn(f\"Pass {args_msg} as keyword args. From version \"\n",
      "C:\\Users\\phill\\anaconda3\\lib\\site-packages\\sklearn\\utils\\validation.py:70: FutureWarning: Pass threshold=0.73 as keyword args. From version 1.0 (renaming of 0.25) passing these as positional arguments will result in an error\n",
      "  warnings.warn(f\"Pass {args_msg} as keyword args. From version \"\n",
      "C:\\Users\\phill\\anaconda3\\lib\\site-packages\\sklearn\\utils\\validation.py:70: FutureWarning: Pass threshold=0.74 as keyword args. From version 1.0 (renaming of 0.25) passing these as positional arguments will result in an error\n",
      "  warnings.warn(f\"Pass {args_msg} as keyword args. From version \"\n",
      "C:\\Users\\phill\\anaconda3\\lib\\site-packages\\sklearn\\utils\\validation.py:70: FutureWarning: Pass threshold=0.75 as keyword args. From version 1.0 (renaming of 0.25) passing these as positional arguments will result in an error\n",
      "  warnings.warn(f\"Pass {args_msg} as keyword args. From version \"\n",
      "C:\\Users\\phill\\anaconda3\\lib\\site-packages\\sklearn\\utils\\validation.py:70: FutureWarning: Pass threshold=0.76 as keyword args. From version 1.0 (renaming of 0.25) passing these as positional arguments will result in an error\n",
      "  warnings.warn(f\"Pass {args_msg} as keyword args. From version \"\n",
      "C:\\Users\\phill\\anaconda3\\lib\\site-packages\\sklearn\\utils\\validation.py:70: FutureWarning: Pass threshold=0.77 as keyword args. From version 1.0 (renaming of 0.25) passing these as positional arguments will result in an error\n",
      "  warnings.warn(f\"Pass {args_msg} as keyword args. From version \"\n",
      "C:\\Users\\phill\\anaconda3\\lib\\site-packages\\sklearn\\utils\\validation.py:70: FutureWarning: Pass threshold=0.78 as keyword args. From version 1.0 (renaming of 0.25) passing these as positional arguments will result in an error\n",
      "  warnings.warn(f\"Pass {args_msg} as keyword args. From version \"\n",
      "C:\\Users\\phill\\anaconda3\\lib\\site-packages\\sklearn\\utils\\validation.py:70: FutureWarning: Pass threshold=0.79 as keyword args. From version 1.0 (renaming of 0.25) passing these as positional arguments will result in an error\n",
      "  warnings.warn(f\"Pass {args_msg} as keyword args. From version \"\n",
      "C:\\Users\\phill\\anaconda3\\lib\\site-packages\\sklearn\\utils\\validation.py:70: FutureWarning: Pass threshold=0.8 as keyword args. From version 1.0 (renaming of 0.25) passing these as positional arguments will result in an error\n",
      "  warnings.warn(f\"Pass {args_msg} as keyword args. From version \"\n",
      "C:\\Users\\phill\\anaconda3\\lib\\site-packages\\sklearn\\utils\\validation.py:70: FutureWarning: Pass threshold=0.81 as keyword args. From version 1.0 (renaming of 0.25) passing these as positional arguments will result in an error\n",
      "  warnings.warn(f\"Pass {args_msg} as keyword args. From version \"\n",
      "C:\\Users\\phill\\anaconda3\\lib\\site-packages\\sklearn\\utils\\validation.py:70: FutureWarning: Pass threshold=0.8200000000000001 as keyword args. From version 1.0 (renaming of 0.25) passing these as positional arguments will result in an error\n",
      "  warnings.warn(f\"Pass {args_msg} as keyword args. From version \"\n",
      "C:\\Users\\phill\\anaconda3\\lib\\site-packages\\sklearn\\utils\\validation.py:70: FutureWarning: Pass threshold=0.8300000000000001 as keyword args. From version 1.0 (renaming of 0.25) passing these as positional arguments will result in an error\n",
      "  warnings.warn(f\"Pass {args_msg} as keyword args. From version \"\n",
      "C:\\Users\\phill\\anaconda3\\lib\\site-packages\\sklearn\\utils\\validation.py:70: FutureWarning: Pass threshold=0.8400000000000001 as keyword args. From version 1.0 (renaming of 0.25) passing these as positional arguments will result in an error\n",
      "  warnings.warn(f\"Pass {args_msg} as keyword args. From version \"\n"
     ]
    },
    {
     "name": "stderr",
     "output_type": "stream",
     "text": [
      "C:\\Users\\phill\\anaconda3\\lib\\site-packages\\sklearn\\utils\\validation.py:70: FutureWarning: Pass threshold=0.85 as keyword args. From version 1.0 (renaming of 0.25) passing these as positional arguments will result in an error\n",
      "  warnings.warn(f\"Pass {args_msg} as keyword args. From version \"\n",
      "C:\\Users\\phill\\anaconda3\\lib\\site-packages\\sklearn\\utils\\validation.py:70: FutureWarning: Pass threshold=0.86 as keyword args. From version 1.0 (renaming of 0.25) passing these as positional arguments will result in an error\n",
      "  warnings.warn(f\"Pass {args_msg} as keyword args. From version \"\n",
      "C:\\Users\\phill\\anaconda3\\lib\\site-packages\\sklearn\\utils\\validation.py:70: FutureWarning: Pass threshold=0.87 as keyword args. From version 1.0 (renaming of 0.25) passing these as positional arguments will result in an error\n",
      "  warnings.warn(f\"Pass {args_msg} as keyword args. From version \"\n",
      "C:\\Users\\phill\\anaconda3\\lib\\site-packages\\sklearn\\utils\\validation.py:70: FutureWarning: Pass threshold=0.88 as keyword args. From version 1.0 (renaming of 0.25) passing these as positional arguments will result in an error\n",
      "  warnings.warn(f\"Pass {args_msg} as keyword args. From version \"\n",
      "C:\\Users\\phill\\anaconda3\\lib\\site-packages\\sklearn\\utils\\validation.py:70: FutureWarning: Pass threshold=0.89 as keyword args. From version 1.0 (renaming of 0.25) passing these as positional arguments will result in an error\n",
      "  warnings.warn(f\"Pass {args_msg} as keyword args. From version \"\n",
      "C:\\Users\\phill\\anaconda3\\lib\\site-packages\\sklearn\\utils\\validation.py:70: FutureWarning: Pass threshold=0.9 as keyword args. From version 1.0 (renaming of 0.25) passing these as positional arguments will result in an error\n",
      "  warnings.warn(f\"Pass {args_msg} as keyword args. From version \"\n",
      "C:\\Users\\phill\\anaconda3\\lib\\site-packages\\sklearn\\utils\\validation.py:70: FutureWarning: Pass threshold=0.91 as keyword args. From version 1.0 (renaming of 0.25) passing these as positional arguments will result in an error\n",
      "  warnings.warn(f\"Pass {args_msg} as keyword args. From version \"\n",
      "C:\\Users\\phill\\anaconda3\\lib\\site-packages\\sklearn\\utils\\validation.py:70: FutureWarning: Pass threshold=0.92 as keyword args. From version 1.0 (renaming of 0.25) passing these as positional arguments will result in an error\n",
      "  warnings.warn(f\"Pass {args_msg} as keyword args. From version \"\n",
      "C:\\Users\\phill\\anaconda3\\lib\\site-packages\\sklearn\\utils\\validation.py:70: FutureWarning: Pass threshold=0.93 as keyword args. From version 1.0 (renaming of 0.25) passing these as positional arguments will result in an error\n",
      "  warnings.warn(f\"Pass {args_msg} as keyword args. From version \"\n",
      "C:\\Users\\phill\\anaconda3\\lib\\site-packages\\sklearn\\utils\\validation.py:70: FutureWarning: Pass threshold=0.9400000000000001 as keyword args. From version 1.0 (renaming of 0.25) passing these as positional arguments will result in an error\n",
      "  warnings.warn(f\"Pass {args_msg} as keyword args. From version \"\n",
      "C:\\Users\\phill\\anaconda3\\lib\\site-packages\\sklearn\\utils\\validation.py:70: FutureWarning: Pass threshold=0.9500000000000001 as keyword args. From version 1.0 (renaming of 0.25) passing these as positional arguments will result in an error\n",
      "  warnings.warn(f\"Pass {args_msg} as keyword args. From version \"\n",
      "C:\\Users\\phill\\anaconda3\\lib\\site-packages\\sklearn\\utils\\validation.py:70: FutureWarning: Pass threshold=0.9600000000000001 as keyword args. From version 1.0 (renaming of 0.25) passing these as positional arguments will result in an error\n",
      "  warnings.warn(f\"Pass {args_msg} as keyword args. From version \"\n",
      "C:\\Users\\phill\\anaconda3\\lib\\site-packages\\sklearn\\utils\\validation.py:70: FutureWarning: Pass threshold=0.97 as keyword args. From version 1.0 (renaming of 0.25) passing these as positional arguments will result in an error\n",
      "  warnings.warn(f\"Pass {args_msg} as keyword args. From version \"\n",
      "C:\\Users\\phill\\anaconda3\\lib\\site-packages\\sklearn\\utils\\validation.py:70: FutureWarning: Pass threshold=0.98 as keyword args. From version 1.0 (renaming of 0.25) passing these as positional arguments will result in an error\n",
      "  warnings.warn(f\"Pass {args_msg} as keyword args. From version \"\n",
      "C:\\Users\\phill\\anaconda3\\lib\\site-packages\\sklearn\\utils\\validation.py:70: FutureWarning: Pass threshold=0.99 as keyword args. From version 1.0 (renaming of 0.25) passing these as positional arguments will result in an error\n",
      "  warnings.warn(f\"Pass {args_msg} as keyword args. From version \"\n"
     ]
    }
   ],
   "source": [
    "threshold_range = (np.linspace(0.01,0.99,99))\n",
    "y_pred_class_precision_scores = []\n",
    "y_pred_class_recall_scores = []\n",
    "\n",
    "for th in threshold_range:\n",
    "    #insert model also?\n",
    "    \n",
    "    y_pred_prob = model.predict_proba(X_test)[:, 1]\n",
    "    y_pred_class = binarize([y_pred_prob], th)[0]\n",
    "    \n",
    "    y_pred_class_precision_scores.append(precision_score(y_test, y_pred_class))\n",
    "    y_pred_class_recall_scores.append(recall_score(y_test, y_pred_class))"
   ]
  },
  {
   "cell_type": "code",
   "execution_count": 41,
   "id": "4e834580",
   "metadata": {},
   "outputs": [
    {
     "data": {
      "image/png": "[encoded data removed]",
      "text/plain": [
       "<Figure size 432x288 with 2 Axes>"
      ]
     },
     "metadata": {},
     "output_type": "display_data"
    }
   ],
   "source": [
    "fig, ax1 = plt.subplots()\n",
    "\n",
    "color = 'tab:orange'\n",
    "ax1.set_xlabel('threshold value')\n",
    "ax1.set_ylabel('recall score', color=color)\n",
    "ax1.plot(threshold_range, y_pred_class_recall_scores, color=color)\n",
    "ax1.tick_params(axis='y', labelcolor=color)\n",
    "\n",
    "ax2 = ax1.twinx()\n",
    "\n",
    "color = 'tab:blue'\n",
    "ax2.set_ylabel('precision score', color=color)\n",
    "ax2.plot(threshold_range, y_pred_class_precision_scores, color=color)\n",
    "ax2.tick_params(axis='y', labelcolor=color)"
   ]
  },
  {
   "cell_type": "code",
   "execution_count": 42,
   "id": "150256a5",
   "metadata": {},
   "outputs": [
    {
     "data": {
      "image/png": "[encoded data removed]",
      "text/plain": [
       "<Figure size 432x288 with 1 Axes>"
      ]
     },
     "metadata": {
      "needs_background": "light"
     },
     "output_type": "display_data"
    }
   ],
   "source": [
    "#ROC curve\n",
    "fpr, tpr, thresholds = roc_curve(y_test, y_pred_prob)\n",
    "plt.plot(fpr, tpr, color='orange')\n",
    "plt.plot([0,1],[0,1], color='blue', linestyle='--')\n",
    "plt.xlim([0.0, 1.0])\n",
    "plt.ylim([0.0, 1.0])\n",
    "plt.title('ROC curve for history-comment classifier')\n",
    "plt.xlabel('False Positive Rate (1 - Specificity)')\n",
    "plt.ylabel('True Positive Rate (Sensitivity)')\n",
    "plt.grid(True)"
   ]
  },
  {
   "cell_type": "code",
   "execution_count": 43,
   "id": "f1782ea9",
   "metadata": {},
   "outputs": [
    {
     "data": {
      "image/png": "[encoded data removed]",
      "text/plain": [
       "<Figure size 432x288 with 1 Axes>"
      ]
     },
     "metadata": {
      "needs_background": "light"
     },
     "output_type": "display_data"
    }
   ],
   "source": [
    "#precision-recall curve\n",
    "precision, recall, thresholds = precision_recall_curve(y_test, y_pred_prob)\n",
    "plt.plot(precision, recall, color='orange')\n",
    "plt.xlim([0.0, 1.0])\n",
    "plt.ylim([0.0, 1.0])\n",
    "plt.title('precision-recall curve for history-comment classifier')\n",
    "plt.xlabel('Recall')\n",
    "plt.ylabel('Precision')\n",
    "plt.grid(True)"
   ]
  },
  {
   "cell_type": "code",
   "execution_count": 44,
   "id": "ff4a6768",
   "metadata": {},
   "outputs": [
    {
     "name": "stdout",
     "output_type": "stream",
     "text": [
      "0.678479570880692\n"
     ]
    }
   ],
   "source": [
    "#ROC-AUC score\n",
    "print(roc_auc_score(y_test, y_pred_prob))"
   ]
  },
  {
   "cell_type": "markdown",
   "id": "2b88b170",
   "metadata": {},
   "source": [
    "# Repeating steps with balanced data"
   ]
  },
  {
   "cell_type": "markdown",
   "id": "e567a744",
   "metadata": {},
   "source": [
    "### Loading original data and balancing"
   ]
  },
  {
   "cell_type": "code",
   "execution_count": 45,
   "id": "2028a566",
   "metadata": {},
   "outputs": [],
   "source": [
    "data = pd.read_csv(\"project_18_dataset_combined.csv\")\n",
    "data = data[['label', 'text']]\n",
    "\n",
    "#set display option\n",
    "pd.set_option('display.max_colwidth', None)\n",
    "\n",
    "#make target labels boolean\n",
    "data['label']=data['label'].apply(lambda x: 1 if x == 14 else 0)"
   ]
  },
  {
   "cell_type": "code",
   "execution_count": 46,
   "id": "3094da0a",
   "metadata": {},
   "outputs": [
    {
     "name": "stdout",
     "output_type": "stream",
     "text": [
      "(19821, 2)\n",
      "0    18585\n",
      "1     1236\n",
      "Name: label, dtype: int64\n"
     ]
    },
    {
     "data": {
      "text/html": [
       "<div>\n",
       "<style scoped>\n",
       "    .dataframe tbody tr th:only-of-type {\n",
       "        vertical-align: middle;\n",
       "    }\n",
       "\n",
       "    .dataframe tbody tr th {\n",
       "        vertical-align: top;\n",
       "    }\n",
       "\n",
       "    .dataframe thead th {\n",
       "        text-align: right;\n",
       "    }\n",
       "</style>\n",
       "<table border=\"1\" class=\"dataframe\">\n",
       "  <thead>\n",
       "    <tr style=\"text-align: right;\">\n",
       "      <th></th>\n",
       "      <th>label</th>\n",
       "      <th>text</th>\n",
       "    </tr>\n",
       "  </thead>\n",
       "  <tbody>\n",
       "    <tr>\n",
       "      <th>0</th>\n",
       "      <td>0</td>\n",
       "      <td>Serious Youth Violence crimes, lone wolves basically.</td>\n",
       "    </tr>\n",
       "    <tr>\n",
       "      <th>1</th>\n",
       "      <td>0</td>\n",
       "      <td>Yesterday?</td>\n",
       "    </tr>\n",
       "    <tr>\n",
       "      <th>2</th>\n",
       "      <td>0</td>\n",
       "      <td>I would argue with you, but it seems pointless. If I understand you, your argument is this: the UK can do whatever it wants the UK is never wrong</td>\n",
       "    </tr>\n",
       "    <tr>\n",
       "      <th>3</th>\n",
       "      <td>0</td>\n",
       "      <td>the whole thing is pretty dumb desu, school kids could be in a class of 12 or whatever all mingling and thats fine, but if they leave school and they all go to the park then thats not not allowed</td>\n",
       "    </tr>\n",
       "    <tr>\n",
       "      <th>4</th>\n",
       "      <td>0</td>\n",
       "      <td>I fucking hope you re right, lad.</td>\n",
       "    </tr>\n",
       "  </tbody>\n",
       "</table>\n",
       "</div>"
      ],
      "text/plain": [
       "   label  \\\n",
       "0      0   \n",
       "1      0   \n",
       "2      0   \n",
       "3      0   \n",
       "4      0   \n",
       "\n",
       "                                                                                                                                                                                                  text  \n",
       "0                                                                                                                                                Serious Youth Violence crimes, lone wolves basically.  \n",
       "1                                                                                                                                                                                           Yesterday?  \n",
       "2                                                    I would argue with you, but it seems pointless. If I understand you, your argument is this: the UK can do whatever it wants the UK is never wrong  \n",
       "3  the whole thing is pretty dumb desu, school kids could be in a class of 12 or whatever all mingling and thats fine, but if they leave school and they all go to the park then thats not not allowed  \n",
       "4                                                                                                                                                                    I fucking hope you re right, lad.  "
      ]
     },
     "execution_count": 46,
     "metadata": {},
     "output_type": "execute_result"
    }
   ],
   "source": [
    "print(data.shape)\n",
    "print(data.label.value_counts())\n",
    "data.head()"
   ]
  },
  {
   "cell_type": "code",
   "execution_count": 47,
   "id": "dd4fa22a",
   "metadata": {},
   "outputs": [
    {
     "name": "stdout",
     "output_type": "stream",
     "text": [
      "(2472, 2)\n",
      "0    1236\n",
      "1    1236\n",
      "Name: label, dtype: int64\n"
     ]
    },
    {
     "data": {
      "text/html": [
       "<div>\n",
       "<style scoped>\n",
       "    .dataframe tbody tr th:only-of-type {\n",
       "        vertical-align: middle;\n",
       "    }\n",
       "\n",
       "    .dataframe tbody tr th {\n",
       "        vertical-align: top;\n",
       "    }\n",
       "\n",
       "    .dataframe thead th {\n",
       "        text-align: right;\n",
       "    }\n",
       "</style>\n",
       "<table border=\"1\" class=\"dataframe\">\n",
       "  <thead>\n",
       "    <tr style=\"text-align: right;\">\n",
       "      <th></th>\n",
       "      <th>label</th>\n",
       "      <th>text</th>\n",
       "    </tr>\n",
       "  </thead>\n",
       "  <tbody>\n",
       "    <tr>\n",
       "      <th>17921</th>\n",
       "      <td>0</td>\n",
       "      <td>pointing out the ruse is lower IQ than the people who just sit back and enjoy the show</td>\n",
       "    </tr>\n",
       "    <tr>\n",
       "      <th>17572</th>\n",
       "      <td>0</td>\n",
       "      <td>I am in bed dingus I am going to sleep Do not summon me again</td>\n",
       "    </tr>\n",
       "    <tr>\n",
       "      <th>15394</th>\n",
       "      <td>0</td>\n",
       "      <td>boy he just has the worst opinions about everything. But is he also the anti-awoo beaner?</td>\n",
       "    </tr>\n",
       "    <tr>\n",
       "      <th>19111</th>\n",
       "      <td>0</td>\n",
       "      <td>DAY OF THE RAKE!</td>\n",
       "    </tr>\n",
       "    <tr>\n",
       "      <th>189</th>\n",
       "      <td>0</td>\n",
       "      <td>Is it Constantine filming from the hell dimension?</td>\n",
       "    </tr>\n",
       "  </tbody>\n",
       "</table>\n",
       "</div>"
      ],
      "text/plain": [
       "       label  \\\n",
       "17921      0   \n",
       "17572      0   \n",
       "15394      0   \n",
       "19111      0   \n",
       "189        0   \n",
       "\n",
       "                                                                                            text  \n",
       "17921     pointing out the ruse is lower IQ than the people who just sit back and enjoy the show  \n",
       "17572                              I am in bed dingus I am going to sleep Do not summon me again  \n",
       "15394  boy he just has the worst opinions about everything. But is he also the anti-awoo beaner?  \n",
       "19111                                                                           DAY OF THE RAKE!  \n",
       "189                                           Is it Constantine filming from the hell dimension?  "
      ]
     },
     "execution_count": 47,
     "metadata": {},
     "output_type": "execute_result"
    }
   ],
   "source": [
    "#Balancing data\n",
    "count_label_0, count_label_1 = data.label.value_counts()\n",
    "\n",
    "data_label_1 = data[data['label'] == 1]\n",
    "data_label_0 = data[data['label'] == 0]\n",
    "\n",
    "data_label_0_b = data_label_0.sample(count_label_1, random_state=88)\n",
    "data_b = pd.concat([data_label_0_b, data_label_1])\n",
    "print(data_b.shape)\n",
    "print(data_b.label.value_counts())\n",
    "data_b.head()"
   ]
  },
  {
   "cell_type": "markdown",
   "id": "c96d5847",
   "metadata": {},
   "source": [
    "### Lemmatizing and evaluating effect of lemmatization on balanced data"
   ]
  },
  {
   "cell_type": "code",
   "execution_count": 48,
   "id": "5b56ee62",
   "metadata": {},
   "outputs": [],
   "source": [
    "#lemmatizing\n",
    "nlp = spacy.load('en_core_web_md')\n",
    "data_b['text_lemmatized'] = data_b['text'].apply(lambda x: \" \".join([words.lemma_ for words in nlp(x)]))"
   ]
  },
  {
   "cell_type": "code",
   "execution_count": 49,
   "id": "362e67bb",
   "metadata": {},
   "outputs": [],
   "source": [
    "#train/test split on original and preprocessed data\n",
    "X_train_old, X_test_old, y_train_old, y_test_old = train_test_split(data_b.text, data_b.label, test_size=0.2, random_state=88, stratify=data_b.label)\n",
    "X_train, X_test, y_train, y_test = train_test_split(data_b.text_lemmatized, data_b.label, test_size=0.2, random_state=88, stratify=data_b.label)"
   ]
  },
  {
   "cell_type": "code",
   "execution_count": 50,
   "id": "c9e8beb7",
   "metadata": {},
   "outputs": [],
   "source": [
    "#vectorizing train data and transforming test data\n",
    "vectorizer = CountVectorizer()\n",
    "X_train_old_dtm = vectorizer.fit_transform(X_train_old)\n",
    "X_test_old_dtm = vectorizer.transform(X_test_old)\n",
    "X_train_dtm = vectorizer.fit_transform(X_train)\n",
    "X_test_dtm = vectorizer.transform(X_test)"
   ]
  },
  {
   "cell_type": "code",
   "execution_count": 51,
   "id": "c9b913ba",
   "metadata": {},
   "outputs": [
    {
     "data": {
      "text/plain": [
       "MultinomialNB()"
      ]
     },
     "execution_count": 51,
     "metadata": {},
     "output_type": "execute_result"
    }
   ],
   "source": [
    "#train model on X_train_dtm\n",
    "mnb_old = MultinomialNB()\n",
    "mnb = MultinomialNB()\n",
    "mnb_old.fit(X_train_old_dtm, y_train_old)\n",
    "mnb.fit(X_train_dtm, y_train)"
   ]
  },
  {
   "cell_type": "code",
   "execution_count": 52,
   "id": "c108907f",
   "metadata": {},
   "outputs": [],
   "source": [
    "#make class prediction for X_test_dtm\n",
    "y_pred_class_old = mnb_old.predict(X_test_old_dtm)\n",
    "y_pred_class = mnb.predict(X_test_dtm)"
   ]
  },
  {
   "cell_type": "code",
   "execution_count": 53,
   "id": "71d93324",
   "metadata": {},
   "outputs": [
    {
     "name": "stdout",
     "output_type": "stream",
     "text": [
      "old model cm:\n",
      "[[114 134]\n",
      " [ 19 228]]\n",
      "new model cm:\n",
      "[[117 131]\n",
      " [ 18 229]]\n"
     ]
    }
   ],
   "source": [
    "#comparing confusing matrices\n",
    "print('old model cm:')\n",
    "print(confusion_matrix(y_test_old, y_pred_class_old))\n",
    "print('new model cm:')\n",
    "print(confusion_matrix(y_test, y_pred_class))"
   ]
  },
  {
   "cell_type": "code",
   "execution_count": 54,
   "id": "5f3b8b88",
   "metadata": {},
   "outputs": [
    {
     "name": "stdout",
     "output_type": "stream",
     "text": [
      "accuracy score old model: 0.6909090909090909\n",
      "accuracy score new model: 0.6989898989898989\n",
      "-----\n",
      "precision score old model: 0.6298342541436464\n",
      "precision score new model: 0.6361111111111111\n",
      "-----\n",
      "recall score old model: 0.9230769230769231\n",
      "recall score new model: 0.9271255060728745\n"
     ]
    }
   ],
   "source": [
    "#calculating accuracy, precison\n",
    "print('accuracy score old model:', accuracy_score(y_test_old, y_pred_class_old))\n",
    "print('accuracy score new model:', accuracy_score(y_test, y_pred_class))\n",
    "print('-----')\n",
    "print('precision score old model:', precision_score(y_test_old, y_pred_class_old))\n",
    "print('precision score new model:', precision_score(y_test, y_pred_class))\n",
    "print('-----')\n",
    "print('recall score old model:', recall_score(y_test_old, y_pred_class_old))\n",
    "print('recall score new model:', recall_score(y_test, y_pred_class))"
   ]
  },
  {
   "cell_type": "markdown",
   "id": "2929e284",
   "metadata": {},
   "source": [
    "### Spelling correction and evaluating effect of spell corrector on balanced data"
   ]
  },
  {
   "cell_type": "code",
   "execution_count": 55,
   "id": "45fab3db",
   "metadata": {},
   "outputs": [],
   "source": [
    "#def spelling_corrector(txt):\n",
    "#    blob = TextBlob(txt)\n",
    "#    return str(blob.correct())\n",
    "\n",
    "\n",
    "#data_b['text_spelling_corrected'] = data_b['text_lemmatized'].apply(lambda x : [spelling_corrector(x)])\n",
    "#data_b.head()"
   ]
  },
  {
   "cell_type": "code",
   "execution_count": 56,
   "id": "e979d809",
   "metadata": {},
   "outputs": [],
   "source": [
    "#data_b['text_spelling_corrected2'] = data_b['text_lemmatized'].apply(lambda x: ' '.join(TextBlob(x).correct()))\n",
    "#data_b.head"
   ]
  },
  {
   "cell_type": "markdown",
   "id": "12f5249f",
   "metadata": {},
   "source": [
    "### Effect of random states on balanced data (ceteris paribus)"
   ]
  },
  {
   "cell_type": "code",
   "execution_count": 57,
   "id": "53539a6f",
   "metadata": {},
   "outputs": [],
   "source": [
    "#make model with range of random states in train/test split\n",
    "\n",
    "random_state_range = range(0, 1000)\n",
    "rs_scores = []\n",
    "for rs in random_state_range:\n",
    "    vectorizer = CountVectorizer()\n",
    "    mnb = MultinomialNB()\n",
    "    X_train, X_test, y_train, y_test = train_test_split(data_b.text_lemmatized, data_b.label, random_state=rs, test_size=0.2, stratify=data_b.label)\n",
    "    \n",
    "    X_train_dtm = vectorizer.fit_transform(X_train)\n",
    "    X_test_dtm = vectorizer.transform(X_test)\n",
    "    \n",
    "    mnb.fit(X_train_dtm, y_train)\n",
    "    \n",
    "    y_pred_class = mnb.predict(X_test_dtm)\n",
    "    \n",
    "    rs_scores.append(precision_score(y_test, y_pred_class))"
   ]
  },
  {
   "cell_type": "code",
   "execution_count": 58,
   "id": "d28d400a",
   "metadata": {},
   "outputs": [
    {
     "name": "stdout",
     "output_type": "stream",
     "text": [
      "mean precision: 0.6666906962235224\n",
      "st.dev. of mean prec: 0.01775285240921235\n"
     ]
    },
    {
     "data": {
      "image/png": "[encoded data removed]",
      "text/plain": [
       "<Figure size 432x288 with 1 Axes>"
      ]
     },
     "metadata": {
      "needs_background": "light"
     },
     "output_type": "display_data"
    }
   ],
   "source": [
    "#calculating mean precision and standard deviation\n",
    "print('mean precision:', mean(rs_scores))\n",
    "print('st.dev. of mean prec:', stdev(rs_scores))\n",
    "\n",
    "#make plot\n",
    "plt.plot(random_state_range, rs_scores)\n",
    "plt.xlabel('Random state value')\n",
    "plt.ylabel('Testing precision')\n",
    "\n",
    "plt.grid(True)"
   ]
  },
  {
   "cell_type": "markdown",
   "id": "881df11a",
   "metadata": {},
   "source": [
    "### Effect of test sizes on balanced data (ceteris paribus)"
   ]
  },
  {
   "cell_type": "code",
   "execution_count": 59,
   "id": "8c634c92",
   "metadata": {},
   "outputs": [],
   "source": [
    "#make model with varying test sizes in train/test split\n",
    "test_size_range = np.linspace(0.05,0.5,91)\n",
    "test_size_scores = []\n",
    "\n",
    "for ts in test_size_range:\n",
    "    vectorizer = CountVectorizer()\n",
    "    mnb = MultinomialNB()\n",
    "    X_train, X_test, y_train, y_test = train_test_split(data_b.text_lemmatized, data_b.label, test_size=ts, random_state=88, stratify=data_b.label)\n",
    "    \n",
    "    X_train_dtm = vectorizer.fit_transform(X_train)\n",
    "    X_test_dtm = vectorizer.transform(X_test)\n",
    "    \n",
    "    mnb.fit(X_train_dtm, y_train)\n",
    "    \n",
    "    y_pred_class = mnb.predict(X_test_dtm)\n",
    "    \n",
    "    test_size_scores.append(precision_score(y_test, y_pred_class))"
   ]
  },
  {
   "cell_type": "code",
   "execution_count": 60,
   "id": "33e68992",
   "metadata": {},
   "outputs": [
    {
     "name": "stdout",
     "output_type": "stream",
     "text": [
      "mean precision: 0.6417491766627824\n",
      "st.dev. of mean prec: 0.011843778534741965\n"
     ]
    },
    {
     "data": {
      "image/png": "[encoded data removed]",
      "text/plain": [
       "<Figure size 432x288 with 1 Axes>"
      ]
     },
     "metadata": {
      "needs_background": "light"
     },
     "output_type": "display_data"
    }
   ],
   "source": [
    "#calculating mean precision and standard deviation\n",
    "print('mean precision:', mean(test_size_scores))\n",
    "print('st.dev. of mean prec:', stdev(test_size_scores))\n",
    "\n",
    "#make plot\n",
    "plt.plot(test_size_range, test_size_scores)\n",
    "plt.xlabel('Test size value')\n",
    "plt.ylabel('Testing precision')\n",
    "\n",
    "plt.grid(True)"
   ]
  },
  {
   "cell_type": "markdown",
   "id": "bec45f36",
   "metadata": {},
   "source": [
    "### Hyperparameter tuning on balanced data"
   ]
  },
  {
   "cell_type": "code",
   "execution_count": 61,
   "id": "4ebb6a76",
   "metadata": {},
   "outputs": [],
   "source": [
    "#train/test splitting\n",
    "X_train, X_test, y_train, y_test = train_test_split(data_b.text_lemmatized, data_b.label, test_size=0.2, random_state=88, stratify=data_b.label)"
   ]
  },
  {
   "cell_type": "code",
   "execution_count": 62,
   "id": "7631e79b",
   "metadata": {},
   "outputs": [],
   "source": [
    "#making pipeline\n",
    "pipeline = Pipeline([ ('vectorizer', CountVectorizer()), ('classifier', MultinomialNB()) ])"
   ]
  },
  {
   "cell_type": "markdown",
   "id": "7e954a76",
   "metadata": {},
   "source": [
    "#### Q: include ('tfidf', TfidfTransformer()) in pipeline???"
   ]
  },
  {
   "cell_type": "code",
   "execution_count": 63,
   "id": "63cb0c58",
   "metadata": {},
   "outputs": [],
   "source": [
    "#grid = {\n",
    "    #'vectorizer__strip_accents': [None, 'ascii', 'unicode'], #works\n",
    "    #'vectorizer__lowercase': [True, False], #works\n",
    "    #'vectorizer__ngram_range': [(1, 1), (1, 2), (1, 3)], #works\n",
    "    #'vectorizer__stop_words': [None, 'english'], #works\n",
    "    #'vectorizer__max_df': [1.0, 0.9, 0.8, 0.7, 0.6, 0.5], #works\n",
    "    #'vectorizer__min_df': [1, 0.001, 0.002, 0.005, 0.01, 0.02], #works\n",
    "    #'vectorizer__max_features': [None, 1, 10, 100, 1000, 10000], #works\n",
    "    #'classifier__alpha': [0.1, 0.5, 1.0, 2.0], #works\n",
    "    #'classifier__fit_prior': [True, False], #works\n",
    "    #'classifier__class_prior': [[0.1, 0.9], [0.1, 0.8], [0.2, 0.9], [0.2, 0.8]], #works\n",
    "    #'tfidf__norm': ['l1', 'l2'], #works\n",
    "    #'tfidf__use_idf': [True, False], #works\n",
    "    #'tfidf__smooth_idf': [True, False], #works\n",
    "    #'tfidf__sublinear_tf': [True, False], #works\n",
    "#}\n",
    "\n",
    "#grid_search = GridSearchCV(pipeline, param_grid=grid, scoring='precision', cv=10)\n",
    "#grid_search.fit(X, y)\n",
    "\n",
    "#print(\"-----------\")\n",
    "#print(grid_search.best_score_)\n",
    "#print(grid_search.best_params_)"
   ]
  },
  {
   "cell_type": "code",
   "execution_count": 64,
   "id": "2efe9342",
   "metadata": {},
   "outputs": [
    {
     "name": "stdout",
     "output_type": "stream",
     "text": [
      "0.6707594025308583\n",
      "{}\n"
     ]
    },
    {
     "data": {
      "text/html": [
       "<div>\n",
       "<style scoped>\n",
       "    .dataframe tbody tr th:only-of-type {\n",
       "        vertical-align: middle;\n",
       "    }\n",
       "\n",
       "    .dataframe tbody tr th {\n",
       "        vertical-align: top;\n",
       "    }\n",
       "\n",
       "    .dataframe thead th {\n",
       "        text-align: right;\n",
       "    }\n",
       "</style>\n",
       "<table border=\"1\" class=\"dataframe\">\n",
       "  <thead>\n",
       "    <tr style=\"text-align: right;\">\n",
       "      <th></th>\n",
       "      <th>params</th>\n",
       "      <th>mean_test_score</th>\n",
       "      <th>std_test_score</th>\n",
       "    </tr>\n",
       "  </thead>\n",
       "  <tbody>\n",
       "    <tr>\n",
       "      <th>0</th>\n",
       "      <td>{}</td>\n",
       "      <td>0.670759</td>\n",
       "      <td>0.024654</td>\n",
       "    </tr>\n",
       "  </tbody>\n",
       "</table>\n",
       "</div>"
      ],
      "text/plain": [
       "  params  mean_test_score  std_test_score\n",
       "0     {}         0.670759        0.024654"
      ]
     },
     "execution_count": 64,
     "metadata": {},
     "output_type": "execute_result"
    }
   ],
   "source": [
    "grid = {}\n",
    "        \n",
    "\n",
    "grid_search = GridSearchCV(pipeline, param_grid=grid, scoring='precision', cv=10)\n",
    "grid_search.fit(data_b.text_lemmatized, data_b.label)\n",
    "\n",
    "print(grid_search.best_score_)\n",
    "print(grid_search.best_params_)\n",
    "\n",
    "results = pd.DataFrame(grid_search.cv_results_)\n",
    "results[['params', 'mean_test_score','std_test_score']]"
   ]
  },
  {
   "cell_type": "markdown",
   "id": "b4fec9e1",
   "metadata": {},
   "source": [
    "### Evaluation between models with default and tuned parameters (balanced data)"
   ]
  },
  {
   "cell_type": "code",
   "execution_count": 65,
   "id": "fe47e3be",
   "metadata": {},
   "outputs": [
    {
     "name": "stdout",
     "output_type": "stream",
     "text": [
      "accuracy score before tuning model: 0.6989898989898989\n",
      "accuracy score after tuning: 0.6989898989898989\n",
      "-----\n",
      "precision score before tuning: 0.6361111111111111\n",
      "precision score after tuning: 0.6361111111111111\n",
      "-----\n",
      "recall score before tuning: 0.9271255060728745\n",
      "recall score after tuning: 0.9271255060728745\n"
     ]
    }
   ],
   "source": [
    "#calculating accuracy, precison and roc_auc between models with default and tuned parameters\n",
    "#set best parameters in pipeline for comparison\n",
    "\n",
    "pipeline_old = Pipeline([ ('vectorizer', CountVectorizer()), ('classifier', MultinomialNB()) ])\n",
    "pipeline = Pipeline([ ('vectorizer', CountVectorizer()), ('classifier', MultinomialNB()) ])\n",
    "     \n",
    "model_old = pipeline_old.fit(X_train, y_train)\n",
    "model = pipeline.fit(X_train, y_train)\n",
    "\n",
    "y_pred_class_old = model_old.predict(X_test)\n",
    "y_pred_class = model.predict(X_test)\n",
    "\n",
    "print('accuracy score before tuning model:', accuracy_score(y_test, y_pred_class_old))\n",
    "print('accuracy score after tuning:', accuracy_score(y_test, y_pred_class))\n",
    "print('-----')\n",
    "print('precision score before tuning:', precision_score(y_test, y_pred_class_old))\n",
    "print('precision score after tuning:', precision_score(y_test, y_pred_class))\n",
    "print('-----')\n",
    "print('recall score before tuning:', recall_score(y_test, y_pred_class_old))\n",
    "print('recall score after tuning:', recall_score(y_test, y_pred_class))"
   ]
  },
  {
   "cell_type": "code",
   "execution_count": 66,
   "id": "6c598960",
   "metadata": {},
   "outputs": [
    {
     "name": "stdout",
     "output_type": "stream",
     "text": [
      "Counter({0: 248, 1: 247})\n",
      "Counter({1: 360, 0: 135})\n",
      "Counter({1: 360, 0: 135})\n"
     ]
    }
   ],
   "source": [
    "print(Counter(y_test))\n",
    "print(Counter(y_pred_class_old))\n",
    "print(Counter(y_pred_class))"
   ]
  },
  {
   "cell_type": "code",
   "execution_count": 67,
   "id": "7fe9aa41",
   "metadata": {},
   "outputs": [
    {
     "name": "stdout",
     "output_type": "stream",
     "text": [
      "old model cm:\n",
      "[[117 131]\n",
      " [ 18 229]]\n",
      "new model cm:\n",
      "[[117 131]\n",
      " [ 18 229]]\n"
     ]
    }
   ],
   "source": [
    "#comparing confusing matrices\n",
    "print('old model cm:')\n",
    "print(confusion_matrix(y_test, y_pred_class_old))\n",
    "print('new model cm:')\n",
    "print(confusion_matrix(y_test, y_pred_class))"
   ]
  },
  {
   "cell_type": "markdown",
   "id": "5e667bf0",
   "metadata": {},
   "source": [
    "#### Q: Crossvalidation on final model???"
   ]
  },
  {
   "cell_type": "markdown",
   "id": "8243701e",
   "metadata": {},
   "source": [
    "### Examining results (balanced data)"
   ]
  },
  {
   "cell_type": "code",
   "execution_count": 68,
   "id": "74611b46",
   "metadata": {},
   "outputs": [
    {
     "name": "stdout",
     "output_type": "stream",
     "text": [
      "(131, 1)\n"
     ]
    },
    {
     "data": {
      "text/html": [
       "<div>\n",
       "<style scoped>\n",
       "    .dataframe tbody tr th:only-of-type {\n",
       "        vertical-align: middle;\n",
       "    }\n",
       "\n",
       "    .dataframe tbody tr th {\n",
       "        vertical-align: top;\n",
       "    }\n",
       "\n",
       "    .dataframe thead th {\n",
       "        text-align: right;\n",
       "    }\n",
       "</style>\n",
       "<table border=\"1\" class=\"dataframe\">\n",
       "  <thead>\n",
       "    <tr style=\"text-align: right;\">\n",
       "      <th></th>\n",
       "      <th>false_positives</th>\n",
       "    </tr>\n",
       "  </thead>\n",
       "  <tbody>\n",
       "    <tr>\n",
       "      <th>17188</th>\n",
       "      <td>when you consider that the one on the right be originally cover with garish bright paint that completely hide the aesthetic of the marble I m apt to consider that maybe the Africans have well taste .</td>\n",
       "    </tr>\n",
       "    <tr>\n",
       "      <th>10162</th>\n",
       "      <td>I mean sure , but what would you suggest the third most populated country choose out of the two ? I m glad there s only one china</td>\n",
       "    </tr>\n",
       "    <tr>\n",
       "      <th>14006</th>\n",
       "      <td>that s how anyone cope with loss or grief if they re healthy productive people . it do nt mean that they be nt grieve if they occupy their time with a hobby or work , they simply realize that the world do nt stop for you whenever you re sad . the true cure for depression be productive activity .</td>\n",
       "    </tr>\n",
       "    <tr>\n",
       "      <th>8784</th>\n",
       "      <td>some people may have state that , but I don t think it be a known fact yet , they could be mistaken or there may be a few diff strain go around , or it could be due to faulty testing result , which there be a lot of apparently</td>\n",
       "    </tr>\n",
       "    <tr>\n",
       "      <th>2888</th>\n",
       "      <td>I use to only shit once a day , I switch to two time a day and now I m a chad with a healthy anus</td>\n",
       "    </tr>\n",
       "    <tr>\n",
       "      <th>...</th>\n",
       "      <td>...</td>\n",
       "    </tr>\n",
       "    <tr>\n",
       "      <th>18079</th>\n",
       "      <td>only a matter of time until cop start to go miss .</td>\n",
       "    </tr>\n",
       "    <tr>\n",
       "      <th>11882</th>\n",
       "      <td>soon you ll have to give that all up to a black family . you re do</td>\n",
       "    </tr>\n",
       "    <tr>\n",
       "      <th>8940</th>\n",
       "      <td>cope o p e</td>\n",
       "    </tr>\n",
       "    <tr>\n",
       "      <th>3237</th>\n",
       "      <td>\" pure \" gypsy they do nt exist , they be mix an look well</td>\n",
       "    </tr>\n",
       "    <tr>\n",
       "      <th>731</th>\n",
       "      <td>he take out an life insurance policy on her</td>\n",
       "    </tr>\n",
       "  </tbody>\n",
       "</table>\n",
       "<p>131 rows × 1 columns</p>\n",
       "</div>"
      ],
      "text/plain": [
       "                                                                                                                                                                                                                                                                                                false_positives\n",
       "17188                                                                                                   when you consider that the one on the right be originally cover with garish bright paint that completely hide the aesthetic of the marble I m apt to consider that maybe the Africans have well taste .\n",
       "10162                                                                                                                                                                         I mean sure , but what would you suggest the third most populated country choose out of the two ? I m glad there s only one china\n",
       "14006  that s how anyone cope with loss or grief if they re healthy productive people . it do nt mean that they be nt grieve if they occupy their time with a hobby or work , they simply realize that the world do nt stop for you whenever you re sad . the true cure for depression be productive activity .\n",
       "8784                                                                         some people may have state that , but I don t think it be a known fact yet , they could be mistaken or there may be a few diff strain go around , or it could be due to faulty testing result , which there be a lot of apparently\n",
       "2888                                                                                                                                                                                                          I use to only shit once a day , I switch to two time a day and now I m a chad with a healthy anus\n",
       "...                                                                                                                                                                                                                                                                                                         ...\n",
       "18079                                                                                                                                                                                                                                                        only a matter of time until cop start to go miss .\n",
       "11882                                                                                                                                                                                                                                        soon you ll have to give that all up to a black family . you re do\n",
       "8940                                                                                                                                                                                                                                                                                                 cope o p e\n",
       "3237                                                                                                                                                                                                                                                 \" pure \" gypsy they do nt exist , they be mix an look well\n",
       "731                                                                                                                                                                                                                                                                 he take out an life insurance policy on her\n",
       "\n",
       "[131 rows x 1 columns]"
      ]
     },
     "execution_count": 68,
     "metadata": {},
     "output_type": "execute_result"
    }
   ],
   "source": [
    "#see false positive comments\n",
    "false_positives = pd.DataFrame({'false_positives': X_test[(y_pred_class==1) & (y_test==0)]})\n",
    "print(false_positives.shape)\n",
    "false_positives"
   ]
  },
  {
   "cell_type": "code",
   "execution_count": 69,
   "id": "0e01ba7d",
   "metadata": {},
   "outputs": [
    {
     "name": "stdout",
     "output_type": "stream",
     "text": [
      "(18, 1)\n"
     ]
    },
    {
     "data": {
      "text/html": [
       "<div>\n",
       "<style scoped>\n",
       "    .dataframe tbody tr th:only-of-type {\n",
       "        vertical-align: middle;\n",
       "    }\n",
       "\n",
       "    .dataframe tbody tr th {\n",
       "        vertical-align: top;\n",
       "    }\n",
       "\n",
       "    .dataframe thead th {\n",
       "        text-align: right;\n",
       "    }\n",
       "</style>\n",
       "<table border=\"1\" class=\"dataframe\">\n",
       "  <thead>\n",
       "    <tr style=\"text-align: right;\">\n",
       "      <th></th>\n",
       "      <th>false_negatives</th>\n",
       "    </tr>\n",
       "  </thead>\n",
       "  <tbody>\n",
       "    <tr>\n",
       "      <th>4340</th>\n",
       "      <td>if you ever try mytrueancestry they test your dna vs ancient population .</td>\n",
       "    </tr>\n",
       "    <tr>\n",
       "      <th>13029</th>\n",
       "      <td>what year be that ? I swear these fucking nigger can t move on from shit happen even a thousand year ago . and twitter be definitely make it an echochamber for express leave only think</td>\n",
       "    </tr>\n",
       "    <tr>\n",
       "      <th>9913</th>\n",
       "      <td>oh do they catch DB Cooper ? I miss that news .</td>\n",
       "    </tr>\n",
       "    <tr>\n",
       "      <th>6821</th>\n",
       "      <td>ok now you re piss I off . what happen when you remove one specie from an ecosystem human haven t be remove you utter failed abortion . activity will have decline 50 % on average at most . you re so fucking dumb you think the Industrial Revolution happen overnight everywhere and that be the last time human activity be this low . because you re not just schizo , you re a fucking moron with concomitant dun - kruger narcissism . you really ought to kill yourself . and I assure you , you will .</td>\n",
       "    </tr>\n",
       "    <tr>\n",
       "      <th>1276</th>\n",
       "      <td>thank for the flag bro , and to the pagan estonian tribe who help we establish the territory Danish - Estonia . good time</td>\n",
       "    </tr>\n",
       "    <tr>\n",
       "      <th>6522</th>\n",
       "      <td>that image lol why be rape Berlin wrong ?</td>\n",
       "    </tr>\n",
       "    <tr>\n",
       "      <th>6146</th>\n",
       "      <td>sometimes I doubt if this be true , because I lose fat and my muscle size get noticable big and my weight go down . unironically yes . I don t do the stuff but a lot of drug habit will keep you skinny whether its weed cig or hard shit . almost all fat people do no drug . everyone be skinny in the 50 til the 80 and during this time americans be pop a lot of pill and everyone smoke cig .</td>\n",
       "    </tr>\n",
       "    <tr>\n",
       "      <th>16274</th>\n",
       "      <td>yes , definitely . it s like a domestic version of the deal Reagan work out with Iran so they wouldn t release their US hostage until after the 1980 election to damage Carter .</td>\n",
       "    </tr>\n",
       "    <tr>\n",
       "      <th>14003</th>\n",
       "      <td>Pizza gate start in 1666</td>\n",
       "    </tr>\n",
       "    <tr>\n",
       "      <th>15473</th>\n",
       "      <td>these guy be tough , they defeat a year old flag and some statue</td>\n",
       "    </tr>\n",
       "    <tr>\n",
       "      <th>15955</th>\n",
       "      <td>say something nice about Il Duce .</td>\n",
       "    </tr>\n",
       "    <tr>\n",
       "      <th>17362</th>\n",
       "      <td>https://www.ncbi.nlm.nih.gov/pmc/ar ticle / PMC6468140/ from November to December of 1918 ( spring ) , a total of death due to influenza occur in Montevideo a total of death account from July to September of 1919 ( winter ) in the same city basically Spanish Flu here kill 130 - 140 people per month . the two wave we have , one in summer of 1918 and the other in winter of 1919 , give a total number of 1000 + death . meanwhile , coronavirus ... multiple wave but only 30 death in 6 month . you tell I this be gon na be a Spanish Flu - tier event . you lie to I . fuck you all .</td>\n",
       "    </tr>\n",
       "    <tr>\n",
       "      <th>6202</th>\n",
       "      <td>this be completely false 90 s mom propaganda .</td>\n",
       "    </tr>\n",
       "    <tr>\n",
       "      <th>1397</th>\n",
       "      <td>reconquist my ass</td>\n",
       "    </tr>\n",
       "    <tr>\n",
       "      <th>16784</th>\n",
       "      <td>well than live next to nigger if we ’re gon na pick chair on the titanic , I do n’t want to sit next to a loud nigger</td>\n",
       "    </tr>\n",
       "    <tr>\n",
       "      <th>10500</th>\n",
       "      <td>first , your not a Polack . second , show I where eastern Europe pay we back for the marshall plan and I ll show you why western Europe be able to pay for universal health care . ( because we subsidize their defense , which put a giant hole in your police the world argument ) no more petro dollar mean no more free healthcare over there do it .</td>\n",
       "    </tr>\n",
       "    <tr>\n",
       "      <th>3805</th>\n",
       "      <td>REICHSTAG FIRE MOMENT</td>\n",
       "    </tr>\n",
       "    <tr>\n",
       "      <th>14380</th>\n",
       "      <td>literally every person involve in the study of the pyramid have say that no technology could ve build they 2020 : hey here be this random checkmark twatter genius who say x , and look she have a vagina so believe she and throw all previous knowledge out the window it s all so tiresome</td>\n",
       "    </tr>\n",
       "  </tbody>\n",
       "</table>\n",
       "</div>"
      ],
      "text/plain": [
       "                                                                                                                                                                                                                                                                                                                                                                                                                                                                                                                                                                                           false_negatives\n",
       "4340                                                                                                                                                                                                                                                                                                                                                                                                                                                                                                                             if you ever try mytrueancestry they test your dna vs ancient population .\n",
       "13029                                                                                                                                                                                                                                                                                                                                                                                                             what year be that ? I swear these fucking nigger can t move on from shit happen even a thousand year ago . and twitter be definitely make it an echochamber for express leave only think\n",
       "9913                                                                                                                                                                                                                                                                                                                                                                                                                                                                                                                                                       oh do they catch DB Cooper ? I miss that news .\n",
       "6821                                                                                       ok now you re piss I off . what happen when you remove one specie from an ecosystem human haven t be remove you utter failed abortion . activity will have decline 50 % on average at most . you re so fucking dumb you think the Industrial Revolution happen overnight everywhere and that be the last time human activity be this low . because you re not just schizo , you re a fucking moron with concomitant dun - kruger narcissism . you really ought to kill yourself . and I assure you , you will .\n",
       "1276                                                                                                                                                                                                                                                                                                                                                                                                                                                                             thank for the flag bro , and to the pagan estonian tribe who help we establish the territory Danish - Estonia . good time\n",
       "6522                                                                                                                                                                                                                                                                                                                                                                                                                                                                                                                                                             that image lol why be rape Berlin wrong ?\n",
       "6146                                                                                                                                                                                                  sometimes I doubt if this be true , because I lose fat and my muscle size get noticable big and my weight go down . unironically yes . I don t do the stuff but a lot of drug habit will keep you skinny whether its weed cig or hard shit . almost all fat people do no drug . everyone be skinny in the 50 til the 80 and during this time americans be pop a lot of pill and everyone smoke cig .\n",
       "16274                                                                                                                                                                                                                                                                                                                                                                                                                     yes , definitely . it s like a domestic version of the deal Reagan work out with Iran so they wouldn t release their US hostage until after the 1980 election to damage Carter .\n",
       "14003                                                                                                                                                                                                                                                                                                                                                                                                                                                                                                                                                                             Pizza gate start in 1666\n",
       "15473                                                                                                                                                                                                                                                                                                                                                                                                                                                                                                                                     these guy be tough , they defeat a year old flag and some statue\n",
       "15955                                                                                                                                                                                                                                                                                                                                                                                                                                                                                                                                                                   say something nice about Il Duce .\n",
       "17362  https://www.ncbi.nlm.nih.gov/pmc/ar ticle / PMC6468140/ from November to December of 1918 ( spring ) , a total of death due to influenza occur in Montevideo a total of death account from July to September of 1919 ( winter ) in the same city basically Spanish Flu here kill 130 - 140 people per month . the two wave we have , one in summer of 1918 and the other in winter of 1919 , give a total number of 1000 + death . meanwhile , coronavirus ... multiple wave but only 30 death in 6 month . you tell I this be gon na be a Spanish Flu - tier event . you lie to I . fuck you all .\n",
       "6202                                                                                                                                                                                                                                                                                                                                                                                                                                                                                                                                                        this be completely false 90 s mom propaganda .\n",
       "1397                                                                                                                                                                                                                                                                                                                                                                                                                                                                                                                                                                                     reconquist my ass\n",
       "16784                                                                                                                                                                                                                                                                                                                                                                                                                                                                                well than live next to nigger if we ’re gon na pick chair on the titanic , I do n’t want to sit next to a loud nigger\n",
       "10500                                                                                                                                                                                                                                            first , your not a Polack . second , show I where eastern Europe pay we back for the marshall plan and I ll show you why western Europe be able to pay for universal health care . ( because we subsidize their defense , which put a giant hole in your police the world argument ) no more petro dollar mean no more free healthcare over there do it .\n",
       "3805                                                                                                                                                                                                                                                                                                                                                                                                                                                                                                                                                                                 REICHSTAG FIRE MOMENT\n",
       "14380                                                                                                                                                                                                                                                                                                        literally every person involve in the study of the pyramid have say that no technology could ve build they 2020 : hey here be this random checkmark twatter genius who say x , and look she have a vagina so believe she and throw all previous knowledge out the window it s all so tiresome"
      ]
     },
     "execution_count": 69,
     "metadata": {},
     "output_type": "execute_result"
    }
   ],
   "source": [
    "#see false negative comments\n",
    "false_negatives = pd.DataFrame({'false_negatives': X_test[(y_pred_class==0) & (y_test==1)]})\n",
    "print(false_negatives.shape)\n",
    "false_negatives"
   ]
  },
  {
   "cell_type": "code",
   "execution_count": 70,
   "id": "83cff2a3",
   "metadata": {},
   "outputs": [],
   "source": [
    "# store the vocabulary of X_train\n",
    "X_train_tokens = vectorizer.get_feature_names()\n",
    "\n",
    "# number of times each token appears across all history comments\n",
    "hisco_token_count = mnb.feature_count_[1, :]\n",
    "\n",
    "# number of times each token appears across all non-history comments\n",
    "nhisco_token_count = mnb.feature_count_[0, :]"
   ]
  },
  {
   "cell_type": "code",
   "execution_count": 71,
   "id": "a6b1920e",
   "metadata": {},
   "outputs": [],
   "source": [
    "# create a DataFrame of tokens with their separate his and non-his counts\n",
    "tokens = pd.DataFrame({'token':X_train_tokens, 'non_history':nhisco_token_count, 'history':hisco_token_count}).set_index('token')\n",
    "\n",
    "# add 1 to each label counts to avoid dividing by 0\n",
    "tokens['non_history'] = tokens.non_history + 1\n",
    "tokens['history'] = tokens.history + 1\n",
    "\n",
    "# convert his and non-his counts into frequencies\n",
    "tokens['non_history'] = tokens.non_history / mnb.class_count_[0]\n",
    "tokens['history'] = tokens.history / mnb.class_count_[1]\n",
    "\n",
    "# calculate the ratio of his-to-non-his for each token\n",
    "tokens['history_ratio'] = tokens.history / tokens.non_history\n",
    "\n",
    "# calculate the ratio of non-his-to-his for each token\n",
    "tokens['non_history_ratio'] = tokens.non_history / tokens.history"
   ]
  },
  {
   "cell_type": "code",
   "execution_count": 72,
   "id": "d855963f",
   "metadata": {},
   "outputs": [
    {
     "data": {
      "text/html": [
       "<div>\n",
       "<style scoped>\n",
       "    .dataframe tbody tr th:only-of-type {\n",
       "        vertical-align: middle;\n",
       "    }\n",
       "\n",
       "    .dataframe tbody tr th {\n",
       "        vertical-align: top;\n",
       "    }\n",
       "\n",
       "    .dataframe thead th {\n",
       "        text-align: right;\n",
       "    }\n",
       "</style>\n",
       "<table border=\"1\" class=\"dataframe\">\n",
       "  <thead>\n",
       "    <tr style=\"text-align: right;\">\n",
       "      <th></th>\n",
       "      <th>non_history</th>\n",
       "      <th>history</th>\n",
       "      <th>history_ratio</th>\n",
       "      <th>non_history_ratio</th>\n",
       "    </tr>\n",
       "    <tr>\n",
       "      <th>token</th>\n",
       "      <th></th>\n",
       "      <th></th>\n",
       "      <th></th>\n",
       "      <th></th>\n",
       "    </tr>\n",
       "  </thead>\n",
       "  <tbody>\n",
       "    <tr>\n",
       "      <th>hitler</th>\n",
       "      <td>0.001618</td>\n",
       "      <td>0.084142</td>\n",
       "      <td>52.0</td>\n",
       "      <td>0.019231</td>\n",
       "    </tr>\n",
       "    <tr>\n",
       "      <th>century</th>\n",
       "      <td>0.001618</td>\n",
       "      <td>0.053398</td>\n",
       "      <td>33.0</td>\n",
       "      <td>0.030303</td>\n",
       "    </tr>\n",
       "    <tr>\n",
       "      <th>catholic</th>\n",
       "      <td>0.001618</td>\n",
       "      <td>0.038835</td>\n",
       "      <td>24.0</td>\n",
       "      <td>0.041667</td>\n",
       "    </tr>\n",
       "    <tr>\n",
       "      <th>family</th>\n",
       "      <td>0.003236</td>\n",
       "      <td>0.074434</td>\n",
       "      <td>23.0</td>\n",
       "      <td>0.043478</td>\n",
       "    </tr>\n",
       "    <tr>\n",
       "      <th>civilization</th>\n",
       "      <td>0.001618</td>\n",
       "      <td>0.033981</td>\n",
       "      <td>21.0</td>\n",
       "      <td>0.047619</td>\n",
       "    </tr>\n",
       "    <tr>\n",
       "      <th>rome</th>\n",
       "      <td>0.001618</td>\n",
       "      <td>0.032362</td>\n",
       "      <td>20.0</td>\n",
       "      <td>0.050000</td>\n",
       "    </tr>\n",
       "    <tr>\n",
       "      <th>slavery</th>\n",
       "      <td>0.001618</td>\n",
       "      <td>0.027508</td>\n",
       "      <td>17.0</td>\n",
       "      <td>0.058824</td>\n",
       "    </tr>\n",
       "    <tr>\n",
       "      <th>slave</th>\n",
       "      <td>0.003236</td>\n",
       "      <td>0.051780</td>\n",
       "      <td>16.0</td>\n",
       "      <td>0.062500</td>\n",
       "    </tr>\n",
       "    <tr>\n",
       "      <th>jfk</th>\n",
       "      <td>0.001618</td>\n",
       "      <td>0.025890</td>\n",
       "      <td>16.0</td>\n",
       "      <td>0.062500</td>\n",
       "    </tr>\n",
       "    <tr>\n",
       "      <th>pyramid</th>\n",
       "      <td>0.001618</td>\n",
       "      <td>0.025890</td>\n",
       "      <td>16.0</td>\n",
       "      <td>0.062500</td>\n",
       "    </tr>\n",
       "  </tbody>\n",
       "</table>\n",
       "</div>"
      ],
      "text/plain": [
       "              non_history   history  history_ratio  non_history_ratio\n",
       "token                                                                \n",
       "hitler           0.001618  0.084142           52.0           0.019231\n",
       "century          0.001618  0.053398           33.0           0.030303\n",
       "catholic         0.001618  0.038835           24.0           0.041667\n",
       "family           0.003236  0.074434           23.0           0.043478\n",
       "civilization     0.001618  0.033981           21.0           0.047619\n",
       "rome             0.001618  0.032362           20.0           0.050000\n",
       "slavery          0.001618  0.027508           17.0           0.058824\n",
       "slave            0.003236  0.051780           16.0           0.062500\n",
       "jfk              0.001618  0.025890           16.0           0.062500\n",
       "pyramid          0.001618  0.025890           16.0           0.062500"
      ]
     },
     "execution_count": 72,
     "metadata": {},
     "output_type": "execute_result"
    }
   ],
   "source": [
    "# examine the DataFrame sorted by history_comments_ratio\n",
    "tokens_his = tokens.sort_values('history_ratio', ascending=False)\n",
    "tokens_his[0:10]"
   ]
  },
  {
   "cell_type": "code",
   "execution_count": 73,
   "id": "3d3b535d",
   "metadata": {},
   "outputs": [
    {
     "data": {
      "text/html": [
       "<div>\n",
       "<style scoped>\n",
       "    .dataframe tbody tr th:only-of-type {\n",
       "        vertical-align: middle;\n",
       "    }\n",
       "\n",
       "    .dataframe tbody tr th {\n",
       "        vertical-align: top;\n",
       "    }\n",
       "\n",
       "    .dataframe thead th {\n",
       "        text-align: right;\n",
       "    }\n",
       "</style>\n",
       "<table border=\"1\" class=\"dataframe\">\n",
       "  <thead>\n",
       "    <tr style=\"text-align: right;\">\n",
       "      <th></th>\n",
       "      <th>non_history</th>\n",
       "      <th>history</th>\n",
       "      <th>history_ratio</th>\n",
       "      <th>non_history_ratio</th>\n",
       "    </tr>\n",
       "    <tr>\n",
       "      <th>token</th>\n",
       "      <th></th>\n",
       "      <th></th>\n",
       "      <th></th>\n",
       "      <th></th>\n",
       "    </tr>\n",
       "  </thead>\n",
       "  <tbody>\n",
       "    <tr>\n",
       "      <th>test</th>\n",
       "      <td>0.024272</td>\n",
       "      <td>0.001618</td>\n",
       "      <td>0.066667</td>\n",
       "      <td>15.0</td>\n",
       "    </tr>\n",
       "    <tr>\n",
       "      <th>biden</th>\n",
       "      <td>0.022654</td>\n",
       "      <td>0.001618</td>\n",
       "      <td>0.071429</td>\n",
       "      <td>14.0</td>\n",
       "    </tr>\n",
       "    <tr>\n",
       "      <th>anyway</th>\n",
       "      <td>0.014563</td>\n",
       "      <td>0.001618</td>\n",
       "      <td>0.111111</td>\n",
       "      <td>9.0</td>\n",
       "    </tr>\n",
       "    <tr>\n",
       "      <th>humour</th>\n",
       "      <td>0.011327</td>\n",
       "      <td>0.001618</td>\n",
       "      <td>0.142857</td>\n",
       "      <td>7.0</td>\n",
       "    </tr>\n",
       "    <tr>\n",
       "      <th>fit</th>\n",
       "      <td>0.011327</td>\n",
       "      <td>0.001618</td>\n",
       "      <td>0.142857</td>\n",
       "      <td>7.0</td>\n",
       "    </tr>\n",
       "    <tr>\n",
       "      <th>tfw</th>\n",
       "      <td>0.011327</td>\n",
       "      <td>0.001618</td>\n",
       "      <td>0.142857</td>\n",
       "      <td>7.0</td>\n",
       "    </tr>\n",
       "    <tr>\n",
       "      <th>odd</th>\n",
       "      <td>0.009709</td>\n",
       "      <td>0.001618</td>\n",
       "      <td>0.166667</td>\n",
       "      <td>6.0</td>\n",
       "    </tr>\n",
       "    <tr>\n",
       "      <th>symptom</th>\n",
       "      <td>0.008091</td>\n",
       "      <td>0.001618</td>\n",
       "      <td>0.200000</td>\n",
       "      <td>5.0</td>\n",
       "    </tr>\n",
       "    <tr>\n",
       "      <th>organization</th>\n",
       "      <td>0.008091</td>\n",
       "      <td>0.001618</td>\n",
       "      <td>0.200000</td>\n",
       "      <td>5.0</td>\n",
       "    </tr>\n",
       "    <tr>\n",
       "      <th>infect</th>\n",
       "      <td>0.008091</td>\n",
       "      <td>0.001618</td>\n",
       "      <td>0.200000</td>\n",
       "      <td>5.0</td>\n",
       "    </tr>\n",
       "  </tbody>\n",
       "</table>\n",
       "</div>"
      ],
      "text/plain": [
       "              non_history   history  history_ratio  non_history_ratio\n",
       "token                                                                \n",
       "test             0.024272  0.001618       0.066667               15.0\n",
       "biden            0.022654  0.001618       0.071429               14.0\n",
       "anyway           0.014563  0.001618       0.111111                9.0\n",
       "humour           0.011327  0.001618       0.142857                7.0\n",
       "fit              0.011327  0.001618       0.142857                7.0\n",
       "tfw              0.011327  0.001618       0.142857                7.0\n",
       "odd              0.009709  0.001618       0.166667                6.0\n",
       "symptom          0.008091  0.001618       0.200000                5.0\n",
       "organization     0.008091  0.001618       0.200000                5.0\n",
       "infect           0.008091  0.001618       0.200000                5.0"
      ]
     },
     "execution_count": 73,
     "metadata": {},
     "output_type": "execute_result"
    }
   ],
   "source": [
    "# examine the DataFrame sorted by non_history_comments_ratio\n",
    "tokens_non_his = tokens.sort_values('non_history_ratio', ascending=False)\n",
    "tokens_non_his[0:10]"
   ]
  },
  {
   "cell_type": "code",
   "execution_count": 74,
   "id": "1d6035fc",
   "metadata": {},
   "outputs": [],
   "source": [
    "# look up the history_ratio for a given token\n",
    "#tokens.loc['', 'history_ratio']"
   ]
  },
  {
   "cell_type": "markdown",
   "id": "8e7d3dbc",
   "metadata": {},
   "source": [
    "### Threshold and further evaluation (balanced data)"
   ]
  },
  {
   "cell_type": "code",
   "execution_count": 75,
   "id": "098b1e86",
   "metadata": {},
   "outputs": [],
   "source": [
    "y_pred_prob = model.predict_proba(X_test)[:, 1]"
   ]
  },
  {
   "cell_type": "code",
   "execution_count": 76,
   "id": "7204b269",
   "metadata": {},
   "outputs": [
    {
     "data": {
      "image/png": "[encoded data removed]",
      "text/plain": [
       "<Figure size 432x288 with 1 Axes>"
      ]
     },
     "metadata": {
      "needs_background": "light"
     },
     "output_type": "display_data"
    }
   ],
   "source": [
    "plt.hist(y_pred_prob, bins=50)\n",
    "plt.xlim(0, 1)\n",
    "plt.title('Histogram of predicted probabilities')\n",
    "plt.xlabel('Predicted probability of history-comment')\n",
    "plt.ylabel('Frequency')\n",
    "\n",
    "plt.grid(True)"
   ]
  },
  {
   "cell_type": "code",
   "execution_count": 77,
   "id": "04135eb7",
   "metadata": {},
   "outputs": [
    {
     "name": "stderr",
     "output_type": "stream",
     "text": [
      "C:\\Users\\phill\\anaconda3\\lib\\site-packages\\sklearn\\utils\\validation.py:70: FutureWarning: Pass threshold=0.9 as keyword args. From version 1.0 (renaming of 0.25) passing these as positional arguments will result in an error\n",
      "  warnings.warn(f\"Pass {args_msg} as keyword args. From version \"\n"
     ]
    }
   ],
   "source": [
    "y_pred_class_new = binarize([y_pred_prob], 0.9)[0]"
   ]
  },
  {
   "cell_type": "code",
   "execution_count": 78,
   "id": "a5cc6d6a",
   "metadata": {},
   "outputs": [
    {
     "name": "stdout",
     "output_type": "stream",
     "text": [
      "[[117 131]\n",
      " [ 18 229]]\n",
      "[[198  50]\n",
      " [ 49 198]]\n"
     ]
    }
   ],
   "source": [
    "print(confusion_matrix(y_test, y_pred_class))\n",
    "print(confusion_matrix(y_test, y_pred_class_new))"
   ]
  },
  {
   "cell_type": "code",
   "execution_count": 79,
   "id": "893a291e",
   "metadata": {},
   "outputs": [
    {
     "name": "stdout",
     "output_type": "stream",
     "text": [
      "default threshold accuracy: 0.6989898989898989\n",
      "new threshold accuracy: 0.8\n",
      "-----\n",
      "default threshold precision: 0.6361111111111111\n",
      "new threshold precision: 0.7983870967741935\n",
      "-----\n",
      "default threshold recall: 0.9271255060728745\n",
      "new threshold recall: 0.8016194331983806\n"
     ]
    }
   ],
   "source": [
    "print('default threshold accuracy:', accuracy_score(y_test, y_pred_class))\n",
    "print('new threshold accuracy:', accuracy_score(y_test, y_pred_class_new))\n",
    "print('-----')\n",
    "print('default threshold precision:', precision_score(y_test, y_pred_class))\n",
    "print('new threshold precision:', precision_score(y_test, y_pred_class_new))\n",
    "print('-----')\n",
    "print('default threshold recall:', recall_score(y_test, y_pred_class))\n",
    "print('new threshold recall:', recall_score(y_test, y_pred_class_new))"
   ]
  },
  {
   "cell_type": "code",
   "execution_count": 80,
   "id": "4fc36fc6",
   "metadata": {},
   "outputs": [
    {
     "name": "stderr",
     "output_type": "stream",
     "text": [
      "C:\\Users\\phill\\anaconda3\\lib\\site-packages\\sklearn\\utils\\validation.py:70: FutureWarning: Pass threshold=0.01 as keyword args. From version 1.0 (renaming of 0.25) passing these as positional arguments will result in an error\n",
      "  warnings.warn(f\"Pass {args_msg} as keyword args. From version \"\n",
      "C:\\Users\\phill\\anaconda3\\lib\\site-packages\\sklearn\\utils\\validation.py:70: FutureWarning: Pass threshold=0.02 as keyword args. From version 1.0 (renaming of 0.25) passing these as positional arguments will result in an error\n",
      "  warnings.warn(f\"Pass {args_msg} as keyword args. From version \"\n",
      "C:\\Users\\phill\\anaconda3\\lib\\site-packages\\sklearn\\utils\\validation.py:70: FutureWarning: Pass threshold=0.03 as keyword args. From version 1.0 (renaming of 0.25) passing these as positional arguments will result in an error\n",
      "  warnings.warn(f\"Pass {args_msg} as keyword args. From version \"\n",
      "C:\\Users\\phill\\anaconda3\\lib\\site-packages\\sklearn\\utils\\validation.py:70: FutureWarning: Pass threshold=0.04 as keyword args. From version 1.0 (renaming of 0.25) passing these as positional arguments will result in an error\n",
      "  warnings.warn(f\"Pass {args_msg} as keyword args. From version \"\n",
      "C:\\Users\\phill\\anaconda3\\lib\\site-packages\\sklearn\\utils\\validation.py:70: FutureWarning: Pass threshold=0.05 as keyword args. From version 1.0 (renaming of 0.25) passing these as positional arguments will result in an error\n",
      "  warnings.warn(f\"Pass {args_msg} as keyword args. From version \"\n",
      "C:\\Users\\phill\\anaconda3\\lib\\site-packages\\sklearn\\utils\\validation.py:70: FutureWarning: Pass threshold=0.060000000000000005 as keyword args. From version 1.0 (renaming of 0.25) passing these as positional arguments will result in an error\n",
      "  warnings.warn(f\"Pass {args_msg} as keyword args. From version \"\n",
      "C:\\Users\\phill\\anaconda3\\lib\\site-packages\\sklearn\\utils\\validation.py:70: FutureWarning: Pass threshold=0.06999999999999999 as keyword args. From version 1.0 (renaming of 0.25) passing these as positional arguments will result in an error\n",
      "  warnings.warn(f\"Pass {args_msg} as keyword args. From version \"\n",
      "C:\\Users\\phill\\anaconda3\\lib\\site-packages\\sklearn\\utils\\validation.py:70: FutureWarning: Pass threshold=0.08 as keyword args. From version 1.0 (renaming of 0.25) passing these as positional arguments will result in an error\n",
      "  warnings.warn(f\"Pass {args_msg} as keyword args. From version \"\n",
      "C:\\Users\\phill\\anaconda3\\lib\\site-packages\\sklearn\\utils\\validation.py:70: FutureWarning: Pass threshold=0.09 as keyword args. From version 1.0 (renaming of 0.25) passing these as positional arguments will result in an error\n",
      "  warnings.warn(f\"Pass {args_msg} as keyword args. From version \"\n",
      "C:\\Users\\phill\\anaconda3\\lib\\site-packages\\sklearn\\utils\\validation.py:70: FutureWarning: Pass threshold=0.09999999999999999 as keyword args. From version 1.0 (renaming of 0.25) passing these as positional arguments will result in an error\n",
      "  warnings.warn(f\"Pass {args_msg} as keyword args. From version \"\n",
      "C:\\Users\\phill\\anaconda3\\lib\\site-packages\\sklearn\\utils\\validation.py:70: FutureWarning: Pass threshold=0.11 as keyword args. From version 1.0 (renaming of 0.25) passing these as positional arguments will result in an error\n",
      "  warnings.warn(f\"Pass {args_msg} as keyword args. From version \"\n",
      "C:\\Users\\phill\\anaconda3\\lib\\site-packages\\sklearn\\utils\\validation.py:70: FutureWarning: Pass threshold=0.12 as keyword args. From version 1.0 (renaming of 0.25) passing these as positional arguments will result in an error\n",
      "  warnings.warn(f\"Pass {args_msg} as keyword args. From version \"\n",
      "C:\\Users\\phill\\anaconda3\\lib\\site-packages\\sklearn\\utils\\validation.py:70: FutureWarning: Pass threshold=0.13 as keyword args. From version 1.0 (renaming of 0.25) passing these as positional arguments will result in an error\n",
      "  warnings.warn(f\"Pass {args_msg} as keyword args. From version \"\n",
      "C:\\Users\\phill\\anaconda3\\lib\\site-packages\\sklearn\\utils\\validation.py:70: FutureWarning: Pass threshold=0.14 as keyword args. From version 1.0 (renaming of 0.25) passing these as positional arguments will result in an error\n",
      "  warnings.warn(f\"Pass {args_msg} as keyword args. From version \"\n",
      "C:\\Users\\phill\\anaconda3\\lib\\site-packages\\sklearn\\utils\\validation.py:70: FutureWarning: Pass threshold=0.15000000000000002 as keyword args. From version 1.0 (renaming of 0.25) passing these as positional arguments will result in an error\n",
      "  warnings.warn(f\"Pass {args_msg} as keyword args. From version \"\n",
      "C:\\Users\\phill\\anaconda3\\lib\\site-packages\\sklearn\\utils\\validation.py:70: FutureWarning: Pass threshold=0.16 as keyword args. From version 1.0 (renaming of 0.25) passing these as positional arguments will result in an error\n",
      "  warnings.warn(f\"Pass {args_msg} as keyword args. From version \"\n",
      "C:\\Users\\phill\\anaconda3\\lib\\site-packages\\sklearn\\utils\\validation.py:70: FutureWarning: Pass threshold=0.17 as keyword args. From version 1.0 (renaming of 0.25) passing these as positional arguments will result in an error\n",
      "  warnings.warn(f\"Pass {args_msg} as keyword args. From version \"\n",
      "C:\\Users\\phill\\anaconda3\\lib\\site-packages\\sklearn\\utils\\validation.py:70: FutureWarning: Pass threshold=0.18000000000000002 as keyword args. From version 1.0 (renaming of 0.25) passing these as positional arguments will result in an error\n",
      "  warnings.warn(f\"Pass {args_msg} as keyword args. From version \"\n",
      "C:\\Users\\phill\\anaconda3\\lib\\site-packages\\sklearn\\utils\\validation.py:70: FutureWarning: Pass threshold=0.19 as keyword args. From version 1.0 (renaming of 0.25) passing these as positional arguments will result in an error\n",
      "  warnings.warn(f\"Pass {args_msg} as keyword args. From version \"\n",
      "C:\\Users\\phill\\anaconda3\\lib\\site-packages\\sklearn\\utils\\validation.py:70: FutureWarning: Pass threshold=0.2 as keyword args. From version 1.0 (renaming of 0.25) passing these as positional arguments will result in an error\n",
      "  warnings.warn(f\"Pass {args_msg} as keyword args. From version \"\n",
      "C:\\Users\\phill\\anaconda3\\lib\\site-packages\\sklearn\\utils\\validation.py:70: FutureWarning: Pass threshold=0.21000000000000002 as keyword args. From version 1.0 (renaming of 0.25) passing these as positional arguments will result in an error\n",
      "  warnings.warn(f\"Pass {args_msg} as keyword args. From version \"\n",
      "C:\\Users\\phill\\anaconda3\\lib\\site-packages\\sklearn\\utils\\validation.py:70: FutureWarning: Pass threshold=0.22 as keyword args. From version 1.0 (renaming of 0.25) passing these as positional arguments will result in an error\n",
      "  warnings.warn(f\"Pass {args_msg} as keyword args. From version \"\n",
      "C:\\Users\\phill\\anaconda3\\lib\\site-packages\\sklearn\\utils\\validation.py:70: FutureWarning: Pass threshold=0.23 as keyword args. From version 1.0 (renaming of 0.25) passing these as positional arguments will result in an error\n",
      "  warnings.warn(f\"Pass {args_msg} as keyword args. From version \"\n",
      "C:\\Users\\phill\\anaconda3\\lib\\site-packages\\sklearn\\utils\\validation.py:70: FutureWarning: Pass threshold=0.24000000000000002 as keyword args. From version 1.0 (renaming of 0.25) passing these as positional arguments will result in an error\n",
      "  warnings.warn(f\"Pass {args_msg} as keyword args. From version \"\n",
      "C:\\Users\\phill\\anaconda3\\lib\\site-packages\\sklearn\\utils\\validation.py:70: FutureWarning: Pass threshold=0.25 as keyword args. From version 1.0 (renaming of 0.25) passing these as positional arguments will result in an error\n",
      "  warnings.warn(f\"Pass {args_msg} as keyword args. From version \"\n",
      "C:\\Users\\phill\\anaconda3\\lib\\site-packages\\sklearn\\utils\\validation.py:70: FutureWarning: Pass threshold=0.26 as keyword args. From version 1.0 (renaming of 0.25) passing these as positional arguments will result in an error\n",
      "  warnings.warn(f\"Pass {args_msg} as keyword args. From version \"\n",
      "C:\\Users\\phill\\anaconda3\\lib\\site-packages\\sklearn\\utils\\validation.py:70: FutureWarning: Pass threshold=0.27 as keyword args. From version 1.0 (renaming of 0.25) passing these as positional arguments will result in an error\n",
      "  warnings.warn(f\"Pass {args_msg} as keyword args. From version \"\n",
      "C:\\Users\\phill\\anaconda3\\lib\\site-packages\\sklearn\\utils\\validation.py:70: FutureWarning: Pass threshold=0.28 as keyword args. From version 1.0 (renaming of 0.25) passing these as positional arguments will result in an error\n",
      "  warnings.warn(f\"Pass {args_msg} as keyword args. From version \"\n"
     ]
    },
    {
     "name": "stderr",
     "output_type": "stream",
     "text": [
      "C:\\Users\\phill\\anaconda3\\lib\\site-packages\\sklearn\\utils\\validation.py:70: FutureWarning: Pass threshold=0.29000000000000004 as keyword args. From version 1.0 (renaming of 0.25) passing these as positional arguments will result in an error\n",
      "  warnings.warn(f\"Pass {args_msg} as keyword args. From version \"\n",
      "C:\\Users\\phill\\anaconda3\\lib\\site-packages\\sklearn\\utils\\validation.py:70: FutureWarning: Pass threshold=0.3 as keyword args. From version 1.0 (renaming of 0.25) passing these as positional arguments will result in an error\n",
      "  warnings.warn(f\"Pass {args_msg} as keyword args. From version \"\n",
      "C:\\Users\\phill\\anaconda3\\lib\\site-packages\\sklearn\\utils\\validation.py:70: FutureWarning: Pass threshold=0.31 as keyword args. From version 1.0 (renaming of 0.25) passing these as positional arguments will result in an error\n",
      "  warnings.warn(f\"Pass {args_msg} as keyword args. From version \"\n",
      "C:\\Users\\phill\\anaconda3\\lib\\site-packages\\sklearn\\utils\\validation.py:70: FutureWarning: Pass threshold=0.32 as keyword args. From version 1.0 (renaming of 0.25) passing these as positional arguments will result in an error\n",
      "  warnings.warn(f\"Pass {args_msg} as keyword args. From version \"\n",
      "C:\\Users\\phill\\anaconda3\\lib\\site-packages\\sklearn\\utils\\validation.py:70: FutureWarning: Pass threshold=0.33 as keyword args. From version 1.0 (renaming of 0.25) passing these as positional arguments will result in an error\n",
      "  warnings.warn(f\"Pass {args_msg} as keyword args. From version \"\n",
      "C:\\Users\\phill\\anaconda3\\lib\\site-packages\\sklearn\\utils\\validation.py:70: FutureWarning: Pass threshold=0.34 as keyword args. From version 1.0 (renaming of 0.25) passing these as positional arguments will result in an error\n",
      "  warnings.warn(f\"Pass {args_msg} as keyword args. From version \"\n",
      "C:\\Users\\phill\\anaconda3\\lib\\site-packages\\sklearn\\utils\\validation.py:70: FutureWarning: Pass threshold=0.35000000000000003 as keyword args. From version 1.0 (renaming of 0.25) passing these as positional arguments will result in an error\n",
      "  warnings.warn(f\"Pass {args_msg} as keyword args. From version \"\n",
      "C:\\Users\\phill\\anaconda3\\lib\\site-packages\\sklearn\\utils\\validation.py:70: FutureWarning: Pass threshold=0.36000000000000004 as keyword args. From version 1.0 (renaming of 0.25) passing these as positional arguments will result in an error\n",
      "  warnings.warn(f\"Pass {args_msg} as keyword args. From version \"\n",
      "C:\\Users\\phill\\anaconda3\\lib\\site-packages\\sklearn\\utils\\validation.py:70: FutureWarning: Pass threshold=0.37 as keyword args. From version 1.0 (renaming of 0.25) passing these as positional arguments will result in an error\n",
      "  warnings.warn(f\"Pass {args_msg} as keyword args. From version \"\n",
      "C:\\Users\\phill\\anaconda3\\lib\\site-packages\\sklearn\\utils\\validation.py:70: FutureWarning: Pass threshold=0.38 as keyword args. From version 1.0 (renaming of 0.25) passing these as positional arguments will result in an error\n",
      "  warnings.warn(f\"Pass {args_msg} as keyword args. From version \"\n",
      "C:\\Users\\phill\\anaconda3\\lib\\site-packages\\sklearn\\utils\\validation.py:70: FutureWarning: Pass threshold=0.39 as keyword args. From version 1.0 (renaming of 0.25) passing these as positional arguments will result in an error\n",
      "  warnings.warn(f\"Pass {args_msg} as keyword args. From version \"\n",
      "C:\\Users\\phill\\anaconda3\\lib\\site-packages\\sklearn\\utils\\validation.py:70: FutureWarning: Pass threshold=0.4 as keyword args. From version 1.0 (renaming of 0.25) passing these as positional arguments will result in an error\n",
      "  warnings.warn(f\"Pass {args_msg} as keyword args. From version \"\n",
      "C:\\Users\\phill\\anaconda3\\lib\\site-packages\\sklearn\\utils\\validation.py:70: FutureWarning: Pass threshold=0.41000000000000003 as keyword args. From version 1.0 (renaming of 0.25) passing these as positional arguments will result in an error\n",
      "  warnings.warn(f\"Pass {args_msg} as keyword args. From version \"\n",
      "C:\\Users\\phill\\anaconda3\\lib\\site-packages\\sklearn\\utils\\validation.py:70: FutureWarning: Pass threshold=0.42000000000000004 as keyword args. From version 1.0 (renaming of 0.25) passing these as positional arguments will result in an error\n",
      "  warnings.warn(f\"Pass {args_msg} as keyword args. From version \"\n",
      "C:\\Users\\phill\\anaconda3\\lib\\site-packages\\sklearn\\utils\\validation.py:70: FutureWarning: Pass threshold=0.43 as keyword args. From version 1.0 (renaming of 0.25) passing these as positional arguments will result in an error\n",
      "  warnings.warn(f\"Pass {args_msg} as keyword args. From version \"\n",
      "C:\\Users\\phill\\anaconda3\\lib\\site-packages\\sklearn\\utils\\validation.py:70: FutureWarning: Pass threshold=0.44 as keyword args. From version 1.0 (renaming of 0.25) passing these as positional arguments will result in an error\n",
      "  warnings.warn(f\"Pass {args_msg} as keyword args. From version \"\n",
      "C:\\Users\\phill\\anaconda3\\lib\\site-packages\\sklearn\\utils\\validation.py:70: FutureWarning: Pass threshold=0.45 as keyword args. From version 1.0 (renaming of 0.25) passing these as positional arguments will result in an error\n",
      "  warnings.warn(f\"Pass {args_msg} as keyword args. From version \"\n",
      "C:\\Users\\phill\\anaconda3\\lib\\site-packages\\sklearn\\utils\\validation.py:70: FutureWarning: Pass threshold=0.46 as keyword args. From version 1.0 (renaming of 0.25) passing these as positional arguments will result in an error\n",
      "  warnings.warn(f\"Pass {args_msg} as keyword args. From version \"\n",
      "C:\\Users\\phill\\anaconda3\\lib\\site-packages\\sklearn\\utils\\validation.py:70: FutureWarning: Pass threshold=0.47000000000000003 as keyword args. From version 1.0 (renaming of 0.25) passing these as positional arguments will result in an error\n",
      "  warnings.warn(f\"Pass {args_msg} as keyword args. From version \"\n",
      "C:\\Users\\phill\\anaconda3\\lib\\site-packages\\sklearn\\utils\\validation.py:70: FutureWarning: Pass threshold=0.48000000000000004 as keyword args. From version 1.0 (renaming of 0.25) passing these as positional arguments will result in an error\n",
      "  warnings.warn(f\"Pass {args_msg} as keyword args. From version \"\n",
      "C:\\Users\\phill\\anaconda3\\lib\\site-packages\\sklearn\\utils\\validation.py:70: FutureWarning: Pass threshold=0.49 as keyword args. From version 1.0 (renaming of 0.25) passing these as positional arguments will result in an error\n",
      "  warnings.warn(f\"Pass {args_msg} as keyword args. From version \"\n",
      "C:\\Users\\phill\\anaconda3\\lib\\site-packages\\sklearn\\utils\\validation.py:70: FutureWarning: Pass threshold=0.5 as keyword args. From version 1.0 (renaming of 0.25) passing these as positional arguments will result in an error\n",
      "  warnings.warn(f\"Pass {args_msg} as keyword args. From version \"\n",
      "C:\\Users\\phill\\anaconda3\\lib\\site-packages\\sklearn\\utils\\validation.py:70: FutureWarning: Pass threshold=0.51 as keyword args. From version 1.0 (renaming of 0.25) passing these as positional arguments will result in an error\n",
      "  warnings.warn(f\"Pass {args_msg} as keyword args. From version \"\n",
      "C:\\Users\\phill\\anaconda3\\lib\\site-packages\\sklearn\\utils\\validation.py:70: FutureWarning: Pass threshold=0.52 as keyword args. From version 1.0 (renaming of 0.25) passing these as positional arguments will result in an error\n",
      "  warnings.warn(f\"Pass {args_msg} as keyword args. From version \"\n",
      "C:\\Users\\phill\\anaconda3\\lib\\site-packages\\sklearn\\utils\\validation.py:70: FutureWarning: Pass threshold=0.53 as keyword args. From version 1.0 (renaming of 0.25) passing these as positional arguments will result in an error\n",
      "  warnings.warn(f\"Pass {args_msg} as keyword args. From version \"\n",
      "C:\\Users\\phill\\anaconda3\\lib\\site-packages\\sklearn\\utils\\validation.py:70: FutureWarning: Pass threshold=0.54 as keyword args. From version 1.0 (renaming of 0.25) passing these as positional arguments will result in an error\n",
      "  warnings.warn(f\"Pass {args_msg} as keyword args. From version \"\n",
      "C:\\Users\\phill\\anaconda3\\lib\\site-packages\\sklearn\\utils\\validation.py:70: FutureWarning: Pass threshold=0.55 as keyword args. From version 1.0 (renaming of 0.25) passing these as positional arguments will result in an error\n",
      "  warnings.warn(f\"Pass {args_msg} as keyword args. From version \"\n",
      "C:\\Users\\phill\\anaconda3\\lib\\site-packages\\sklearn\\utils\\validation.py:70: FutureWarning: Pass threshold=0.56 as keyword args. From version 1.0 (renaming of 0.25) passing these as positional arguments will result in an error\n",
      "  warnings.warn(f\"Pass {args_msg} as keyword args. From version \"\n",
      "C:\\Users\\phill\\anaconda3\\lib\\site-packages\\sklearn\\utils\\validation.py:70: FutureWarning: Pass threshold=0.5700000000000001 as keyword args. From version 1.0 (renaming of 0.25) passing these as positional arguments will result in an error\n",
      "  warnings.warn(f\"Pass {args_msg} as keyword args. From version \"\n"
     ]
    },
    {
     "name": "stderr",
     "output_type": "stream",
     "text": [
      "C:\\Users\\phill\\anaconda3\\lib\\site-packages\\sklearn\\utils\\validation.py:70: FutureWarning: Pass threshold=0.5800000000000001 as keyword args. From version 1.0 (renaming of 0.25) passing these as positional arguments will result in an error\n",
      "  warnings.warn(f\"Pass {args_msg} as keyword args. From version \"\n",
      "C:\\Users\\phill\\anaconda3\\lib\\site-packages\\sklearn\\utils\\validation.py:70: FutureWarning: Pass threshold=0.59 as keyword args. From version 1.0 (renaming of 0.25) passing these as positional arguments will result in an error\n",
      "  warnings.warn(f\"Pass {args_msg} as keyword args. From version \"\n",
      "C:\\Users\\phill\\anaconda3\\lib\\site-packages\\sklearn\\utils\\validation.py:70: FutureWarning: Pass threshold=0.6 as keyword args. From version 1.0 (renaming of 0.25) passing these as positional arguments will result in an error\n",
      "  warnings.warn(f\"Pass {args_msg} as keyword args. From version \"\n",
      "C:\\Users\\phill\\anaconda3\\lib\\site-packages\\sklearn\\utils\\validation.py:70: FutureWarning: Pass threshold=0.61 as keyword args. From version 1.0 (renaming of 0.25) passing these as positional arguments will result in an error\n",
      "  warnings.warn(f\"Pass {args_msg} as keyword args. From version \"\n",
      "C:\\Users\\phill\\anaconda3\\lib\\site-packages\\sklearn\\utils\\validation.py:70: FutureWarning: Pass threshold=0.62 as keyword args. From version 1.0 (renaming of 0.25) passing these as positional arguments will result in an error\n",
      "  warnings.warn(f\"Pass {args_msg} as keyword args. From version \"\n",
      "C:\\Users\\phill\\anaconda3\\lib\\site-packages\\sklearn\\utils\\validation.py:70: FutureWarning: Pass threshold=0.63 as keyword args. From version 1.0 (renaming of 0.25) passing these as positional arguments will result in an error\n",
      "  warnings.warn(f\"Pass {args_msg} as keyword args. From version \"\n",
      "C:\\Users\\phill\\anaconda3\\lib\\site-packages\\sklearn\\utils\\validation.py:70: FutureWarning: Pass threshold=0.64 as keyword args. From version 1.0 (renaming of 0.25) passing these as positional arguments will result in an error\n",
      "  warnings.warn(f\"Pass {args_msg} as keyword args. From version \"\n",
      "C:\\Users\\phill\\anaconda3\\lib\\site-packages\\sklearn\\utils\\validation.py:70: FutureWarning: Pass threshold=0.65 as keyword args. From version 1.0 (renaming of 0.25) passing these as positional arguments will result in an error\n",
      "  warnings.warn(f\"Pass {args_msg} as keyword args. From version \"\n",
      "C:\\Users\\phill\\anaconda3\\lib\\site-packages\\sklearn\\utils\\validation.py:70: FutureWarning: Pass threshold=0.66 as keyword args. From version 1.0 (renaming of 0.25) passing these as positional arguments will result in an error\n",
      "  warnings.warn(f\"Pass {args_msg} as keyword args. From version \"\n",
      "C:\\Users\\phill\\anaconda3\\lib\\site-packages\\sklearn\\utils\\validation.py:70: FutureWarning: Pass threshold=0.67 as keyword args. From version 1.0 (renaming of 0.25) passing these as positional arguments will result in an error\n",
      "  warnings.warn(f\"Pass {args_msg} as keyword args. From version \"\n",
      "C:\\Users\\phill\\anaconda3\\lib\\site-packages\\sklearn\\utils\\validation.py:70: FutureWarning: Pass threshold=0.68 as keyword args. From version 1.0 (renaming of 0.25) passing these as positional arguments will result in an error\n",
      "  warnings.warn(f\"Pass {args_msg} as keyword args. From version \"\n",
      "C:\\Users\\phill\\anaconda3\\lib\\site-packages\\sklearn\\utils\\validation.py:70: FutureWarning: Pass threshold=0.6900000000000001 as keyword args. From version 1.0 (renaming of 0.25) passing these as positional arguments will result in an error\n",
      "  warnings.warn(f\"Pass {args_msg} as keyword args. From version \"\n",
      "C:\\Users\\phill\\anaconda3\\lib\\site-packages\\sklearn\\utils\\validation.py:70: FutureWarning: Pass threshold=0.7000000000000001 as keyword args. From version 1.0 (renaming of 0.25) passing these as positional arguments will result in an error\n",
      "  warnings.warn(f\"Pass {args_msg} as keyword args. From version \"\n",
      "C:\\Users\\phill\\anaconda3\\lib\\site-packages\\sklearn\\utils\\validation.py:70: FutureWarning: Pass threshold=0.7100000000000001 as keyword args. From version 1.0 (renaming of 0.25) passing these as positional arguments will result in an error\n",
      "  warnings.warn(f\"Pass {args_msg} as keyword args. From version \"\n",
      "C:\\Users\\phill\\anaconda3\\lib\\site-packages\\sklearn\\utils\\validation.py:70: FutureWarning: Pass threshold=0.72 as keyword args. From version 1.0 (renaming of 0.25) passing these as positional arguments will result in an error\n",
      "  warnings.warn(f\"Pass {args_msg} as keyword args. From version \"\n",
      "C:\\Users\\phill\\anaconda3\\lib\\site-packages\\sklearn\\utils\\validation.py:70: FutureWarning: Pass threshold=0.73 as keyword args. From version 1.0 (renaming of 0.25) passing these as positional arguments will result in an error\n",
      "  warnings.warn(f\"Pass {args_msg} as keyword args. From version \"\n",
      "C:\\Users\\phill\\anaconda3\\lib\\site-packages\\sklearn\\utils\\validation.py:70: FutureWarning: Pass threshold=0.74 as keyword args. From version 1.0 (renaming of 0.25) passing these as positional arguments will result in an error\n",
      "  warnings.warn(f\"Pass {args_msg} as keyword args. From version \"\n",
      "C:\\Users\\phill\\anaconda3\\lib\\site-packages\\sklearn\\utils\\validation.py:70: FutureWarning: Pass threshold=0.75 as keyword args. From version 1.0 (renaming of 0.25) passing these as positional arguments will result in an error\n",
      "  warnings.warn(f\"Pass {args_msg} as keyword args. From version \"\n",
      "C:\\Users\\phill\\anaconda3\\lib\\site-packages\\sklearn\\utils\\validation.py:70: FutureWarning: Pass threshold=0.76 as keyword args. From version 1.0 (renaming of 0.25) passing these as positional arguments will result in an error\n",
      "  warnings.warn(f\"Pass {args_msg} as keyword args. From version \"\n",
      "C:\\Users\\phill\\anaconda3\\lib\\site-packages\\sklearn\\utils\\validation.py:70: FutureWarning: Pass threshold=0.77 as keyword args. From version 1.0 (renaming of 0.25) passing these as positional arguments will result in an error\n",
      "  warnings.warn(f\"Pass {args_msg} as keyword args. From version \"\n",
      "C:\\Users\\phill\\anaconda3\\lib\\site-packages\\sklearn\\utils\\validation.py:70: FutureWarning: Pass threshold=0.78 as keyword args. From version 1.0 (renaming of 0.25) passing these as positional arguments will result in an error\n",
      "  warnings.warn(f\"Pass {args_msg} as keyword args. From version \"\n",
      "C:\\Users\\phill\\anaconda3\\lib\\site-packages\\sklearn\\utils\\validation.py:70: FutureWarning: Pass threshold=0.79 as keyword args. From version 1.0 (renaming of 0.25) passing these as positional arguments will result in an error\n",
      "  warnings.warn(f\"Pass {args_msg} as keyword args. From version \"\n",
      "C:\\Users\\phill\\anaconda3\\lib\\site-packages\\sklearn\\utils\\validation.py:70: FutureWarning: Pass threshold=0.8 as keyword args. From version 1.0 (renaming of 0.25) passing these as positional arguments will result in an error\n",
      "  warnings.warn(f\"Pass {args_msg} as keyword args. From version \"\n",
      "C:\\Users\\phill\\anaconda3\\lib\\site-packages\\sklearn\\utils\\validation.py:70: FutureWarning: Pass threshold=0.81 as keyword args. From version 1.0 (renaming of 0.25) passing these as positional arguments will result in an error\n",
      "  warnings.warn(f\"Pass {args_msg} as keyword args. From version \"\n",
      "C:\\Users\\phill\\anaconda3\\lib\\site-packages\\sklearn\\utils\\validation.py:70: FutureWarning: Pass threshold=0.8200000000000001 as keyword args. From version 1.0 (renaming of 0.25) passing these as positional arguments will result in an error\n",
      "  warnings.warn(f\"Pass {args_msg} as keyword args. From version \"\n",
      "C:\\Users\\phill\\anaconda3\\lib\\site-packages\\sklearn\\utils\\validation.py:70: FutureWarning: Pass threshold=0.8300000000000001 as keyword args. From version 1.0 (renaming of 0.25) passing these as positional arguments will result in an error\n",
      "  warnings.warn(f\"Pass {args_msg} as keyword args. From version \"\n",
      "C:\\Users\\phill\\anaconda3\\lib\\site-packages\\sklearn\\utils\\validation.py:70: FutureWarning: Pass threshold=0.8400000000000001 as keyword args. From version 1.0 (renaming of 0.25) passing these as positional arguments will result in an error\n",
      "  warnings.warn(f\"Pass {args_msg} as keyword args. From version \"\n",
      "C:\\Users\\phill\\anaconda3\\lib\\site-packages\\sklearn\\utils\\validation.py:70: FutureWarning: Pass threshold=0.85 as keyword args. From version 1.0 (renaming of 0.25) passing these as positional arguments will result in an error\n",
      "  warnings.warn(f\"Pass {args_msg} as keyword args. From version \"\n",
      "C:\\Users\\phill\\anaconda3\\lib\\site-packages\\sklearn\\utils\\validation.py:70: FutureWarning: Pass threshold=0.86 as keyword args. From version 1.0 (renaming of 0.25) passing these as positional arguments will result in an error\n",
      "  warnings.warn(f\"Pass {args_msg} as keyword args. From version \"\n",
      "C:\\Users\\phill\\anaconda3\\lib\\site-packages\\sklearn\\utils\\validation.py:70: FutureWarning: Pass threshold=0.87 as keyword args. From version 1.0 (renaming of 0.25) passing these as positional arguments will result in an error\n",
      "  warnings.warn(f\"Pass {args_msg} as keyword args. From version \"\n",
      "C:\\Users\\phill\\anaconda3\\lib\\site-packages\\sklearn\\utils\\validation.py:70: FutureWarning: Pass threshold=0.88 as keyword args. From version 1.0 (renaming of 0.25) passing these as positional arguments will result in an error\n",
      "  warnings.warn(f\"Pass {args_msg} as keyword args. From version \"\n",
      "C:\\Users\\phill\\anaconda3\\lib\\site-packages\\sklearn\\utils\\validation.py:70: FutureWarning: Pass threshold=0.89 as keyword args. From version 1.0 (renaming of 0.25) passing these as positional arguments will result in an error\n",
      "  warnings.warn(f\"Pass {args_msg} as keyword args. From version \"\n"
     ]
    },
    {
     "name": "stderr",
     "output_type": "stream",
     "text": [
      "C:\\Users\\phill\\anaconda3\\lib\\site-packages\\sklearn\\utils\\validation.py:70: FutureWarning: Pass threshold=0.9 as keyword args. From version 1.0 (renaming of 0.25) passing these as positional arguments will result in an error\n",
      "  warnings.warn(f\"Pass {args_msg} as keyword args. From version \"\n",
      "C:\\Users\\phill\\anaconda3\\lib\\site-packages\\sklearn\\utils\\validation.py:70: FutureWarning: Pass threshold=0.91 as keyword args. From version 1.0 (renaming of 0.25) passing these as positional arguments will result in an error\n",
      "  warnings.warn(f\"Pass {args_msg} as keyword args. From version \"\n",
      "C:\\Users\\phill\\anaconda3\\lib\\site-packages\\sklearn\\utils\\validation.py:70: FutureWarning: Pass threshold=0.92 as keyword args. From version 1.0 (renaming of 0.25) passing these as positional arguments will result in an error\n",
      "  warnings.warn(f\"Pass {args_msg} as keyword args. From version \"\n",
      "C:\\Users\\phill\\anaconda3\\lib\\site-packages\\sklearn\\utils\\validation.py:70: FutureWarning: Pass threshold=0.93 as keyword args. From version 1.0 (renaming of 0.25) passing these as positional arguments will result in an error\n",
      "  warnings.warn(f\"Pass {args_msg} as keyword args. From version \"\n",
      "C:\\Users\\phill\\anaconda3\\lib\\site-packages\\sklearn\\utils\\validation.py:70: FutureWarning: Pass threshold=0.9400000000000001 as keyword args. From version 1.0 (renaming of 0.25) passing these as positional arguments will result in an error\n",
      "  warnings.warn(f\"Pass {args_msg} as keyword args. From version \"\n",
      "C:\\Users\\phill\\anaconda3\\lib\\site-packages\\sklearn\\utils\\validation.py:70: FutureWarning: Pass threshold=0.9500000000000001 as keyword args. From version 1.0 (renaming of 0.25) passing these as positional arguments will result in an error\n",
      "  warnings.warn(f\"Pass {args_msg} as keyword args. From version \"\n",
      "C:\\Users\\phill\\anaconda3\\lib\\site-packages\\sklearn\\utils\\validation.py:70: FutureWarning: Pass threshold=0.9600000000000001 as keyword args. From version 1.0 (renaming of 0.25) passing these as positional arguments will result in an error\n",
      "  warnings.warn(f\"Pass {args_msg} as keyword args. From version \"\n",
      "C:\\Users\\phill\\anaconda3\\lib\\site-packages\\sklearn\\utils\\validation.py:70: FutureWarning: Pass threshold=0.97 as keyword args. From version 1.0 (renaming of 0.25) passing these as positional arguments will result in an error\n",
      "  warnings.warn(f\"Pass {args_msg} as keyword args. From version \"\n",
      "C:\\Users\\phill\\anaconda3\\lib\\site-packages\\sklearn\\utils\\validation.py:70: FutureWarning: Pass threshold=0.98 as keyword args. From version 1.0 (renaming of 0.25) passing these as positional arguments will result in an error\n",
      "  warnings.warn(f\"Pass {args_msg} as keyword args. From version \"\n",
      "C:\\Users\\phill\\anaconda3\\lib\\site-packages\\sklearn\\utils\\validation.py:70: FutureWarning: Pass threshold=0.99 as keyword args. From version 1.0 (renaming of 0.25) passing these as positional arguments will result in an error\n",
      "  warnings.warn(f\"Pass {args_msg} as keyword args. From version \"\n"
     ]
    }
   ],
   "source": [
    "threshold_range = (np.linspace(0.01,0.99,99))\n",
    "y_pred_class_precision_scores = []\n",
    "y_pred_class_recall_scores = []\n",
    "\n",
    "for th in threshold_range:\n",
    "    #insert model also?\n",
    "    \n",
    "    y_pred_prob = model.predict_proba(X_test)[:, 1]\n",
    "    y_pred_class_new = binarize([y_pred_prob], th)[0]\n",
    "    \n",
    "    y_pred_class_precision_scores.append(precision_score(y_test, y_pred_class_new))\n",
    "    y_pred_class_recall_scores.append(recall_score(y_test, y_pred_class_new))"
   ]
  },
  {
   "cell_type": "code",
   "execution_count": 82,
   "id": "66ab2b2b",
   "metadata": {},
   "outputs": [
    {
     "data": {
      "image/png": "[encoded data removed]",
      "text/plain": [
       "<Figure size 432x288 with 2 Axes>"
      ]
     },
     "metadata": {},
     "output_type": "display_data"
    }
   ],
   "source": [
    "fig, ax1 = plt.subplots()\n",
    "\n",
    "color = 'tab:orange'\n",
    "ax1.set_xlabel('threshold value')\n",
    "ax1.set_ylabel('recall score', color=color)\n",
    "ax1.plot(threshold_range, y_pred_class_recall_scores, color=color)\n",
    "ax1.tick_params(axis='y', labelcolor=color)\n",
    "\n",
    "ax2 = ax1.twinx()\n",
    "\n",
    "color = 'tab:blue'\n",
    "ax2.set_ylabel('precision score', color=color)\n",
    "ax2.plot(threshold_range, y_pred_class_precision_scores, color=color)\n",
    "ax2.tick_params(axis='y', labelcolor=color)\n",
    "\n",
    "plt.grid(True)"
   ]
  },
  {
   "cell_type": "code",
   "execution_count": 83,
   "id": "cb739e5a",
   "metadata": {},
   "outputs": [
    {
     "data": {
      "image/png": "[encoded data removed]",
      "text/plain": [
       "<Figure size 432x288 with 1 Axes>"
      ]
     },
     "metadata": {
      "needs_background": "light"
     },
     "output_type": "display_data"
    }
   ],
   "source": [
    "#ROC curve\n",
    "fpr, tpr, thresholds = roc_curve(y_test, y_pred_prob)\n",
    "plt.plot(fpr, tpr, color='orange')\n",
    "plt.plot([0,1],[0,1], color='blue', linestyle='--')\n",
    "plt.xlim([0.0, 1.0])\n",
    "plt.ylim([0.0, 1.0])\n",
    "plt.title('ROC curve for history-comment classifier')\n",
    "plt.xlabel('False Positive Rate (1 - Specificity)')\n",
    "plt.ylabel('True Positive Rate (Sensitivity)')\n",
    "plt.grid(True)"
   ]
  },
  {
   "cell_type": "code",
   "execution_count": 84,
   "id": "09c6c783",
   "metadata": {},
   "outputs": [
    {
     "data": {
      "image/png": "[encoded data removed]",
      "text/plain": [
       "<Figure size 432x288 with 1 Axes>"
      ]
     },
     "metadata": {
      "needs_background": "light"
     },
     "output_type": "display_data"
    }
   ],
   "source": [
    "#precision-recall curve\n",
    "precision, recall, thresholds = precision_recall_curve(y_test, y_pred_prob)\n",
    "plt.plot(precision, recall, color='orange')\n",
    "plt.xlim([0.0, 1.0])\n",
    "plt.ylim([0.0, 1.0])\n",
    "plt.title('precision-recall curve for history-comment classifier')\n",
    "plt.xlabel('Recall') #or is it reverse????\n",
    "plt.ylabel('Precision')\n",
    "plt.grid(True)"
   ]
  },
  {
   "cell_type": "code",
   "execution_count": 85,
   "id": "428635cb",
   "metadata": {},
   "outputs": [
    {
     "name": "stdout",
     "output_type": "stream",
     "text": [
      "0.8528633929737494\n"
     ]
    }
   ],
   "source": [
    "#ROC-AUC score\n",
    "print(roc_auc_score(y_test, y_pred_prob))"
   ]
  },
  {
   "cell_type": "markdown",
   "id": "ba330690",
   "metadata": {},
   "source": [
    "#### Q: possible to import batch of his-comments?"
   ]
  },
  {
   "cell_type": "markdown",
   "id": "47596613",
   "metadata": {},
   "source": [
    "#### Q: Pipeline for content analysis?"
   ]
  }
 ],
 "metadata": {
  "kernelspec": {
   "display_name": "Python 3",
   "language": "python",
   "name": "python3"
  },
  "language_info": {
   "codemirror_mode": {
    "name": "ipython",
    "version": 3
   },
   "file_extension": ".py",
   "mimetype": "text/x-python",
   "name": "python",
   "nbconvert_exporter": "python",
   "pygments_lexer": "ipython3",
   "version": "3.8.8"
  }
 },
 "nbformat": 4,
 "nbformat_minor": 5
}
