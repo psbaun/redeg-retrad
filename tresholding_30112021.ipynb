{
 "cells": [
  {
   "cell_type": "code",
   "execution_count": 1,
   "id": "e5db72ba",
   "metadata": {},
   "outputs": [],
   "source": [
    "import pandas as pd\n",
    "import numpy as np\n",
    "import spacy\n",
    "from textblob import TextBlob\n",
    "\n",
    "from statistics import mean, stdev\n",
    "from sklearn.metrics import accuracy_score, precision_score, recall_score, confusion_matrix, roc_auc_score, roc_curve, precision_recall_curve\n",
    "\n",
    "from sklearn.model_selection import train_test_split, GridSearchCV\n",
    "from sklearn.feature_extraction.text import CountVectorizer, TfidfVectorizer\n",
    "from sklearn.naive_bayes import MultinomialNB\n",
    "from sklearn.pipeline import Pipeline\n",
    "\n",
    "import matplotlib.pyplot as plt\n",
    "\n",
    "from sklearn.preprocessing import binarize"
   ]
  },
  {
   "cell_type": "code",
   "execution_count": 2,
   "id": "4010ecad",
   "metadata": {},
   "outputs": [],
   "source": [
    "data = pd.read_csv(\"project_18_dataset_combined.csv\")\n",
    "data = data[['label', 'text']]\n",
    "\n",
    "#set display option\n",
    "pd.set_option('display.max_colwidth', None)\n",
    "\n",
    "#make target labels boolean\n",
    "data['label']=data['label'].apply(lambda x: 1 if x == 14 else 0)"
   ]
  },
  {
   "cell_type": "code",
   "execution_count": 3,
   "id": "4119853a",
   "metadata": {},
   "outputs": [
    {
     "name": "stdout",
     "output_type": "stream",
     "text": [
      "(19821, 2)\n",
      "0    18585\n",
      "1     1236\n",
      "Name: label, dtype: int64\n"
     ]
    },
    {
     "data": {
      "text/html": [
       "<div>\n",
       "<style scoped>\n",
       "    .dataframe tbody tr th:only-of-type {\n",
       "        vertical-align: middle;\n",
       "    }\n",
       "\n",
       "    .dataframe tbody tr th {\n",
       "        vertical-align: top;\n",
       "    }\n",
       "\n",
       "    .dataframe thead th {\n",
       "        text-align: right;\n",
       "    }\n",
       "</style>\n",
       "<table border=\"1\" class=\"dataframe\">\n",
       "  <thead>\n",
       "    <tr style=\"text-align: right;\">\n",
       "      <th></th>\n",
       "      <th>label</th>\n",
       "      <th>text</th>\n",
       "    </tr>\n",
       "  </thead>\n",
       "  <tbody>\n",
       "    <tr>\n",
       "      <th>0</th>\n",
       "      <td>0</td>\n",
       "      <td>Serious Youth Violence crimes, lone wolves basically.</td>\n",
       "    </tr>\n",
       "    <tr>\n",
       "      <th>1</th>\n",
       "      <td>0</td>\n",
       "      <td>Yesterday?</td>\n",
       "    </tr>\n",
       "    <tr>\n",
       "      <th>2</th>\n",
       "      <td>0</td>\n",
       "      <td>I would argue with you, but it seems pointless. If I understand you, your argument is this: the UK can do whatever it wants the UK is never wrong</td>\n",
       "    </tr>\n",
       "    <tr>\n",
       "      <th>3</th>\n",
       "      <td>0</td>\n",
       "      <td>the whole thing is pretty dumb desu, school kids could be in a class of 12 or whatever all mingling and thats fine, but if they leave school and they all go to the park then thats not not allowed</td>\n",
       "    </tr>\n",
       "    <tr>\n",
       "      <th>4</th>\n",
       "      <td>0</td>\n",
       "      <td>I fucking hope you re right, lad.</td>\n",
       "    </tr>\n",
       "  </tbody>\n",
       "</table>\n",
       "</div>"
      ],
      "text/plain": [
       "   label  \\\n",
       "0      0   \n",
       "1      0   \n",
       "2      0   \n",
       "3      0   \n",
       "4      0   \n",
       "\n",
       "                                                                                                                                                                                                  text  \n",
       "0                                                                                                                                                Serious Youth Violence crimes, lone wolves basically.  \n",
       "1                                                                                                                                                                                           Yesterday?  \n",
       "2                                                    I would argue with you, but it seems pointless. If I understand you, your argument is this: the UK can do whatever it wants the UK is never wrong  \n",
       "3  the whole thing is pretty dumb desu, school kids could be in a class of 12 or whatever all mingling and thats fine, but if they leave school and they all go to the park then thats not not allowed  \n",
       "4                                                                                                                                                                    I fucking hope you re right, lad.  "
      ]
     },
     "execution_count": 3,
     "metadata": {},
     "output_type": "execute_result"
    }
   ],
   "source": [
    "print(data.shape)\n",
    "print(data.label.value_counts())\n",
    "data.head()"
   ]
  },
  {
   "cell_type": "code",
   "execution_count": 4,
   "id": "c3677d7f",
   "metadata": {},
   "outputs": [
    {
     "name": "stdout",
     "output_type": "stream",
     "text": [
      "(2472, 2)\n",
      "0    1236\n",
      "1    1236\n",
      "Name: label, dtype: int64\n"
     ]
    },
    {
     "data": {
      "text/html": [
       "<div>\n",
       "<style scoped>\n",
       "    .dataframe tbody tr th:only-of-type {\n",
       "        vertical-align: middle;\n",
       "    }\n",
       "\n",
       "    .dataframe tbody tr th {\n",
       "        vertical-align: top;\n",
       "    }\n",
       "\n",
       "    .dataframe thead th {\n",
       "        text-align: right;\n",
       "    }\n",
       "</style>\n",
       "<table border=\"1\" class=\"dataframe\">\n",
       "  <thead>\n",
       "    <tr style=\"text-align: right;\">\n",
       "      <th></th>\n",
       "      <th>label</th>\n",
       "      <th>text</th>\n",
       "    </tr>\n",
       "  </thead>\n",
       "  <tbody>\n",
       "    <tr>\n",
       "      <th>17921</th>\n",
       "      <td>0</td>\n",
       "      <td>pointing out the ruse is lower IQ than the people who just sit back and enjoy the show</td>\n",
       "    </tr>\n",
       "    <tr>\n",
       "      <th>17572</th>\n",
       "      <td>0</td>\n",
       "      <td>I am in bed dingus I am going to sleep Do not summon me again</td>\n",
       "    </tr>\n",
       "    <tr>\n",
       "      <th>15394</th>\n",
       "      <td>0</td>\n",
       "      <td>boy he just has the worst opinions about everything. But is he also the anti-awoo beaner?</td>\n",
       "    </tr>\n",
       "    <tr>\n",
       "      <th>19111</th>\n",
       "      <td>0</td>\n",
       "      <td>DAY OF THE RAKE!</td>\n",
       "    </tr>\n",
       "    <tr>\n",
       "      <th>189</th>\n",
       "      <td>0</td>\n",
       "      <td>Is it Constantine filming from the hell dimension?</td>\n",
       "    </tr>\n",
       "  </tbody>\n",
       "</table>\n",
       "</div>"
      ],
      "text/plain": [
       "       label  \\\n",
       "17921      0   \n",
       "17572      0   \n",
       "15394      0   \n",
       "19111      0   \n",
       "189        0   \n",
       "\n",
       "                                                                                            text  \n",
       "17921     pointing out the ruse is lower IQ than the people who just sit back and enjoy the show  \n",
       "17572                              I am in bed dingus I am going to sleep Do not summon me again  \n",
       "15394  boy he just has the worst opinions about everything. But is he also the anti-awoo beaner?  \n",
       "19111                                                                           DAY OF THE RAKE!  \n",
       "189                                           Is it Constantine filming from the hell dimension?  "
      ]
     },
     "execution_count": 4,
     "metadata": {},
     "output_type": "execute_result"
    }
   ],
   "source": [
    "#Balancing data\n",
    "count_label_0, count_label_1 = data.label.value_counts()\n",
    "\n",
    "data_label_1 = data[data['label'] == 1]\n",
    "data_label_0 = data[data['label'] == 0]\n",
    "\n",
    "data_label_0_b = data_label_0.sample(count_label_1, random_state=88)\n",
    "data_b = pd.concat([data_label_0_b, data_label_1])\n",
    "print(data_b.shape)\n",
    "print(data_b.label.value_counts())\n",
    "data_b.head()"
   ]
  },
  {
   "cell_type": "code",
   "execution_count": 5,
   "id": "166b370f",
   "metadata": {},
   "outputs": [],
   "source": [
    "#lemmatizing\n",
    "nlp = spacy.load('en_core_web_sm')\n",
    "data_b['text_lemmatized'] = data_b['text'].apply(lambda x: \" \".join([words.lemma_ for words in nlp(x)]))"
   ]
  },
  {
   "cell_type": "code",
   "execution_count": 65,
   "id": "a8688b1b",
   "metadata": {},
   "outputs": [],
   "source": [
    "#train/test splitting again\n",
    "X_train, X_test, y_train, y_test = train_test_split(data_b.text_lemmatized, data_b.label, test_size=0.25, random_state=14, stratify=data_b.label)\n",
    "\n",
    "#remember to set parameters\n",
    "pipeline = Pipeline([ ('vectorizer', TfidfVectorizer(lowercase=True, max_df=0.3, min_df=2, ngram_range=(1, 5), smooth_idf=True, sublinear_tf=True, use_idf=False)), ('classifier', MultinomialNB(alpha=0.1, fit_prior=False)) ])\n",
    "\n",
    "model = pipeline.fit(X_train, y_train)\n",
    "\n",
    "y_pred_class = model.predict(X_test)"
   ]
  },
  {
   "cell_type": "code",
   "execution_count": 66,
   "id": "d799354b",
   "metadata": {},
   "outputs": [],
   "source": [
    "#y_pred_class_new = binarize([y_pred_prob], 0.9)[0]\n",
    "\n",
    "y_pred_class_new = (model.predict_proba(X_test)[:,1] >= 0.9).astype(bool)"
   ]
  },
  {
   "cell_type": "code",
   "execution_count": 67,
   "id": "31374348",
   "metadata": {},
   "outputs": [
    {
     "name": "stdout",
     "output_type": "stream",
     "text": [
      "[[229  80]\n",
      " [ 53 256]]\n",
      "[[308   1]\n",
      " [246  63]]\n"
     ]
    }
   ],
   "source": [
    "print(confusion_matrix(y_test, y_pred_class))\n",
    "print(confusion_matrix(y_test, y_pred_class_new))"
   ]
  },
  {
   "cell_type": "code",
   "execution_count": 68,
   "id": "9425d47c",
   "metadata": {},
   "outputs": [
    {
     "name": "stdout",
     "output_type": "stream",
     "text": [
      "default threshold accuracy: 0.7847896440129449\n",
      "new threshold accuracy: 0.6003236245954693\n",
      "-----\n",
      "default threshold precision: 0.7619047619047619\n",
      "new threshold precision: 0.984375\n",
      "-----\n",
      "default threshold recall: 0.8284789644012945\n",
      "new threshold recall: 0.20388349514563106\n"
     ]
    }
   ],
   "source": [
    "print('default threshold accuracy:', accuracy_score(y_test, y_pred_class))\n",
    "print('new threshold accuracy:', accuracy_score(y_test, y_pred_class_new))\n",
    "print('-----')\n",
    "print('default threshold precision:', precision_score(y_test, y_pred_class))\n",
    "print('new threshold precision:', precision_score(y_test, y_pred_class_new))\n",
    "print('-----')\n",
    "print('default threshold recall:', recall_score(y_test, y_pred_class))\n",
    "print('new threshold recall:', recall_score(y_test, y_pred_class_new))"
   ]
  },
  {
   "cell_type": "code",
   "execution_count": 10,
   "id": "87fc48a4",
   "metadata": {},
   "outputs": [],
   "source": [
    "threshold_range = (np.linspace(0.01,0.99,99))\n",
    "y_pred_class_precision_scores = []\n",
    "y_pred_class_recall_scores = []\n",
    "\n",
    "for th in threshold_range:\n",
    "    #insert model also?\n",
    "    \n",
    "    y_pred_prob = model.predict_proba(X_test)[:, 1]\n",
    "    y_pred_class_new = (model.predict_proba(X_test)[:,1] >= th).astype(bool)\n",
    "    \n",
    "    y_pred_class_precision_scores.append(precision_score(y_test, y_pred_class_new))\n",
    "    y_pred_class_recall_scores.append(recall_score(y_test, y_pred_class_new))"
   ]
  },
  {
   "cell_type": "code",
   "execution_count": 28,
   "id": "a8612b2e",
   "metadata": {},
   "outputs": [
    {
     "data": {
      "image/png": "[encoded data removed]",
      "text/plain": [
       "<Figure size 432x288 with 2 Axes>"
      ]
     },
     "metadata": {},
     "output_type": "display_data"
    }
   ],
   "source": [
    "fig, ax1 = plt.subplots()\n",
    "\n",
    "color = 'tab:orange'\n",
    "ax1.set_xlabel('threshold value')\n",
    "ax1.set_ylabel('recall score', color=color)\n",
    "ax1.plot(threshold_range, y_pred_class_recall_scores, color=color)\n",
    "ax1.tick_params(axis='y', labelcolor=color)\n",
    "\n",
    "ax2 = ax1.twinx()\n",
    "\n",
    "color = 'tab:blue'\n",
    "ax2.set_ylabel('precision score', color=color)\n",
    "ax2.set_ylim(ax1.get_ylim())\n",
    "ax2.plot(threshold_range, y_pred_class_precision_scores, color=color)\n",
    "ax2.tick_params(axis='y', labelcolor=color)\n",
    "\n",
    "plt.grid(True)"
   ]
  },
  {
   "cell_type": "code",
   "execution_count": null,
   "id": "ce432669",
   "metadata": {},
   "outputs": [],
   "source": []
  }
 ],
 "metadata": {
  "kernelspec": {
   "display_name": "Python 3",
   "language": "python",
   "name": "python3"
  },
  "language_info": {
   "codemirror_mode": {
    "name": "ipython",
    "version": 3
   },
   "file_extension": ".py",
   "mimetype": "text/x-python",
   "name": "python",
   "nbconvert_exporter": "python",
   "pygments_lexer": "ipython3",
   "version": "3.8.8"
  }
 },
 "nbformat": 4,
 "nbformat_minor": 5
}
