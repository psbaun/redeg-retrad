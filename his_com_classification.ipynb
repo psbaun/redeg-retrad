{
 "cells": [
  {
   "cell_type": "code",
   "execution_count": 1,
   "id": "dfa0c0cd",
   "metadata": {},
   "outputs": [],
   "source": [
    "import pandas as pd"
   ]
  },
  {
   "cell_type": "code",
   "execution_count": 2,
   "id": "d55839ac",
   "metadata": {},
   "outputs": [],
   "source": [
    "import numpy as np"
   ]
  },
  {
   "cell_type": "code",
   "execution_count": 10,
   "id": "6704a14e",
   "metadata": {},
   "outputs": [
    {
     "name": "stdout",
     "output_type": "stream",
     "text": [
      "(19821, 2)\n",
      "0    18585\n",
      "1     1236\n",
      "Name: label, dtype: int64\n"
     ]
    }
   ],
   "source": [
    "data = pd.read_csv(\"project_18_dataset_combined.csv\")\n",
    "data = data[['label', 'text']]\n",
    "\n",
    "#set display option\n",
    "pd.set_option('display.max_colwidth', None)\n",
    "\n",
    "#make target labels boolean\n",
    "data['label']=data['label'].apply(lambda x: 1 if x == 14 else 0)\n",
    "\n",
    "print(data.shape)\n",
    "print(data.label.value_counts())"
   ]
  },
  {
   "cell_type": "code",
   "execution_count": 11,
   "id": "7204e408",
   "metadata": {},
   "outputs": [
    {
     "name": "stdout",
     "output_type": "stream",
     "text": [
      "(2472, 2)\n",
      "0    1236\n",
      "1    1236\n",
      "Name: label, dtype: int64\n"
     ]
    }
   ],
   "source": [
    "#Balancing data\n",
    "count_label_0, count_label_1 = data.label.value_counts()\n",
    "\n",
    "data_label_1 = data[data['label'] == 1]\n",
    "data_label_0 = data[data['label'] == 0]\n",
    "\n",
    "data_label_0_b = data_label_0.sample(count_label_1, random_state=88)\n",
    "data_b = pd.concat([data_label_0_b, data_label_1])\n",
    "print(data_b.shape)\n",
    "print(data_b.label.value_counts())"
   ]
  },
  {
   "cell_type": "code",
   "execution_count": 12,
   "id": "d409d62e",
   "metadata": {},
   "outputs": [],
   "source": [
    "#lemmatizing\n",
    "import spacy\n",
    "nlp = spacy.load('en_core_web_sm')\n",
    "data_b['text_lemmatized'] = data_b['text'].apply(lambda x: \" \".join([words.lemma_ for words in nlp(x)]))"
   ]
  },
  {
   "cell_type": "code",
   "execution_count": 14,
   "id": "a250a3bc",
   "metadata": {},
   "outputs": [],
   "source": [
    "from sklearn.feature_extraction.text import TfidfVectorizer\n",
    "from sklearn.naive_bayes import MultinomialNB\n",
    "from sklearn.pipeline import Pipeline\n",
    "\n",
    "pipeline = Pipeline([ ('vectorizer', TfidfVectorizer(lowercase=True, max_df=0.5, max_features=5000, min_df=1, ngram_range=(1, 3), smooth_idf=True, sublinear_tf=True, use_idf=False)), ('classifier', MultinomialNB(alpha=0.1, fit_prior=False)) ])\n",
    "#Pipeline([ ('vectorizer', CountVectorizer(lowercase=True, max_df=0.5, max_features=7000, min_df=1, ngram_range=(1, 3))), ('classifier', MultinomialNB(alpha=0.4, fit_prior=False)) ])\n",
    "\n",
    "model = pipeline.fit(data_b['text_lemmatized'], data_b['label'])"
   ]
  },
  {
   "cell_type": "code",
   "execution_count": 6,
   "id": "c3d39807",
   "metadata": {},
   "outputs": [
    {
     "name": "stdout",
     "output_type": "stream",
     "text": [
      "(7359397, 1)\n"
     ]
    }
   ],
   "source": [
    "chunk = pd.read_csv('com_1to50.csv', chunksize=1000000)\n",
    "com_1to50 = pd.concat(chunk)\n",
    "com_1to50 = com_1to50[['com']]\n",
    "print(com_1to50.shape)"
   ]
  },
  {
   "cell_type": "code",
   "execution_count": 7,
   "id": "d55943ea",
   "metadata": {},
   "outputs": [
    {
     "name": "stdout",
     "output_type": "stream",
     "text": [
      "(6495817, 1)\n"
     ]
    }
   ],
   "source": [
    "chunk = pd.read_csv('com_51to100.csv', chunksize=1000000)\n",
    "com_51to100 = pd.concat(chunk)\n",
    "com_51to100 = com_51to100[['com']]\n",
    "print(com_51to100.shape)"
   ]
  },
  {
   "cell_type": "code",
   "execution_count": 9,
   "id": "7899c5a7",
   "metadata": {},
   "outputs": [
    {
     "name": "stdout",
     "output_type": "stream",
     "text": [
      "(7345523, 1)\n"
     ]
    }
   ],
   "source": [
    "chunk = pd.read_csv('com_101to150.csv', chunksize=1000000)\n",
    "com_101to150 = pd.concat(chunk)\n",
    "com_101to150 = com_101to150[['com']]\n",
    "print(com_101to150.shape)"
   ]
  },
  {
   "cell_type": "code",
   "execution_count": null,
   "id": "c23c38c7",
   "metadata": {},
   "outputs": [],
   "source": [
    "chunk = pd.read_csv('com_151to200.csv', chunksize=1000000)\n",
    "com_151to200 = pd.concat(chunk)\n",
    "com_151to200 = com_151to200[['com']]\n",
    "print(com_150to201.shape)"
   ]
  },
  {
   "cell_type": "code",
   "execution_count": null,
   "id": "6a3a7b95",
   "metadata": {},
   "outputs": [],
   "source": [
    "chunk = pd.read_csv('com_201to250.csv', chunksize=1000000)\n",
    "com_201to250 = pd.concat(chunk)\n",
    "com_201to250 = com_201to250[['com']]\n",
    "print(com_201to250.shape)"
   ]
  },
  {
   "cell_type": "code",
   "execution_count": null,
   "id": "a5235b90",
   "metadata": {},
   "outputs": [],
   "source": [
    "chunk = pd.read_csv('com_251to300.csv', chunksize=1000000)\n",
    "com_251to300 = pd.concat(chunk)\n",
    "com_251to300 = com_251to300[['com']]\n",
    "print(com_251to300.shape)"
   ]
  },
  {
   "cell_type": "code",
   "execution_count": null,
   "id": "0cea4786",
   "metadata": {},
   "outputs": [],
   "source": [
    "chunk = pd.read_csv('com_301to350.csv', chunksize=1000000)\n",
    "com_301to350 = pd.concat(chunk)\n",
    "com_301to350 = com_301to350[['com']]\n",
    "print(com_251to300.shape)"
   ]
  },
  {
   "cell_type": "code",
   "execution_count": null,
   "id": "fc031ce5",
   "metadata": {},
   "outputs": [],
   "source": [
    "chunk = pd.read_csv('com_351to400.csv', chunksize=1000000)\n",
    "com_351to400 = pd.concat(chunk)\n",
    "com_351to400 = com_351to400[['com']]\n",
    "print(com_351to400.shape)"
   ]
  },
  {
   "cell_type": "code",
   "execution_count": null,
   "id": "3cec71f7",
   "metadata": {},
   "outputs": [],
   "source": [
    "chunk = pd.read_csv('com_401to459.csv', chunksize=1000000)\n",
    "com_401to459 = pd.concat(chunk)\n",
    "com_401to459 = com_401to459[['com']]\n",
    "print(com_401to459.shape)"
   ]
  },
  {
   "cell_type": "code",
   "execution_count": null,
   "id": "d7ff269a",
   "metadata": {},
   "outputs": [],
   "source": [
    "chunk = pd.read_csv('com_460.csv', chunksize=1000000)\n",
    "com_460 = pd.concat(chunk)\n",
    "com_460 = com_460[['com']]\n",
    "print(com_460.shape)"
   ]
  },
  {
   "cell_type": "code",
   "execution_count": null,
   "id": "89527a40",
   "metadata": {},
   "outputs": [],
   "source": [
    "len(com_1to50)+len(com_51to100)+len(com_101to150)+len(com_150to201)+len(com_201to250)+len(com_251to300)+len(com_301to350)+len(com_351to400)+len(com_401to459)+len(com_460)"
   ]
  },
  {
   "cell_type": "code",
   "execution_count": null,
   "id": "4a182a3e",
   "metadata": {},
   "outputs": [],
   "source": [
    "all_com = pd.concat([com_1to50, com_51to100, com_101to150, com_150to201, com_201to250, com_251to300, com_301to350, com_351to400, com_401to459, com_460])"
   ]
  },
  {
   "cell_type": "code",
   "execution_count": 23,
   "id": "641f67e5",
   "metadata": {},
   "outputs": [],
   "source": [
    "y_pred = model.predict(all_com['com'].apply(lambda x: np.str_(x)))"
   ]
  },
  {
   "cell_type": "code",
   "execution_count": 26,
   "id": "92ed187a",
   "metadata": {},
   "outputs": [
    {
     "name": "stdout",
     "output_type": "stream",
     "text": [
      "# his_com: 2096185\n",
      "# non-his_com: 5263213\n"
     ]
    }
   ],
   "source": [
    "print('# his_com:', np.count_nonzero(y_pred == 1))\n",
    "print('# non-his_com:', np.count_nonzero(y_pred == 0))"
   ]
  },
  {
   "cell_type": "code",
   "execution_count": 27,
   "id": "830db07d",
   "metadata": {},
   "outputs": [],
   "source": [
    "y_pred_prob = model.predict_proba(all_com['com'].apply(lambda x: np.str_(x)))[:, 1]"
   ]
  },
  {
   "cell_type": "code",
   "execution_count": 31,
   "id": "b212f6d5",
   "metadata": {},
   "outputs": [
    {
     "data": {
      "image/png": "[encoded data removed]",
      "text/plain": [
       "<Figure size 432x288 with 1 Axes>"
      ]
     },
     "metadata": {
      "needs_background": "light"
     },
     "output_type": "display_data"
    }
   ],
   "source": [
    "import matplotlib.pyplot as plt\n",
    "\n",
    "plt.hist(y_pred_prob, bins=100)\n",
    "plt.xlim(0, 1)\n",
    "plt.title('Histogram of predicted probabilities')\n",
    "plt.xlabel('Predicted probability of history-comment')\n",
    "plt.ylabel('Frequency')\n",
    "\n",
    "plt.grid(True)"
   ]
  },
  {
   "cell_type": "code",
   "execution_count": 38,
   "id": "25c8a958",
   "metadata": {},
   "outputs": [],
   "source": [
    "com_df = pd.DataFrame({'com':all_com['com'].apply(lambda x: np.str_(x)), 'class':y_pred, 'proba':y_pred_prob})"
   ]
  },
  {
   "cell_type": "code",
   "execution_count": 39,
   "id": "3462569c",
   "metadata": {},
   "outputs": [],
   "source": [
    "sorted_proba = com_df.sort_values('proba', ascending=False)"
   ]
  },
  {
   "cell_type": "code",
   "execution_count": 44,
   "id": "4e370d4b",
   "metadata": {},
   "outputs": [],
   "source": [
    "sorted_proba['characters'] = sorted_proba['com'].str.len()\n",
    "\n",
    "sorted_proba['words'] = [len(x.split()) for x in sorted_proba['com'].tolist()]"
   ]
  },
  {
   "cell_type": "code",
   "execution_count": 45,
   "id": "0fe010bc",
   "metadata": {},
   "outputs": [
    {
     "name": "stdout",
     "output_type": "stream",
     "text": [
      "average # of characters in pred comments: 129.97375804379652\n",
      "average # of word in pred comments: 26.72724535349223\n",
      "-----\n",
      "average # of characters in pos pred comments: 168.95880945622642\n",
      "average # of characters in neg pred comments: 114.44714340840851\n",
      "-----\n",
      "average # of words in pos pred comments: 34.00120933982449\n",
      "average # of words in neg pred comments: 23.83023658742293\n",
      "-----\n",
      "average # of characters with pos pred_proba above 90%: 409.9425024742572\n",
      "average # of characters with pos pred_proba below 90%: 126.31333210359533\n",
      "-----\n",
      "average # of words with pos pred_proba above 90%: 77.43040493587989\n",
      "average # of words with pos pred_proba below 90%: 26.064331495150334\n"
     ]
    }
   ],
   "source": [
    "print('average # of characters in pred comments:', sorted_proba.characters.mean())\n",
    "print('average # of word in pred comments:', sorted_proba.words.mean())\n",
    "print('-----')\n",
    "print('average # of characters in pos pred comments:', sorted_proba.characters[sorted_proba['class'] == 1].mean())\n",
    "print('average # of characters in neg pred comments:', sorted_proba.characters[sorted_proba['class'] == 0].mean())\n",
    "print('-----')\n",
    "print('average # of words in pos pred comments:', sorted_proba.words[sorted_proba['class'] == 1].mean())\n",
    "print('average # of words in neg pred comments:', sorted_proba.words[sorted_proba['class'] == 0].mean())\n",
    "print('-----')\n",
    "print('average # of characters with pos pred_proba above 90%:', sorted_proba.characters[sorted_proba['proba'] >= 0.9].mean())\n",
    "print('average # of characters with pos pred_proba below 90%:', sorted_proba.characters[sorted_proba['proba'] < 0.9].mean())\n",
    "print('-----')\n",
    "print('average # of words with pos pred_proba above 90%:', sorted_proba.words[sorted_proba['proba'] >= 0.9].mean())\n",
    "print('average # of words with pos pred_proba below 90%:', sorted_proba.words[sorted_proba['proba'] < 0.9].mean())"
   ]
  },
  {
   "cell_type": "code",
   "execution_count": 58,
   "id": "2eae2dda",
   "metadata": {},
   "outputs": [
    {
     "name": "stdout",
     "output_type": "stream",
     "text": [
      "average # of characters with pred_proba at 50%: 17.75004687379369\n",
      "-----\n",
      "average # of words with pred_proba at 50%: 3.0268559265018915\n"
     ]
    }
   ],
   "source": [
    "print('average # of characters with pred_proba at 50%:', sorted_proba.characters[sorted_proba['proba'] == 0.5].mean())\n",
    "print('-----')\n",
    "print('average # of words with pred_proba at 50%:', sorted_proba.words[sorted_proba['proba'] == 0.5].mean())"
   ]
  },
  {
   "cell_type": "code",
   "execution_count": 56,
   "id": "7d5bdf29",
   "metadata": {},
   "outputs": [
    {
     "name": "stdout",
     "output_type": "stream",
     "text": [
      "64.71088126640427\n",
      "13.069743617062691\n"
     ]
    }
   ],
   "source": [
    "print(sorted_proba.characters[(sorted_proba['proba'] >= 0.49) & (sorted_proba['proba'] <= 0.51)].mean())\n",
    "print(sorted_proba.words[(sorted_proba['proba'] >= 0.49) & (sorted_proba['proba'] <= 0.51)].mean())"
   ]
  },
  {
   "cell_type": "code",
   "execution_count": 64,
   "id": "3ce2e8c0",
   "metadata": {},
   "outputs": [],
   "source": [
    "com_50prob = com_df.loc[(com_df['proba'] == 0.5)]\n",
    "com_50prob"
   ]
  },
  {
   "cell_type": "code",
   "execution_count": 59,
   "id": "758a3fa2",
   "metadata": {},
   "outputs": [],
   "source": [
    "y_pred_th = (model.predict_proba(all_com['com'].apply(lambda x: np.str_(x)))[:, 1] >= 0.9).astype(bool)"
   ]
  },
  {
   "cell_type": "code",
   "execution_count": 60,
   "id": "a2838049",
   "metadata": {},
   "outputs": [
    {
     "name": "stdout",
     "output_type": "stream",
     "text": [
      "# his_com with 90% thresholding: 94978\n",
      "# non-his_com with 90% thresholding: 7264420\n"
     ]
    }
   ],
   "source": [
    "print('# his_com with 90% thresholding:', np.count_nonzero(y_pred_th == 1))\n",
    "print('# non-his_com with 90% thresholding:', np.count_nonzero(y_pred_th == 0))"
   ]
  },
  {
   "cell_type": "code",
   "execution_count": null,
   "id": "f5495123",
   "metadata": {},
   "outputs": [],
   "source": [
    "print('# his_com with 90% thresholding:', np.count_nonzero(y_pred_th == 1))\n",
    "print('# non-his_com with 90% thresholding:', np.count_nonzero(y_pred_th == 0))"
   ]
  },
  {
   "cell_type": "code",
   "execution_count": null,
   "id": "a32396c3",
   "metadata": {},
   "outputs": [],
   "source": [
    "his_com90 = com_df.loc[(com_df['proba'] >= 0.9)]"
   ]
  },
  {
   "cell_type": "code",
   "execution_count": null,
   "id": "d3f84efe",
   "metadata": {},
   "outputs": [],
   "source": [
    "his_com90.to_csv('his_com.csv')"
   ]
  },
  {
   "cell_type": "code",
   "execution_count": null,
   "id": "02ae65bc",
   "metadata": {},
   "outputs": [],
   "source": [
    "his_com75 = com_df.loc[(com_df['proba'] >= 0.75)]"
   ]
  },
  {
   "cell_type": "code",
   "execution_count": null,
   "id": "26e875e4",
   "metadata": {},
   "outputs": [],
   "source": [
    "his_com75.to_csv('his_com.csv')"
   ]
  }
 ],
 "metadata": {
  "kernelspec": {
   "display_name": "Python 3",
   "language": "python",
   "name": "python3"
  },
  "language_info": {
   "codemirror_mode": {
    "name": "ipython",
    "version": 3
   },
   "file_extension": ".py",
   "mimetype": "text/x-python",
   "name": "python",
   "nbconvert_exporter": "python",
   "pygments_lexer": "ipython3",
   "version": "3.8.8"
  }
 },
 "nbformat": 4,
 "nbformat_minor": 5
}
